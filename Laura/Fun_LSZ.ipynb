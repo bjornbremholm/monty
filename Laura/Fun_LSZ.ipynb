{
 "cells": [
  {
   "cell_type": "code",
   "execution_count": 1,
   "source": [
    "import matplotlib.pyplot as plt\r\n",
    "import numpy as np \r\n",
    "import pandas as pd\r\n",
    "import seaborn as sns\r\n",
    "import requests\r\n",
    "import re\r\n",
    "from bs4 import BeautifulSoup"
   ],
   "outputs": [],
   "metadata": {}
  },
  {
   "cell_type": "code",
   "execution_count": 2,
   "source": [
    "# url = 'https://www.boligsiden.dk/salgspris/solgt/alle/1/getdata?periode.from=2014-01-01&periode.to=2021-12-31&kommune=101'\r\n",
    "url = 'https://www.boligsiden.dk/salespriceresult/getdata?salgspristype=solgt&periode.from=2014-01-01&periode.to=2021-12-31&kommune=101&boligtype=alle&side=1'\r\n",
    "\r\n",
    "page = requests.get(url) \r\n",
    "# soup = BeautifulSoup(page.text, 'html.parser')\r\n",
    "\r\n"
   ],
   "outputs": [],
   "metadata": {}
  },
  {
   "cell_type": "code",
   "execution_count": 3,
   "source": [
    "# Get the available information and storing in dataframe\r\n",
    "df = pd.DataFrame(page.json()['searchResult']['result']['propertySales'])\r\n",
    "df.head(5)\r\n"
   ],
   "outputs": [
    {
     "output_type": "execute_result",
     "data": {
      "text/plain": [
       "  residentialArea postal         city                    address  \\\n",
       "0             101   2300  København S  Islands Brygge 38B, 6. tv   \n",
       "1             210   1253  København K     Toldbodgade 36B, 1. th   \n",
       "2             155   2300  København S               Carlsgade 5B   \n",
       "3              57   2200  København N      Hamletsgade 17, 4. th   \n",
       "4              95   2700     Brønshøj            Enigheds Allé 4   \n",
       "\n",
       "    itemTypeName                                          addressId  \\\n",
       "0  Ejerlejlighed  islands-brygge-38b-6-tv-2300-koebenhavn-s-0101...   \n",
       "1  Ejerlejlighed  toldbodgade-36b-1-th-1253-koebenhavn-k-0101754...   \n",
       "2  Ejerlejlighed  carlsgade-5b-2300-koebenhavn-s-01011080__5b___...   \n",
       "3  Ejerlejlighed  hamletsgade-17-4-th-2200-koebenhavn-n-01012552...   \n",
       "4       Rækkehus  enigheds-alle-4-2700-broenshoej-01011624___4__...   \n",
       "\n",
       "                                         addressLink  \\\n",
       "0  ~/adresse/islands-brygge-38b-6-tv-2300-koebenh...   \n",
       "1  ~/adresse/toldbodgade-36b-1-th-1253-koebenhavn...   \n",
       "2  ~/adresse/carlsgade-5b-2300-koebenhavn-s-01011...   \n",
       "3  ~/adresse/hamletsgade-17-4-th-2200-koebenhavn-...   \n",
       "4  ~/adresse/enigheds-alle-4-2700-broenshoej-0101...   \n",
       "\n",
       "                                             bbrLink  \\\n",
       "0  ~/adresse/islands-brygge-38b-6-tv-2300-koebenh...   \n",
       "1  ~/adresse/toldbodgade-36b-1-th-1253-koebenhavn...   \n",
       "2  ~/adresse/carlsgade-5b-2300-koebenhavn-s-01011...   \n",
       "3  ~/adresse/hamletsgade-17-4-th-2200-koebenhavn-...   \n",
       "4  ~/adresse/enigheds-alle-4-2700-broenshoej-0101...   \n",
       "\n",
       "                                            soldLink  \\\n",
       "0  ~/adresse/islands-brygge-38b-6-tv-2300-koebenh...   \n",
       "1  ~/adresse/toldbodgade-36b-1-th-1253-koebenhavn...   \n",
       "2  ~/adresse/carlsgade-5b-2300-koebenhavn-s-01011...   \n",
       "3  ~/adresse/hamletsgade-17-4-th-2200-koebenhavn-...   \n",
       "4  ~/adresse/enigheds-alle-4-2700-broenshoej-0101...   \n",
       "\n",
       "                                               sales  \\\n",
       "0  [{'saleDate': '22-12-2021', 'salePrice': '6.75...   \n",
       "1  [{'saleDate': '13-12-2021', 'salePrice': '14.6...   \n",
       "2  [{'saleDate': '20-10-2021', 'salePrice': '7.49...   \n",
       "3  [{'saleDate': '15-07-2021', 'salePrice': '1.15...   \n",
       "4  [{'saleDate': '15-07-2021', 'salePrice': '2.25...   \n",
       "\n",
       "                                         mapPosition  \\\n",
       "0  {'hasCoordinates': True, 'latLng': {'lat': 55....   \n",
       "1  {'hasCoordinates': True, 'latLng': {'lat': 55....   \n",
       "2  {'hasCoordinates': True, 'latLng': {'lat': 55....   \n",
       "3  {'hasCoordinates': True, 'latLng': {'lat': 55....   \n",
       "4  {'hasCoordinates': True, 'latLng': {'lat': 55....   \n",
       "\n",
       "                            wishPropertyLocationLink  \n",
       "0  https://minside.boligsiden.dk/oenskeboliger?po...  \n",
       "1  https://minside.boligsiden.dk/oenskeboliger?po...  \n",
       "2  https://minside.boligsiden.dk/oenskeboliger?po...  \n",
       "3  https://minside.boligsiden.dk/oenskeboliger?po...  \n",
       "4  https://minside.boligsiden.dk/oenskeboliger?po...  "
      ],
      "text/html": [
       "<div>\n",
       "<style scoped>\n",
       "    .dataframe tbody tr th:only-of-type {\n",
       "        vertical-align: middle;\n",
       "    }\n",
       "\n",
       "    .dataframe tbody tr th {\n",
       "        vertical-align: top;\n",
       "    }\n",
       "\n",
       "    .dataframe thead th {\n",
       "        text-align: right;\n",
       "    }\n",
       "</style>\n",
       "<table border=\"1\" class=\"dataframe\">\n",
       "  <thead>\n",
       "    <tr style=\"text-align: right;\">\n",
       "      <th></th>\n",
       "      <th>residentialArea</th>\n",
       "      <th>postal</th>\n",
       "      <th>city</th>\n",
       "      <th>address</th>\n",
       "      <th>itemTypeName</th>\n",
       "      <th>addressId</th>\n",
       "      <th>addressLink</th>\n",
       "      <th>bbrLink</th>\n",
       "      <th>soldLink</th>\n",
       "      <th>sales</th>\n",
       "      <th>mapPosition</th>\n",
       "      <th>wishPropertyLocationLink</th>\n",
       "    </tr>\n",
       "  </thead>\n",
       "  <tbody>\n",
       "    <tr>\n",
       "      <th>0</th>\n",
       "      <td>101</td>\n",
       "      <td>2300</td>\n",
       "      <td>København S</td>\n",
       "      <td>Islands Brygge 38B, 6. tv</td>\n",
       "      <td>Ejerlejlighed</td>\n",
       "      <td>islands-brygge-38b-6-tv-2300-koebenhavn-s-0101...</td>\n",
       "      <td>~/adresse/islands-brygge-38b-6-tv-2300-koebenh...</td>\n",
       "      <td>~/adresse/islands-brygge-38b-6-tv-2300-koebenh...</td>\n",
       "      <td>~/adresse/islands-brygge-38b-6-tv-2300-koebenh...</td>\n",
       "      <td>[{'saleDate': '22-12-2021', 'salePrice': '6.75...</td>\n",
       "      <td>{'hasCoordinates': True, 'latLng': {'lat': 55....</td>\n",
       "      <td>https://minside.boligsiden.dk/oenskeboliger?po...</td>\n",
       "    </tr>\n",
       "    <tr>\n",
       "      <th>1</th>\n",
       "      <td>210</td>\n",
       "      <td>1253</td>\n",
       "      <td>København K</td>\n",
       "      <td>Toldbodgade 36B, 1. th</td>\n",
       "      <td>Ejerlejlighed</td>\n",
       "      <td>toldbodgade-36b-1-th-1253-koebenhavn-k-0101754...</td>\n",
       "      <td>~/adresse/toldbodgade-36b-1-th-1253-koebenhavn...</td>\n",
       "      <td>~/adresse/toldbodgade-36b-1-th-1253-koebenhavn...</td>\n",
       "      <td>~/adresse/toldbodgade-36b-1-th-1253-koebenhavn...</td>\n",
       "      <td>[{'saleDate': '13-12-2021', 'salePrice': '14.6...</td>\n",
       "      <td>{'hasCoordinates': True, 'latLng': {'lat': 55....</td>\n",
       "      <td>https://minside.boligsiden.dk/oenskeboliger?po...</td>\n",
       "    </tr>\n",
       "    <tr>\n",
       "      <th>2</th>\n",
       "      <td>155</td>\n",
       "      <td>2300</td>\n",
       "      <td>København S</td>\n",
       "      <td>Carlsgade 5B</td>\n",
       "      <td>Ejerlejlighed</td>\n",
       "      <td>carlsgade-5b-2300-koebenhavn-s-01011080__5b___...</td>\n",
       "      <td>~/adresse/carlsgade-5b-2300-koebenhavn-s-01011...</td>\n",
       "      <td>~/adresse/carlsgade-5b-2300-koebenhavn-s-01011...</td>\n",
       "      <td>~/adresse/carlsgade-5b-2300-koebenhavn-s-01011...</td>\n",
       "      <td>[{'saleDate': '20-10-2021', 'salePrice': '7.49...</td>\n",
       "      <td>{'hasCoordinates': True, 'latLng': {'lat': 55....</td>\n",
       "      <td>https://minside.boligsiden.dk/oenskeboliger?po...</td>\n",
       "    </tr>\n",
       "    <tr>\n",
       "      <th>3</th>\n",
       "      <td>57</td>\n",
       "      <td>2200</td>\n",
       "      <td>København N</td>\n",
       "      <td>Hamletsgade 17, 4. th</td>\n",
       "      <td>Ejerlejlighed</td>\n",
       "      <td>hamletsgade-17-4-th-2200-koebenhavn-n-01012552...</td>\n",
       "      <td>~/adresse/hamletsgade-17-4-th-2200-koebenhavn-...</td>\n",
       "      <td>~/adresse/hamletsgade-17-4-th-2200-koebenhavn-...</td>\n",
       "      <td>~/adresse/hamletsgade-17-4-th-2200-koebenhavn-...</td>\n",
       "      <td>[{'saleDate': '15-07-2021', 'salePrice': '1.15...</td>\n",
       "      <td>{'hasCoordinates': True, 'latLng': {'lat': 55....</td>\n",
       "      <td>https://minside.boligsiden.dk/oenskeboliger?po...</td>\n",
       "    </tr>\n",
       "    <tr>\n",
       "      <th>4</th>\n",
       "      <td>95</td>\n",
       "      <td>2700</td>\n",
       "      <td>Brønshøj</td>\n",
       "      <td>Enigheds Allé 4</td>\n",
       "      <td>Rækkehus</td>\n",
       "      <td>enigheds-alle-4-2700-broenshoej-01011624___4__...</td>\n",
       "      <td>~/adresse/enigheds-alle-4-2700-broenshoej-0101...</td>\n",
       "      <td>~/adresse/enigheds-alle-4-2700-broenshoej-0101...</td>\n",
       "      <td>~/adresse/enigheds-alle-4-2700-broenshoej-0101...</td>\n",
       "      <td>[{'saleDate': '15-07-2021', 'salePrice': '2.25...</td>\n",
       "      <td>{'hasCoordinates': True, 'latLng': {'lat': 55....</td>\n",
       "      <td>https://minside.boligsiden.dk/oenskeboliger?po...</td>\n",
       "    </tr>\n",
       "  </tbody>\n",
       "</table>\n",
       "</div>"
      ]
     },
     "metadata": {},
     "execution_count": 3
    }
   ],
   "metadata": {}
  },
  {
   "cell_type": "code",
   "execution_count": 4,
   "source": [
    "# Get a list over addresses\r\n",
    "address_mislabeled = df['addressLink'].to_list()\r\n",
    "address = []\r\n",
    "\r\n",
    "for i in range(len(address_mislabeled)):\r\n",
    "    address.append(address_mislabeled[i].replace(\"~\",\"\"))\r\n",
    "\r\n",
    "# print(address_mislabeled[0:3])\r\n",
    "# print(address[0:3])"
   ],
   "outputs": [],
   "metadata": {}
  },
  {
   "cell_type": "code",
   "execution_count": 5,
   "source": [
    "print(address[0])"
   ],
   "outputs": [
    {
     "output_type": "stream",
     "name": "stdout",
     "text": [
      "/adresse/islands-brygge-38b-6-tv-2300-koebenhavn-s-01013300_38b__6__tv\n"
     ]
    }
   ],
   "metadata": {}
  },
  {
   "cell_type": "code",
   "execution_count": 6,
   "source": [
    "def get_url(address):\r\n",
    "    url =  f\"https://www.boligsiden.dk{address}\"\r\n",
    "    return url\r\n"
   ],
   "outputs": [],
   "metadata": {}
  },
  {
   "cell_type": "code",
   "execution_count": 7,
   "source": [
    "add = address[0]\r\n",
    "url = get_url(add)\r\n",
    "\r\n",
    "response = requests.get(url) \r\n",
    "soup = BeautifulSoup(response.text, 'html.parser')\r\n"
   ],
   "outputs": [],
   "metadata": {}
  },
  {
   "cell_type": "code",
   "execution_count": 28,
   "source": [
    "# data = soup.find_all('div', {'id':'dynamicText'})\r\n",
    "data = soup.body.find('div', attrs={'class':'u-w-full u-w-1/2@sm u-pl-4 u-pr-6'})\r\n",
    "\r\n",
    "for span in data.span.find_all('span', recursive=False):\r\n",
    "    print (span.attrs)"
   ],
   "outputs": [],
   "metadata": {}
  },
  {
   "cell_type": "code",
   "execution_count": 25,
   "source": [
    "data.find_all('span')"
   ],
   "outputs": [
    {
     "output_type": "execute_result",
     "data": {
      "text/plain": [
       "[<span>Tog</span>,\n",
       " <span v-html=\"nearestPoisAsync.state.isLoaded ? nearestPois.train.travelTime : '...'\"></span>,\n",
       " <span>S-tog</span>,\n",
       " <span v-html=\"nearestPoisAsync.state.isLoaded ? nearestPois.strain.travelTime : '...'\"></span>,\n",
       " <span>Metro</span>,\n",
       " <span v-html=\"nearestPoisAsync.state.isLoaded ? nearestPois.metro.travelTime : '...'\"></span>,\n",
       " <span>Bus</span>,\n",
       " <span v-html=\"nearestPoisAsync.state.isLoaded ? nearestPois.bus.travelTime : '...'\"></span>,\n",
       " <span>Sø</span>,\n",
       " <span v-html=\"nearestPoisAsync.state.isLoaded ? nearestPois.lake.travelTime : '...'\"></span>,\n",
       " <span>Skov</span>,\n",
       " <span v-html=\"nearestPoisAsync.state.isLoaded ? nearestPois.forest.travelTime : '...'\"></span>,\n",
       " <span>Kyst</span>,\n",
       " <span v-html=\"nearestPoisAsync.state.isLoaded ? nearestPois.coast.travelTime : '...'\"></span>,\n",
       " <span>Hospital</span>,\n",
       " <span v-html=\"nearestPoisAsync.state.isLoaded ? nearestPois.hospital.travelTime : '...'\"></span>,\n",
       " <span>Fodboldbane</span>,\n",
       " <span v-html=\"nearestPoisAsync.state.isLoaded ? nearestPois.soccerfield.travelTime : '...'\"></span>,\n",
       " <span>Svømmehal</span>,\n",
       " <span v-html=\"nearestPoisAsync.state.isLoaded ? nearestPois.publicbath.travelTime : '...'\"></span>,\n",
       " <span>Sportshal</span>,\n",
       " <span v-html=\"nearestPoisAsync.state.isLoaded ? nearestPois.sportshall.travelTime : '...'\"></span>]"
      ]
     },
     "metadata": {},
     "execution_count": 25
    }
   ],
   "metadata": {}
  }
 ],
 "metadata": {
  "interpreter": {
   "hash": "c5b380a9d56af0a8cc6df1f6b95aad6af5918c5f1674ec4152e7cb0451ca8ae7"
  },
  "kernelspec": {
   "name": "python3",
   "display_name": "Python 3.8.5 64-bit ('base': conda)"
  },
  "language_info": {
   "codemirror_mode": {
    "name": "ipython",
    "version": 3
   },
   "file_extension": ".py",
   "mimetype": "text/x-python",
   "name": "python",
   "nbconvert_exporter": "python",
   "pygments_lexer": "ipython3",
   "version": "3.8.5"
  },
  "orig_nbformat": 4
 },
 "nbformat": 4,
 "nbformat_minor": 2
}