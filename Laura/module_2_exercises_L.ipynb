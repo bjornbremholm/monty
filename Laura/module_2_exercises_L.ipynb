{
 "cells": [
  {
   "cell_type": "markdown",
   "source": [
    "# Videos and Exercises for Session 2: Data Structuring in Pandas I\n",
    "\n",
    "In this combined teaching module and exercise set, you will be working with structuring data. \n",
    "\n",
    "We will start out with a recap of some basic function and methods that become available in pandas. Then there will be a short intermezzo, where you will be required to think a bit about how to write readible code and make use of the method chaining opportunities that come with python. Then finally, you will get to work with some more advanced data types that are handled natively with pandas. The structure is as follows:\n",
    "1. Welcome (Back to) Pandas\n",
    "    - DataFrames and Series\n",
    "    - Operations with Elementary Data Types in the Context of Pandas\n",
    "        - Boolean Series\n",
    "        - String Operations\n",
    "        - Numeric Operations and Methods\n",
    "2. Readible Code and Method Chaining\n",
    "3. More Advanced Data Types\n",
    "    - Categorical Data\n",
    "    - Time Series Data\n",
    "    \n",
    "**NOTE:** I might be speaking quite slowly in some of the videos. A good advice is to turn up the speed to x1.25 or x1.5 if you want to get through without spending too much time:)"
   ],
   "metadata": {
    "ExecuteTime": {
     "end_time": "2017-08-23T15:30:03.634114Z",
     "start_time": "2017-08-23T15:30:03.629294Z"
    }
   }
  },
  {
   "cell_type": "markdown",
   "source": [
    "## Packages\n",
    "Load in the required modules and set up the plotting library:"
   ],
   "metadata": {
    "ExecuteTime": {
     "end_time": "2017-08-23T15:30:03.634114Z",
     "start_time": "2017-08-23T15:30:03.629294Z"
    }
   }
  },
  {
   "cell_type": "code",
   "execution_count": 330,
   "source": [
    "%matplotlib inline\r\n",
    "import numpy as np\r\n",
    "import pandas as pd\r\n",
    "import matplotlib.pyplot as plt\r\n",
    "from IPython.display import YouTubeVideo"
   ],
   "outputs": [],
   "metadata": {}
  },
  {
   "cell_type": "markdown",
   "source": [
    "Wonder what `%matplotlib inline` does? It's not too important for now. However, if you are interested, you can read more about it [here](https://stackoverflow.com/questions/43027980/purpose-of-matplotlib-inline)."
   ],
   "metadata": {}
  },
  {
   "cell_type": "markdown",
   "source": [
    "# Part 1: Welcome (Back to) Pandas\n",
    "\n",
    "As mentioned during the lecture, data structuring skills are necessary to become a great data scientist. There is no way around it.\n",
    "\n",
    "Let's start with the basics. In the first video, we start out by talking about the fundamentals of Pandas: \n",
    "- The Pandas DataFrame and the Pandas Series. \n",
    "- We then proceed and discuss how indices and colums can be named and selected. \n",
    "- Finally, we make some simple operations.\n",
    "\n",
    "**NOTE:** This is mainly repitition of what you already worked with in assignment 0. If you feel comfortable with this, you should proceed to the associated exercises that will get you warmed up for the rest of this notebook."
   ],
   "metadata": {}
  },
  {
   "cell_type": "code",
   "execution_count": 331,
   "source": [
    "YouTubeVideo('uSiqryfDYo0', width=640, height=360)"
   ],
   "outputs": [
    {
     "output_type": "execute_result",
     "data": {
      "text/plain": [
       "<IPython.lib.display.YouTubeVideo at 0x20c99545100>"
      ],
      "image/jpeg": "[encoded data removed]",
      "text/html": [
       "\n",
       "        <iframe\n",
       "            width=\"640\"\n",
       "            height=\"360\"\n",
       "            src=\"https://www.youtube.com/embed/uSiqryfDYo0\"\n",
       "            frameborder=\"0\"\n",
       "            allowfullscreen\n",
       "        ></iframe>\n",
       "        "
      ]
     },
     "metadata": {},
     "execution_count": 331
    }
   ],
   "metadata": {}
  },
  {
   "cell_type": "markdown",
   "source": [
    "In this set of introductory exercises, we are going to briefly touch upon some of the tools from the video. Again, be aware that there is going to be some repition of the content from assignment 0 here - but these things are all very useful to get under your skin!\n",
    "\n",
    "> **Ex. 2.1.1**: Run the following two lines below. Explain to yourself what the second line did, and how each entry affected it. In relation to this, what did the first line ensure? When can this be useful? Try and play around with the seed."
   ],
   "metadata": {}
  },
  {
   "cell_type": "code",
   "execution_count": 332,
   "source": [
    "np.random.seed(seed=161193)\r\n",
    "np_arr=np.round(np.random.exponential(10, size=(10**5,3)),0)\r\n",
    "np_arr[:10]"
   ],
   "outputs": [
    {
     "output_type": "execute_result",
     "data": {
      "text/plain": [
       "array([[ 5.,  0.,  2.],\n",
       "       [ 4.,  7., 20.],\n",
       "       [ 1.,  4.,  2.],\n",
       "       [ 3.,  9.,  4.],\n",
       "       [ 5.,  2., 13.],\n",
       "       [ 2.,  6.,  0.],\n",
       "       [12., 16., 14.],\n",
       "       [30.,  5., 18.],\n",
       "       [21.,  0.,  2.],\n",
       "       [11., 14.,  1.]])"
      ]
     },
     "metadata": {},
     "execution_count": 332
    }
   ],
   "metadata": {}
  },
  {
   "cell_type": "markdown",
   "source": [
    "Answer: The second line draws randomly from a exponential distribution rounded to zero decimals. The array has the dimensions of 10^5 X 3."
   ],
   "metadata": {}
  },
  {
   "cell_type": "markdown",
   "source": [
    "Now, we want you to investigate how easy it is to go from a numpy `array` to a pandas `DataFrame`. You are going to do something similar to this repeatedly in this course!\n",
    "\n",
    "> **Ex. 2.1.2**: Create a Pandas DataFrame called `my_df` from `np_arr`:"
   ],
   "metadata": {}
  },
  {
   "cell_type": "code",
   "execution_count": 333,
   "source": [
    "my_df = pd.DataFrame(data=np_arr)\r\n",
    "print(my_df)\r\n",
    "\r\n",
    "my_df.head(10)"
   ],
   "outputs": [
    {
     "output_type": "stream",
     "name": "stdout",
     "text": [
      "         0     1     2\n",
      "0      5.0   0.0   2.0\n",
      "1      4.0   7.0  20.0\n",
      "2      1.0   4.0   2.0\n",
      "3      3.0   9.0   4.0\n",
      "4      5.0   2.0  13.0\n",
      "...    ...   ...   ...\n",
      "99995  2.0   7.0  14.0\n",
      "99996  5.0   3.0   7.0\n",
      "99997  1.0  25.0   5.0\n",
      "99998  1.0  47.0   6.0\n",
      "99999  4.0   1.0   3.0\n",
      "\n",
      "[100000 rows x 3 columns]\n"
     ]
    },
    {
     "output_type": "execute_result",
     "data": {
      "text/plain": [
       "      0     1     2\n",
       "0   5.0   0.0   2.0\n",
       "1   4.0   7.0  20.0\n",
       "2   1.0   4.0   2.0\n",
       "3   3.0   9.0   4.0\n",
       "4   5.0   2.0  13.0\n",
       "5   2.0   6.0   0.0\n",
       "6  12.0  16.0  14.0\n",
       "7  30.0   5.0  18.0\n",
       "8  21.0   0.0   2.0\n",
       "9  11.0  14.0   1.0"
      ],
      "text/html": [
       "<div>\n",
       "<style scoped>\n",
       "    .dataframe tbody tr th:only-of-type {\n",
       "        vertical-align: middle;\n",
       "    }\n",
       "\n",
       "    .dataframe tbody tr th {\n",
       "        vertical-align: top;\n",
       "    }\n",
       "\n",
       "    .dataframe thead th {\n",
       "        text-align: right;\n",
       "    }\n",
       "</style>\n",
       "<table border=\"1\" class=\"dataframe\">\n",
       "  <thead>\n",
       "    <tr style=\"text-align: right;\">\n",
       "      <th></th>\n",
       "      <th>0</th>\n",
       "      <th>1</th>\n",
       "      <th>2</th>\n",
       "    </tr>\n",
       "  </thead>\n",
       "  <tbody>\n",
       "    <tr>\n",
       "      <th>0</th>\n",
       "      <td>5.0</td>\n",
       "      <td>0.0</td>\n",
       "      <td>2.0</td>\n",
       "    </tr>\n",
       "    <tr>\n",
       "      <th>1</th>\n",
       "      <td>4.0</td>\n",
       "      <td>7.0</td>\n",
       "      <td>20.0</td>\n",
       "    </tr>\n",
       "    <tr>\n",
       "      <th>2</th>\n",
       "      <td>1.0</td>\n",
       "      <td>4.0</td>\n",
       "      <td>2.0</td>\n",
       "    </tr>\n",
       "    <tr>\n",
       "      <th>3</th>\n",
       "      <td>3.0</td>\n",
       "      <td>9.0</td>\n",
       "      <td>4.0</td>\n",
       "    </tr>\n",
       "    <tr>\n",
       "      <th>4</th>\n",
       "      <td>5.0</td>\n",
       "      <td>2.0</td>\n",
       "      <td>13.0</td>\n",
       "    </tr>\n",
       "    <tr>\n",
       "      <th>5</th>\n",
       "      <td>2.0</td>\n",
       "      <td>6.0</td>\n",
       "      <td>0.0</td>\n",
       "    </tr>\n",
       "    <tr>\n",
       "      <th>6</th>\n",
       "      <td>12.0</td>\n",
       "      <td>16.0</td>\n",
       "      <td>14.0</td>\n",
       "    </tr>\n",
       "    <tr>\n",
       "      <th>7</th>\n",
       "      <td>30.0</td>\n",
       "      <td>5.0</td>\n",
       "      <td>18.0</td>\n",
       "    </tr>\n",
       "    <tr>\n",
       "      <th>8</th>\n",
       "      <td>21.0</td>\n",
       "      <td>0.0</td>\n",
       "      <td>2.0</td>\n",
       "    </tr>\n",
       "    <tr>\n",
       "      <th>9</th>\n",
       "      <td>11.0</td>\n",
       "      <td>14.0</td>\n",
       "      <td>1.0</td>\n",
       "    </tr>\n",
       "  </tbody>\n",
       "</table>\n",
       "</div>"
      ]
     },
     "metadata": {},
     "execution_count": 333
    }
   ],
   "metadata": {
    "deletable": false,
    "nbgrader": {
     "cell_type": "code",
     "checksum": "92d26aa1467a0f03e0fa95ac8128729e",
     "grade": false,
     "grade_id": "cell-6ed6b4feaaf73052",
     "locked": false,
     "schema_version": 3,
     "solution": true,
     "task": false
    }
   }
  },
  {
   "cell_type": "markdown",
   "source": [
    "Before we continue working with this DataFrame, we want to make sure that you are capable of transforming it back to different types of containers. This is another very fundamental tool in your data science toolbox.\n",
    "\n",
    "> **Ex. 2.1.3**: In the following cell, generate an `array`, a `list` and a `dict` from `my_df` (you should be able to do each of these things in one line). Verify that you did this properly by printing your output. Inspect the dictionary: How do you access the value associated with the column index 2 and row index 8543?"
   ],
   "metadata": {}
  },
  {
   "cell_type": "code",
   "execution_count": 334,
   "source": [
    "array = my_df.values\r\n",
    "list = my_df.values.tolist()\r\n",
    "dict = my_df.to_dict()\r\n",
    "\r\n",
    "value = dict[2][8543]\r\n",
    "value"
   ],
   "outputs": [
    {
     "output_type": "execute_result",
     "data": {
      "text/plain": [
       "13.0"
      ]
     },
     "metadata": {},
     "execution_count": 334
    }
   ],
   "metadata": {
    "deletable": false,
    "nbgrader": {
     "cell_type": "code",
     "checksum": "52ac1a88b3adbe1389af1ee57e42c8ee",
     "grade": false,
     "grade_id": "cell-5481f267f2cf0cb9",
     "locked": false,
     "schema_version": 3,
     "solution": true,
     "task": false
    }
   }
  },
  {
   "cell_type": "markdown",
   "source": [
    "A noticeable distiction between pandas dataframes and, say, numpy arrays is the option to label indices and (in particular) columns. This is helpful when working with large sets of data.\n",
    "\n",
    "> **Ex. 2.1.4**: Going back to the DataFrame `my_df`, we now want you to try the following: \n",
    "> 1. Label the columns 'apples', 'bananas' and 'oranges'\n",
    "> 2. Change the indices to 'cust**x**' where **x** is a sequential numbering of the lines starting from 1 (*hint:* There are many ways to do this, e.g. with a list comprehension!)\n",
    "> 3. Print the first 10 observations using the `head()` method."
   ],
   "metadata": {}
  },
  {
   "cell_type": "code",
   "execution_count": 335,
   "source": [
    "my_df.columns = ['apples', 'bananas', 'oranges']\r\n",
    "my_df.index = 'cust' + (my_df.index + 1).astype(str)\r\n",
    "my_df.head(10)\r\n"
   ],
   "outputs": [
    {
     "output_type": "error",
     "ename": "TypeError",
     "evalue": "dtype '0       AGE00135039\n1       AGE00135039\n2       AGE00135039\n3       AGE00135039\n4       AGE00135039\n           ...     \n5875    USW00014838\n5876    USW00014838\n5877    USW00014838\n5878    USW00014838\n5879    USW00014838\nName: station, Length: 5880, dtype: object' not understood",
     "traceback": [
      "\u001b[1;31m---------------------------------------------------------------------------\u001b[0m",
      "\u001b[1;31mTypeError\u001b[0m                                 Traceback (most recent call last)",
      "\u001b[1;32m<ipython-input-335-e6a849121194>\u001b[0m in \u001b[0;36m<module>\u001b[1;34m\u001b[0m\n\u001b[0;32m      1\u001b[0m \u001b[0mmy_df\u001b[0m\u001b[1;33m.\u001b[0m\u001b[0mcolumns\u001b[0m \u001b[1;33m=\u001b[0m \u001b[1;33m[\u001b[0m\u001b[1;34m'apples'\u001b[0m\u001b[1;33m,\u001b[0m \u001b[1;34m'bananas'\u001b[0m\u001b[1;33m,\u001b[0m \u001b[1;34m'oranges'\u001b[0m\u001b[1;33m]\u001b[0m\u001b[1;33m\u001b[0m\u001b[1;33m\u001b[0m\u001b[0m\n\u001b[1;32m----> 2\u001b[1;33m \u001b[0mmy_df\u001b[0m\u001b[1;33m.\u001b[0m\u001b[0mindex\u001b[0m \u001b[1;33m=\u001b[0m \u001b[1;34m'cust'\u001b[0m \u001b[1;33m+\u001b[0m \u001b[1;33m(\u001b[0m\u001b[0mmy_df\u001b[0m\u001b[1;33m.\u001b[0m\u001b[0mindex\u001b[0m \u001b[1;33m+\u001b[0m \u001b[1;36m1\u001b[0m\u001b[1;33m)\u001b[0m\u001b[1;33m.\u001b[0m\u001b[0mastype\u001b[0m\u001b[1;33m(\u001b[0m\u001b[0mstr\u001b[0m\u001b[1;33m)\u001b[0m\u001b[1;33m\u001b[0m\u001b[1;33m\u001b[0m\u001b[0m\n\u001b[0m\u001b[0;32m      3\u001b[0m \u001b[0mmy_df\u001b[0m\u001b[1;33m.\u001b[0m\u001b[0mhead\u001b[0m\u001b[1;33m(\u001b[0m\u001b[1;36m10\u001b[0m\u001b[1;33m)\u001b[0m\u001b[1;33m\u001b[0m\u001b[1;33m\u001b[0m\u001b[0m\n",
      "\u001b[1;32m~\\Anaconda3\\lib\\site-packages\\pandas\\core\\indexes\\base.py\u001b[0m in \u001b[0;36mastype\u001b[1;34m(self, dtype, copy)\u001b[0m\n\u001b[0;32m    648\u001b[0m         \"\"\"\n\u001b[0;32m    649\u001b[0m         \u001b[1;32mif\u001b[0m \u001b[0mdtype\u001b[0m \u001b[1;32mis\u001b[0m \u001b[1;32mnot\u001b[0m \u001b[1;32mNone\u001b[0m\u001b[1;33m:\u001b[0m\u001b[1;33m\u001b[0m\u001b[1;33m\u001b[0m\u001b[0m\n\u001b[1;32m--> 650\u001b[1;33m             \u001b[0mdtype\u001b[0m \u001b[1;33m=\u001b[0m \u001b[0mpandas_dtype\u001b[0m\u001b[1;33m(\u001b[0m\u001b[0mdtype\u001b[0m\u001b[1;33m)\u001b[0m\u001b[1;33m\u001b[0m\u001b[1;33m\u001b[0m\u001b[0m\n\u001b[0m\u001b[0;32m    651\u001b[0m \u001b[1;33m\u001b[0m\u001b[0m\n\u001b[0;32m    652\u001b[0m         \u001b[1;32mif\u001b[0m \u001b[0mis_dtype_equal\u001b[0m\u001b[1;33m(\u001b[0m\u001b[0mself\u001b[0m\u001b[1;33m.\u001b[0m\u001b[0mdtype\u001b[0m\u001b[1;33m,\u001b[0m \u001b[0mdtype\u001b[0m\u001b[1;33m)\u001b[0m\u001b[1;33m:\u001b[0m\u001b[1;33m\u001b[0m\u001b[1;33m\u001b[0m\u001b[0m\n",
      "\u001b[1;32m~\\Anaconda3\\lib\\site-packages\\pandas\\core\\dtypes\\common.py\u001b[0m in \u001b[0;36mpandas_dtype\u001b[1;34m(dtype)\u001b[0m\n\u001b[0;32m   1776\u001b[0m         \u001b[1;32mreturn\u001b[0m \u001b[0mnpdtype\u001b[0m\u001b[1;33m\u001b[0m\u001b[1;33m\u001b[0m\u001b[0m\n\u001b[0;32m   1777\u001b[0m     \u001b[1;32melif\u001b[0m \u001b[0mnpdtype\u001b[0m\u001b[1;33m.\u001b[0m\u001b[0mkind\u001b[0m \u001b[1;33m==\u001b[0m \u001b[1;34m\"O\"\u001b[0m\u001b[1;33m:\u001b[0m\u001b[1;33m\u001b[0m\u001b[1;33m\u001b[0m\u001b[0m\n\u001b[1;32m-> 1778\u001b[1;33m         \u001b[1;32mraise\u001b[0m \u001b[0mTypeError\u001b[0m\u001b[1;33m(\u001b[0m\u001b[1;34mf\"dtype '{dtype}' not understood\"\u001b[0m\u001b[1;33m)\u001b[0m\u001b[1;33m\u001b[0m\u001b[1;33m\u001b[0m\u001b[0m\n\u001b[0m\u001b[0;32m   1779\u001b[0m \u001b[1;33m\u001b[0m\u001b[0m\n\u001b[0;32m   1780\u001b[0m     \u001b[1;32mreturn\u001b[0m \u001b[0mnpdtype\u001b[0m\u001b[1;33m\u001b[0m\u001b[1;33m\u001b[0m\u001b[0m\n",
      "\u001b[1;31mTypeError\u001b[0m: dtype '0       AGE00135039\n1       AGE00135039\n2       AGE00135039\n3       AGE00135039\n4       AGE00135039\n           ...     \n5875    USW00014838\n5876    USW00014838\n5877    USW00014838\n5878    USW00014838\n5879    USW00014838\nName: station, Length: 5880, dtype: object' not understood"
     ]
    }
   ],
   "metadata": {
    "deletable": false,
    "nbgrader": {
     "cell_type": "code",
     "checksum": "97092b03bc68cc7447ca5c227ceecdd3",
     "grade": false,
     "grade_id": "cell-9453d49738b2ecdb",
     "locked": false,
     "schema_version": 3,
     "solution": true,
     "task": false
    }
   }
  },
  {
   "cell_type": "markdown",
   "source": [
    "As we saw in the video, we can basically extract a series from a pandas dataframe by simply selecting one column from the dataframe and storing it as a new object.\n",
    "\n",
    "> **Ex. 2.1.5**: Now, we want you to select only a single column and inspect the output a bit:\n",
    "> 1. Select 'apples' and store it as 'apples_ser'. Try using the key-based method and the object-based method, respectively. \n",
    "> 2. Check the data type. Thinking about our first lines of code, why is it not an `integer`? Convert the data in both 'apples_ser' and 'my_df' to intergers."
   ],
   "metadata": {}
  },
  {
   "cell_type": "code",
   "execution_count": null,
   "source": [
    "apples_ser = my_df['apples']\r\n",
    "my_df.iloc[:,0]\r\n",
    "#type(apples_ser)\r\n",
    "my_df = my_df.astype(int)\r\n",
    "apples_ser = apples_ser.astype(int)\r\n",
    "\r\n",
    "apples_ser.dtype #Shows type of one column\r\n",
    "my_df.dtypes #Shows type of entire dataframe"
   ],
   "outputs": [
    {
     "output_type": "execute_result",
     "data": {
      "text/plain": [
       "apples     int32\n",
       "bananas    int32\n",
       "oranges    int32\n",
       "dtype: object"
      ]
     },
     "metadata": {},
     "execution_count": 85
    }
   ],
   "metadata": {
    "deletable": false,
    "nbgrader": {
     "cell_type": "code",
     "checksum": "06f452e0ab4267c6ebdab3d943acbf47",
     "grade": false,
     "grade_id": "cell-26cb4b96a8d3b0fb",
     "locked": false,
     "schema_version": 3,
     "solution": true,
     "task": false
    }
   }
  },
  {
   "cell_type": "markdown",
   "source": [
    "## Boolean Series"
   ],
   "metadata": {}
  },
  {
   "cell_type": "code",
   "execution_count": null,
   "source": [
    "YouTubeVideo('CfiV8QmfGVk', width=640, height=360)"
   ],
   "outputs": [],
   "metadata": {}
  },
  {
   "cell_type": "markdown",
   "source": [
    "Boolean 'data' is the simplest data type that we work with. These variables are binary, and basically represent a True or False value. As seen in the video, they become extraordinarily useful when working with pandas series. In particular, boolean series can be applied when we only want to work with certain rows in a dataframe.\n",
    "\n",
    "> **Ex. 2.1.6**: Drop all rows for which 'Apples' is strictly smaller than 5."
   ],
   "metadata": {}
  },
  {
   "cell_type": "code",
   "execution_count": null,
   "source": [
    "my_df=my_df[my_df['apples']>=5]\r\n",
    "my_df"
   ],
   "outputs": [
    {
     "output_type": "execute_result",
     "data": {
      "text/plain": [
       "           apples  bananas  oranges\n",
       "cust1           5        0        2\n",
       "cust5           5        2       13\n",
       "cust7          12       16       14\n",
       "cust8          30        5       18\n",
       "cust9          21        0        2\n",
       "...           ...      ...      ...\n",
       "cust99989       5       31       16\n",
       "cust99990       9       11        2\n",
       "cust99991      37       17        2\n",
       "cust99992       7        3       19\n",
       "cust99997       5        3        7\n",
       "\n",
       "[63837 rows x 3 columns]"
      ],
      "text/html": [
       "<div>\n",
       "<style scoped>\n",
       "    .dataframe tbody tr th:only-of-type {\n",
       "        vertical-align: middle;\n",
       "    }\n",
       "\n",
       "    .dataframe tbody tr th {\n",
       "        vertical-align: top;\n",
       "    }\n",
       "\n",
       "    .dataframe thead th {\n",
       "        text-align: right;\n",
       "    }\n",
       "</style>\n",
       "<table border=\"1\" class=\"dataframe\">\n",
       "  <thead>\n",
       "    <tr style=\"text-align: right;\">\n",
       "      <th></th>\n",
       "      <th>apples</th>\n",
       "      <th>bananas</th>\n",
       "      <th>oranges</th>\n",
       "    </tr>\n",
       "  </thead>\n",
       "  <tbody>\n",
       "    <tr>\n",
       "      <th>cust1</th>\n",
       "      <td>5</td>\n",
       "      <td>0</td>\n",
       "      <td>2</td>\n",
       "    </tr>\n",
       "    <tr>\n",
       "      <th>cust5</th>\n",
       "      <td>5</td>\n",
       "      <td>2</td>\n",
       "      <td>13</td>\n",
       "    </tr>\n",
       "    <tr>\n",
       "      <th>cust7</th>\n",
       "      <td>12</td>\n",
       "      <td>16</td>\n",
       "      <td>14</td>\n",
       "    </tr>\n",
       "    <tr>\n",
       "      <th>cust8</th>\n",
       "      <td>30</td>\n",
       "      <td>5</td>\n",
       "      <td>18</td>\n",
       "    </tr>\n",
       "    <tr>\n",
       "      <th>cust9</th>\n",
       "      <td>21</td>\n",
       "      <td>0</td>\n",
       "      <td>2</td>\n",
       "    </tr>\n",
       "    <tr>\n",
       "      <th>...</th>\n",
       "      <td>...</td>\n",
       "      <td>...</td>\n",
       "      <td>...</td>\n",
       "    </tr>\n",
       "    <tr>\n",
       "      <th>cust99989</th>\n",
       "      <td>5</td>\n",
       "      <td>31</td>\n",
       "      <td>16</td>\n",
       "    </tr>\n",
       "    <tr>\n",
       "      <th>cust99990</th>\n",
       "      <td>9</td>\n",
       "      <td>11</td>\n",
       "      <td>2</td>\n",
       "    </tr>\n",
       "    <tr>\n",
       "      <th>cust99991</th>\n",
       "      <td>37</td>\n",
       "      <td>17</td>\n",
       "      <td>2</td>\n",
       "    </tr>\n",
       "    <tr>\n",
       "      <th>cust99992</th>\n",
       "      <td>7</td>\n",
       "      <td>3</td>\n",
       "      <td>19</td>\n",
       "    </tr>\n",
       "    <tr>\n",
       "      <th>cust99997</th>\n",
       "      <td>5</td>\n",
       "      <td>3</td>\n",
       "      <td>7</td>\n",
       "    </tr>\n",
       "  </tbody>\n",
       "</table>\n",
       "<p>63837 rows × 3 columns</p>\n",
       "</div>"
      ]
     },
     "metadata": {},
     "execution_count": 86
    }
   ],
   "metadata": {
    "deletable": false,
    "nbgrader": {
     "cell_type": "code",
     "checksum": "9f7221f260ea18c24561b3c1d872f75d",
     "grade": false,
     "grade_id": "cell-63fd4d48def27a6e",
     "locked": false,
     "schema_version": 3,
     "solution": true,
     "task": false
    }
   }
  },
  {
   "cell_type": "markdown",
   "source": [
    "## Numeric Operications and Methods"
   ],
   "metadata": {}
  },
  {
   "cell_type": "code",
   "execution_count": null,
   "source": [
    "YouTubeVideo('ClB-n1f9sBM', width=640, height=360)"
   ],
   "outputs": [],
   "metadata": {}
  },
  {
   "cell_type": "markdown",
   "source": [
    "As we saw in the video, we can easily make vectorized operations with multiple numpy arrays as well as pandas series and dataframes. This feature can become useful in many cases - in particular, when you have a large set of data and you do not want to make a (computationally exhaustive) loop through all you observation.\n",
    "\n",
    "> **Ex. 2.1.7**: In this exercise, we want you to make operations on multiple vectors and matrices using a combination of numpy arrays and pandas dataframes.\n",
    "> 1. Create a numpy array (with 3 elements) of costs associated with different types of fruits. Call this 'price'. Entries should be 1, 4 and 3, respectively.\n",
    "> 2. Create a new dataframe with information on each costumer's expenses associated with each type of fruit. This should involve multiplying your cost array with the 'my_df'.\n",
    "> 3. Create a new column called 'Total expenditure' by summing over fruit-specific prices for each customer (*hint:* Learn more about such sum [here](https://pandas.pydata.org/docs/reference/api/pandas.DataFrame.sum.html)).\n",
    "> 4. Sort the dataframe by total expenditure, starting with the customer with highest expenditure."
   ],
   "metadata": {}
  },
  {
   "cell_type": "code",
   "execution_count": null,
   "source": [
    "price = np.array([1,4,3])\r\n",
    "expenses = price * my_df\r\n",
    "expenses['Total expenditure'] = expenses.sum(axis=1)\r\n",
    "expenses.sort_values(by ='Total expenditure', ascending = False)"
   ],
   "outputs": [
    {
     "output_type": "execute_result",
     "data": {
      "text/plain": [
       "           apples  bananas  oranges  Total expenditure\n",
       "cust2459       14      368      180                562\n",
       "cust12385       9      372      150                531\n",
       "cust50360      31      300      171                502\n",
       "cust66559      22      332       93                447\n",
       "cust36884      44      204      195                443\n",
       "...           ...      ...      ...                ...\n",
       "cust45372       5        0        0                  5\n",
       "cust12524       5        0        0                  5\n",
       "cust4308        5        0        0                  5\n",
       "cust70191       5        0        0                  5\n",
       "cust4190        5        0        0                  5\n",
       "\n",
       "[63837 rows x 4 columns]"
      ],
      "text/html": [
       "<div>\n",
       "<style scoped>\n",
       "    .dataframe tbody tr th:only-of-type {\n",
       "        vertical-align: middle;\n",
       "    }\n",
       "\n",
       "    .dataframe tbody tr th {\n",
       "        vertical-align: top;\n",
       "    }\n",
       "\n",
       "    .dataframe thead th {\n",
       "        text-align: right;\n",
       "    }\n",
       "</style>\n",
       "<table border=\"1\" class=\"dataframe\">\n",
       "  <thead>\n",
       "    <tr style=\"text-align: right;\">\n",
       "      <th></th>\n",
       "      <th>apples</th>\n",
       "      <th>bananas</th>\n",
       "      <th>oranges</th>\n",
       "      <th>Total expenditure</th>\n",
       "    </tr>\n",
       "  </thead>\n",
       "  <tbody>\n",
       "    <tr>\n",
       "      <th>cust2459</th>\n",
       "      <td>14</td>\n",
       "      <td>368</td>\n",
       "      <td>180</td>\n",
       "      <td>562</td>\n",
       "    </tr>\n",
       "    <tr>\n",
       "      <th>cust12385</th>\n",
       "      <td>9</td>\n",
       "      <td>372</td>\n",
       "      <td>150</td>\n",
       "      <td>531</td>\n",
       "    </tr>\n",
       "    <tr>\n",
       "      <th>cust50360</th>\n",
       "      <td>31</td>\n",
       "      <td>300</td>\n",
       "      <td>171</td>\n",
       "      <td>502</td>\n",
       "    </tr>\n",
       "    <tr>\n",
       "      <th>cust66559</th>\n",
       "      <td>22</td>\n",
       "      <td>332</td>\n",
       "      <td>93</td>\n",
       "      <td>447</td>\n",
       "    </tr>\n",
       "    <tr>\n",
       "      <th>cust36884</th>\n",
       "      <td>44</td>\n",
       "      <td>204</td>\n",
       "      <td>195</td>\n",
       "      <td>443</td>\n",
       "    </tr>\n",
       "    <tr>\n",
       "      <th>...</th>\n",
       "      <td>...</td>\n",
       "      <td>...</td>\n",
       "      <td>...</td>\n",
       "      <td>...</td>\n",
       "    </tr>\n",
       "    <tr>\n",
       "      <th>cust45372</th>\n",
       "      <td>5</td>\n",
       "      <td>0</td>\n",
       "      <td>0</td>\n",
       "      <td>5</td>\n",
       "    </tr>\n",
       "    <tr>\n",
       "      <th>cust12524</th>\n",
       "      <td>5</td>\n",
       "      <td>0</td>\n",
       "      <td>0</td>\n",
       "      <td>5</td>\n",
       "    </tr>\n",
       "    <tr>\n",
       "      <th>cust4308</th>\n",
       "      <td>5</td>\n",
       "      <td>0</td>\n",
       "      <td>0</td>\n",
       "      <td>5</td>\n",
       "    </tr>\n",
       "    <tr>\n",
       "      <th>cust70191</th>\n",
       "      <td>5</td>\n",
       "      <td>0</td>\n",
       "      <td>0</td>\n",
       "      <td>5</td>\n",
       "    </tr>\n",
       "    <tr>\n",
       "      <th>cust4190</th>\n",
       "      <td>5</td>\n",
       "      <td>0</td>\n",
       "      <td>0</td>\n",
       "      <td>5</td>\n",
       "    </tr>\n",
       "  </tbody>\n",
       "</table>\n",
       "<p>63837 rows × 4 columns</p>\n",
       "</div>"
      ]
     },
     "metadata": {},
     "execution_count": 98
    }
   ],
   "metadata": {
    "deletable": false,
    "nbgrader": {
     "cell_type": "code",
     "checksum": "80c0972023fd5a1e6f592de4cdc51a59",
     "grade": false,
     "grade_id": "cell-815c7a5459d9da6a",
     "locked": false,
     "schema_version": 3,
     "solution": true,
     "task": false
    }
   }
  },
  {
   "cell_type": "markdown",
   "source": [
    "When we have a large data set, it is difficult to get an idea of it's characteristics by simply sorting and printing. In such cases, we much rather want to look at some kinds of descriptive statistics for our data. \n",
    "\n",
    "> **Ex. 2.1.8**: In this exercise, we will ask you to use two methods from the video in order to shed some light on the distribution of total expenditure:\n",
    "> 1. Use `describe()` to get an idea about the distribution of total expenditure in the data set. What does the distance between `mean` and the `50%` quantile tell you about the skewness?\n",
    "> 2. Use the `cut` method to split the sample into 6 equal sized bins of expenditures from 0 to 600. Find the *share* of observations within each of these bins (we will work more with *categorical data* later in this session)."
   ],
   "metadata": {}
  },
  {
   "cell_type": "code",
   "execution_count": null,
   "source": [
    "expenses.describe() #Shows for all columns \r\n",
    "cutexpenses = pd.cut(expenses['Total expenditure'],bins=[0,100,200,300,400,500])\r\n",
    "print(cutexpenses)"
   ],
   "outputs": [
    {
     "output_type": "stream",
     "name": "stdout",
     "text": [
      "cust1          (0, 100]\n",
      "cust5          (0, 100]\n",
      "cust7        (100, 200]\n",
      "cust8        (100, 200]\n",
      "cust9          (0, 100]\n",
      "                ...    \n",
      "cust99989    (100, 200]\n",
      "cust99990      (0, 100]\n",
      "cust99991    (100, 200]\n",
      "cust99992      (0, 100]\n",
      "cust99997      (0, 100]\n",
      "Name: Total expenditure, Length: 63837, dtype: category\n",
      "Categories (5, interval[int64]): [(0, 100] < (100, 200] < (200, 300] < (300, 400] < (400, 500]]\n"
     ]
    }
   ],
   "metadata": {
    "deletable": false,
    "nbgrader": {
     "cell_type": "code",
     "checksum": "464113e102297fdfc5dd2c83e36d8ca4",
     "grade": false,
     "grade_id": "cell-43666d5bd6421188",
     "locked": false,
     "schema_version": 3,
     "solution": true,
     "task": false
    }
   }
  },
  {
   "cell_type": "markdown",
   "source": [
    "## String Operations"
   ],
   "metadata": {}
  },
  {
   "cell_type": "code",
   "execution_count": null,
   "source": [
    "YouTubeVideo('Yjdd8rKj_WI', width=640, height=360)"
   ],
   "outputs": [],
   "metadata": {}
  },
  {
   "cell_type": "markdown",
   "source": [
    "Finally, we saw that pandas handles string variable natively. In particular, there is a set of string-specific operations (`.str`) that can be applied to a whole pandas series without having to loop through each row.\n",
    "\n",
    "> **Ex. 2.1.9**: In this final introductory exercise, we want you to \n",
    "> 1. Create a new variable (column) based on the index called 'Customer'. This should capitalize the customer id and write out 'Cust' to 'Customer' (i.e. you should get something similar to 'Customer **x**'). \n",
    "> 2. Reset the index."
   ],
   "metadata": {}
  },
  {
   "cell_type": "code",
   "execution_count": null,
   "source": [
    "# YOUR CODE HERE\r\n",
    "raise NotImplementedError()"
   ],
   "outputs": [],
   "metadata": {
    "deletable": false,
    "nbgrader": {
     "cell_type": "code",
     "checksum": "d8b2f7083fae44c880facd79d2cf6d04",
     "grade": false,
     "grade_id": "cell-efe56b530ff9005c",
     "locked": false,
     "schema_version": 3,
     "solution": true,
     "task": false
    }
   }
  },
  {
   "cell_type": "markdown",
   "source": [
    "# Part 2: Readible Code\n",
    "\n",
    "Before proceeding to part 3 on advanced data types that are handled natively in pandas, we want you to think a bit about writing readable code. In particular, if we have lots of code, it may be very difficult for others or ourselves to read. Therefore, providing some structure and meta text can help reading the code.\n",
    "\n",
    "In the following, you will learn about readible code. Then we ask you to use what you learned in order to process the NOAA data from assignment 0. Don't spend too long on this exercise - we are going to use the data for the following exercises."
   ],
   "metadata": {}
  },
  {
   "cell_type": "markdown",
   "source": [
    "## Commenting\n",
    "\n",
    "When making code it's good practice to document different parts of the code. In particular describing functions and complex code. The example below shows how to make multi-line comments (as a string, which is not assigned) and in-line comments using the `#` character.\n",
    "\n",
    "```python\n",
    "def my_fct(x,y):\n",
    "    ''' \n",
    "    Computes the sum of input values (multi-line comment as string)\n",
    "    '''\n",
    "    z = x+y # Here we perform the summation (in-line comment)\n",
    "    return z\n",
    "```\n",
    "\n",
    "\n",
    "## Method chaining\n",
    "\n",
    "We can write multiple operations together by putting them one after the other, which is known as `method chaining`. Using this, we only need to assign them once to a new object and therefore we save a lot of code. We change the example below into one using a method chain:\n",
    "\n",
    "Example without method chain\n",
    "```python\n",
    "df_temp1 = df.loc[selection]\n",
    "df_temp2 = df_temp1.sort_values(by=X)\n",
    "df_out = df_temp2.reset_index()\n",
    "```\n",
    "\n",
    "Example with method chain - one line\n",
    "\n",
    "```python\n",
    "df_out = df.loc[selection].sort_values(by=X).reset_index()\n",
    "```\n",
    "As seen in the example, although using less code, our method chain will get more and more difficult to read if we include two or more operations. We can overcome this problem of long chains by splitting into multiple lines with line breaks:\n",
    "\n",
    "Example with method chain - line break\n",
    "```python\n",
    "df_out = df\\\n",
    "        .loc[selection]\\\n",
    "        .sort_values(by=X)\\\n",
    "        .reset_index()\n",
    "```\n",
    "\n",
    "Note that the backslash allows us to make a visual line break, but the code is read as one line.\n"
   ],
   "metadata": {}
  },
  {
   "cell_type": "markdown",
   "source": [
    "## Exercises for Part 2\n",
    "\n",
    "We continue with the exercise of analyzing NOAA data. We start out reviewing what we did in Assignment 0. "
   ],
   "metadata": {}
  },
  {
   "cell_type": "markdown",
   "source": [
    "> **Ex. 2.2.1:** The code below runs through all the steps we completed in Assignment 0.4 step by step. Your task is to document this code in your own words. You should also make your own annotation of parts. In addition, you should make the code more readable by applying method chaining.\r\n",
    "> \r\n",
    ">*Hint:* After loading the data and selecting the first four columns, everything can be stated in one method chain! It's OK if you use more, though.\r\n",
    "\r\n",
    "```python\r\n",
    "import pandas as pd\r\n",
    "\r\n",
    "def load_weather(year):\r\n",
    "    \r\n",
    "    url = f\"ftp://ftp.ncdc.noaa.gov/pub/data/ghcn/daily/by_year/{year}.csv.gz\"\r\n",
    "\r\n",
    "    df_weather = pd.read_csv(url, \r\n",
    "                             header=None)        \r\n",
    "\r\n",
    "    df_weather = df_weather.iloc[:,:4] \r\n",
    "    \r\n",
    "    column_names = ['station', 'datetime', 'obs_type', 'obs_value']\r\n",
    "    df_weather.columns = column_names \r\n",
    "    \r\n",
    "    df_weather['obs_value'] = df_weather['obs_value'] / 10 \r\n",
    "    \r\n",
    "    selection_tmax = df_weather.obs_type == 'TMAX'\r\n",
    "    df_select = df_weather.loc[selection_tmax]\r\n",
    "    \r\n",
    "    df_sorted = df_select.sort_values(by=['station', 'datetime'])\r\n",
    "    df_reset = df_sorted.reset_index(drop=True)\r\n",
    "    df_out = df_reset.copy()\r\n",
    "            \r\n",
    "    return df_out\r\n",
    "```"
   ],
   "metadata": {}
  },
  {
   "cell_type": "code",
   "execution_count": null,
   "source": [
    "import pandas as pd\r\n",
    "def load_weather(year):\r\n",
    "    \r\n",
    "    url = f\"ftp://ftp.ncdc.noaa.gov/pub/data/ghcn/daily/by_year/{year}.csv.gz\"\r\n",
    "\r\n",
    "    df_weather = pd.read_csv(url, \r\n",
    "                             header=None)        \r\n",
    "\r\n",
    "    df_weather = df_weather.iloc[:,:4] \r\n",
    "    \r\n",
    "    column_names = ['station', 'datetime', 'obs_type', 'obs_value']\r\n",
    "    df_weather.columns = column_names \r\n",
    "    \r\n",
    "    df_weather['obs_value'] = df_weather['obs_value'] / 10 \r\n",
    "    \r\n",
    "    selection_tmax = df_weather.obs_type == 'TMAX'\r\n",
    "    df_select = df_weather.loc[selection_tmax]\r\n",
    "    \r\n",
    "    df_sorted = df_select.sort_values(by=['station', 'datetime'])\r\n",
    "    df_reset = df_sorted.reset_index(drop=True)\r\n",
    "    df_out = df_reset.copy()\r\n",
    "            \r\n",
    "    return df_out\r\n",
    "\r\n",
    "load_weather(1863)"
   ],
   "outputs": [
    {
     "output_type": "execute_result",
     "data": {
      "text/plain": [
       "          station  datetime obs_type  obs_value\n",
       "0     AGE00135039  18630102     TMAX       11.5\n",
       "1     AGE00135039  18630103     TMAX       11.0\n",
       "2     AGE00135039  18630105     TMAX       15.5\n",
       "3     AGE00135039  18630106     TMAX       16.5\n",
       "4     AGE00135039  18630107     TMAX       15.0\n",
       "...           ...       ...      ...        ...\n",
       "5875  USW00014838  18630727     TMAX       20.6\n",
       "5876  USW00014838  18630728     TMAX       19.9\n",
       "5877  USW00014838  18630729     TMAX       25.1\n",
       "5878  USW00014838  18630730     TMAX       29.4\n",
       "5879  USW00014838  18630731     TMAX       25.6\n",
       "\n",
       "[5880 rows x 4 columns]"
      ],
      "text/html": [
       "<div>\n",
       "<style scoped>\n",
       "    .dataframe tbody tr th:only-of-type {\n",
       "        vertical-align: middle;\n",
       "    }\n",
       "\n",
       "    .dataframe tbody tr th {\n",
       "        vertical-align: top;\n",
       "    }\n",
       "\n",
       "    .dataframe thead th {\n",
       "        text-align: right;\n",
       "    }\n",
       "</style>\n",
       "<table border=\"1\" class=\"dataframe\">\n",
       "  <thead>\n",
       "    <tr style=\"text-align: right;\">\n",
       "      <th></th>\n",
       "      <th>station</th>\n",
       "      <th>datetime</th>\n",
       "      <th>obs_type</th>\n",
       "      <th>obs_value</th>\n",
       "    </tr>\n",
       "  </thead>\n",
       "  <tbody>\n",
       "    <tr>\n",
       "      <th>0</th>\n",
       "      <td>AGE00135039</td>\n",
       "      <td>18630102</td>\n",
       "      <td>TMAX</td>\n",
       "      <td>11.5</td>\n",
       "    </tr>\n",
       "    <tr>\n",
       "      <th>1</th>\n",
       "      <td>AGE00135039</td>\n",
       "      <td>18630103</td>\n",
       "      <td>TMAX</td>\n",
       "      <td>11.0</td>\n",
       "    </tr>\n",
       "    <tr>\n",
       "      <th>2</th>\n",
       "      <td>AGE00135039</td>\n",
       "      <td>18630105</td>\n",
       "      <td>TMAX</td>\n",
       "      <td>15.5</td>\n",
       "    </tr>\n",
       "    <tr>\n",
       "      <th>3</th>\n",
       "      <td>AGE00135039</td>\n",
       "      <td>18630106</td>\n",
       "      <td>TMAX</td>\n",
       "      <td>16.5</td>\n",
       "    </tr>\n",
       "    <tr>\n",
       "      <th>4</th>\n",
       "      <td>AGE00135039</td>\n",
       "      <td>18630107</td>\n",
       "      <td>TMAX</td>\n",
       "      <td>15.0</td>\n",
       "    </tr>\n",
       "    <tr>\n",
       "      <th>...</th>\n",
       "      <td>...</td>\n",
       "      <td>...</td>\n",
       "      <td>...</td>\n",
       "      <td>...</td>\n",
       "    </tr>\n",
       "    <tr>\n",
       "      <th>5875</th>\n",
       "      <td>USW00014838</td>\n",
       "      <td>18630727</td>\n",
       "      <td>TMAX</td>\n",
       "      <td>20.6</td>\n",
       "    </tr>\n",
       "    <tr>\n",
       "      <th>5876</th>\n",
       "      <td>USW00014838</td>\n",
       "      <td>18630728</td>\n",
       "      <td>TMAX</td>\n",
       "      <td>19.9</td>\n",
       "    </tr>\n",
       "    <tr>\n",
       "      <th>5877</th>\n",
       "      <td>USW00014838</td>\n",
       "      <td>18630729</td>\n",
       "      <td>TMAX</td>\n",
       "      <td>25.1</td>\n",
       "    </tr>\n",
       "    <tr>\n",
       "      <th>5878</th>\n",
       "      <td>USW00014838</td>\n",
       "      <td>18630730</td>\n",
       "      <td>TMAX</td>\n",
       "      <td>29.4</td>\n",
       "    </tr>\n",
       "    <tr>\n",
       "      <th>5879</th>\n",
       "      <td>USW00014838</td>\n",
       "      <td>18630731</td>\n",
       "      <td>TMAX</td>\n",
       "      <td>25.6</td>\n",
       "    </tr>\n",
       "  </tbody>\n",
       "</table>\n",
       "<p>5880 rows × 4 columns</p>\n",
       "</div>"
      ]
     },
     "metadata": {},
     "execution_count": 316
    }
   ],
   "metadata": {
    "deletable": false,
    "nbgrader": {
     "cell_type": "code",
     "checksum": "45437bcbd759fa81948734724d4c5668",
     "grade": false,
     "grade_id": "cell-25487430558396f5",
     "locked": false,
     "schema_version": 3,
     "solution": true,
     "task": false
    }
   }
  },
  {
   "cell_type": "markdown",
   "source": [
    "# Part 3: Advanced Data Types\n",
    "\n",
    "When you start working with data, you quickly realize that data comes in many different types. \n",
    "\n",
    "Some distinctions between data types are obvious to make. For instance, numeric variables should consists of meaningful values that represent something that can be measured (a length, weight, economic value, etc.) with a number. String variables, on the other hand, are variables that *may* also consist of letters and other characters in addition to numbers. And boolean variables are simply binary with only two possible values.\n",
    "\n",
    "However, we also encounter lots of other data types in applied work within social sciences. Categorical variables can only take a (often quite strictly) limited number of values. And time series data are characterized by being indexed in some time order. In this part, we will explore different these two data types and how you work with them in Pandas."
   ],
   "metadata": {}
  },
  {
   "cell_type": "markdown",
   "source": [
    "> **Ex. 2.3.1:** Load the data for year 1863. Extract the area code (country and state) from the station name into a separate column.\n",
    ">\n",
    "> _Hint:_ The station column contains a GHCND ID, given to each weather station by NOAA. The format of these ID's is a 2 letter country/state code, followed by possible additional information on the third character and then an integer identifying the specific station. A simple approach is to assume a fixed length of the country ID. A more complex way would be to use the [`re`](https://docs.python.org/3.8/library/re.html) module. "
   ],
   "metadata": {}
  },
  {
   "cell_type": "code",
   "execution_count": null,
   "source": [
    "weather_df = load_weather(1863)\r\n",
    "weather_df\r\n",
    "\r\n",
    "import re\r\n",
    "weather_df['areacode'] = weather_df['station'].str.extract('^([A-Z]+)', expand=True)\r\n",
    "\r\n",
    "weather_df"
   ],
   "outputs": [
    {
     "output_type": "execute_result",
     "data": {
      "text/plain": [
       "          station  datetime obs_type  obs_value areacode\n",
       "0     AGE00135039  18630102     TMAX       11.5      AGE\n",
       "1     AGE00135039  18630103     TMAX       11.0      AGE\n",
       "2     AGE00135039  18630105     TMAX       15.5      AGE\n",
       "3     AGE00135039  18630106     TMAX       16.5      AGE\n",
       "4     AGE00135039  18630107     TMAX       15.0      AGE\n",
       "...           ...       ...      ...        ...      ...\n",
       "5875  USW00014838  18630727     TMAX       20.6      USW\n",
       "5876  USW00014838  18630728     TMAX       19.9      USW\n",
       "5877  USW00014838  18630729     TMAX       25.1      USW\n",
       "5878  USW00014838  18630730     TMAX       29.4      USW\n",
       "5879  USW00014838  18630731     TMAX       25.6      USW\n",
       "\n",
       "[5880 rows x 5 columns]"
      ],
      "text/html": [
       "<div>\n",
       "<style scoped>\n",
       "    .dataframe tbody tr th:only-of-type {\n",
       "        vertical-align: middle;\n",
       "    }\n",
       "\n",
       "    .dataframe tbody tr th {\n",
       "        vertical-align: top;\n",
       "    }\n",
       "\n",
       "    .dataframe thead th {\n",
       "        text-align: right;\n",
       "    }\n",
       "</style>\n",
       "<table border=\"1\" class=\"dataframe\">\n",
       "  <thead>\n",
       "    <tr style=\"text-align: right;\">\n",
       "      <th></th>\n",
       "      <th>station</th>\n",
       "      <th>datetime</th>\n",
       "      <th>obs_type</th>\n",
       "      <th>obs_value</th>\n",
       "      <th>areacode</th>\n",
       "    </tr>\n",
       "  </thead>\n",
       "  <tbody>\n",
       "    <tr>\n",
       "      <th>0</th>\n",
       "      <td>AGE00135039</td>\n",
       "      <td>18630102</td>\n",
       "      <td>TMAX</td>\n",
       "      <td>11.5</td>\n",
       "      <td>AGE</td>\n",
       "    </tr>\n",
       "    <tr>\n",
       "      <th>1</th>\n",
       "      <td>AGE00135039</td>\n",
       "      <td>18630103</td>\n",
       "      <td>TMAX</td>\n",
       "      <td>11.0</td>\n",
       "      <td>AGE</td>\n",
       "    </tr>\n",
       "    <tr>\n",
       "      <th>2</th>\n",
       "      <td>AGE00135039</td>\n",
       "      <td>18630105</td>\n",
       "      <td>TMAX</td>\n",
       "      <td>15.5</td>\n",
       "      <td>AGE</td>\n",
       "    </tr>\n",
       "    <tr>\n",
       "      <th>3</th>\n",
       "      <td>AGE00135039</td>\n",
       "      <td>18630106</td>\n",
       "      <td>TMAX</td>\n",
       "      <td>16.5</td>\n",
       "      <td>AGE</td>\n",
       "    </tr>\n",
       "    <tr>\n",
       "      <th>4</th>\n",
       "      <td>AGE00135039</td>\n",
       "      <td>18630107</td>\n",
       "      <td>TMAX</td>\n",
       "      <td>15.0</td>\n",
       "      <td>AGE</td>\n",
       "    </tr>\n",
       "    <tr>\n",
       "      <th>...</th>\n",
       "      <td>...</td>\n",
       "      <td>...</td>\n",
       "      <td>...</td>\n",
       "      <td>...</td>\n",
       "      <td>...</td>\n",
       "    </tr>\n",
       "    <tr>\n",
       "      <th>5875</th>\n",
       "      <td>USW00014838</td>\n",
       "      <td>18630727</td>\n",
       "      <td>TMAX</td>\n",
       "      <td>20.6</td>\n",
       "      <td>USW</td>\n",
       "    </tr>\n",
       "    <tr>\n",
       "      <th>5876</th>\n",
       "      <td>USW00014838</td>\n",
       "      <td>18630728</td>\n",
       "      <td>TMAX</td>\n",
       "      <td>19.9</td>\n",
       "      <td>USW</td>\n",
       "    </tr>\n",
       "    <tr>\n",
       "      <th>5877</th>\n",
       "      <td>USW00014838</td>\n",
       "      <td>18630729</td>\n",
       "      <td>TMAX</td>\n",
       "      <td>25.1</td>\n",
       "      <td>USW</td>\n",
       "    </tr>\n",
       "    <tr>\n",
       "      <th>5878</th>\n",
       "      <td>USW00014838</td>\n",
       "      <td>18630730</td>\n",
       "      <td>TMAX</td>\n",
       "      <td>29.4</td>\n",
       "      <td>USW</td>\n",
       "    </tr>\n",
       "    <tr>\n",
       "      <th>5879</th>\n",
       "      <td>USW00014838</td>\n",
       "      <td>18630731</td>\n",
       "      <td>TMAX</td>\n",
       "      <td>25.6</td>\n",
       "      <td>USW</td>\n",
       "    </tr>\n",
       "  </tbody>\n",
       "</table>\n",
       "<p>5880 rows × 5 columns</p>\n",
       "</div>"
      ]
     },
     "metadata": {},
     "execution_count": 317
    }
   ],
   "metadata": {
    "deletable": false,
    "nbgrader": {
     "cell_type": "code",
     "checksum": "b791aa50dbe353387d9dba1c3c2f7f45",
     "grade": false,
     "grade_id": "cell-06b389c7710d2f21",
     "locked": false,
     "schema_version": 3,
     "solution": true,
     "task": false
    }
   }
  },
  {
   "cell_type": "markdown",
   "source": [
    "## Categorical Data"
   ],
   "metadata": {}
  },
  {
   "cell_type": "markdown",
   "source": [
    "Having watched the video introducing categorical data, we now want you to try and work with it.\r\n",
    "\r\n",
    "> **Ex. 2.3.2:** Do the following:\r\n",
    "> 1. Convert the `area` column to a categorical variable. \r\n",
    "> 2. Transform the `obs_value` column from a continuous to a categorical variable by partitioning it into `3` intervals. The first interval should contain observations with values of `obs_value` up to the 10% quantile. The second interval should contain observations with values of `obs_value` up to the 90% quantile. The third interval should contain the rest of the observations. Call this new column for `obs_value_cat`.  This can be done using the `pd.qcut()` method.\r\n",
    "> 3. Make another column with  `obs_value` as a categorical variable but this time label the 3 intervals as `[\"cold\", \"medium\", \"hot\"]`. This can be done by specifying the `labels` parameter in the `pd.qcut()` method of pandas. Call this new column for `obs_value_cat_labeled`."
   ],
   "metadata": {}
  },
  {
   "cell_type": "markdown",
   "source": [
    "Pandas has built-in features for working specifically with categorical data. In the video below, we will discuss how you can think about categorical data, and how you can efficiently work with it in pandas."
   ],
   "metadata": {}
  },
  {
   "cell_type": "code",
   "execution_count": null,
   "source": [
    "YouTubeVideo('x2TCnT46cl4', width=640, height=360)"
   ],
   "outputs": [],
   "metadata": {}
  },
  {
   "cell_type": "code",
   "execution_count": null,
   "source": [
    "#1.\r\n",
    "weather_df['areacode'] = weather_df['areacode'].astype('category')\r\n",
    "\r\n",
    "#2. \r\n",
    "weather_df['obs_value_cat'] = pd.qcut(weather_df['obs_value'],q=[0,0.10, 0.90, 1])\r\n",
    "\r\n",
    "#3\r\n",
    "weather_df['obs_value_labeled'] = pd.qcut(weather_df['obs_value'],q=[0,0.10, 0.90, 1], labels=[\"cold\", \"medium\", \"hot\"])\r\n",
    "\r\n",
    "weather_df\r\n",
    "\r\n",
    "print (weather_df.dtypes) #prints the type"
   ],
   "outputs": [
    {
     "output_type": "stream",
     "name": "stdout",
     "text": [
      "station                object\n",
      "datetime                int64\n",
      "obs_type               object\n",
      "obs_value             float64\n",
      "areacode             category\n",
      "obs_value_cat        category\n",
      "obs_value_labeled    category\n",
      "dtype: object\n"
     ]
    }
   ],
   "metadata": {
    "deletable": false,
    "nbgrader": {
     "cell_type": "code",
     "checksum": "90d110a6f710157d53bd4d11241debb1",
     "grade": false,
     "grade_id": "cell-4471027effe9de1e",
     "locked": false,
     "schema_version": 3,
     "solution": true,
     "task": false
    }
   }
  },
  {
   "cell_type": "code",
   "execution_count": null,
   "source": [
    "# INCLUDED IN ASSIGNMENT 1"
   ],
   "outputs": [],
   "metadata": {
    "nbgrader": {
     "grade": false,
     "grade_id": "cell-4471027effe9de1e",
     "locked": false,
     "schema_version": 3,
     "solution": true,
     "task": false
    }
   }
  },
  {
   "cell_type": "markdown",
   "source": [
    "## Time Series Data\n",
    "\n",
    "Our coverage of basic Python did not include time. This is another elementary datatypes, that has its own native structure or maybe converted to an integer using a smart method. See more below."
   ],
   "metadata": {}
  },
  {
   "cell_type": "code",
   "execution_count": null,
   "source": [
    "YouTubeVideo('DmkT7PdqgAA', width=640, height=360)"
   ],
   "outputs": [],
   "metadata": {}
  },
  {
   "cell_type": "markdown",
   "source": [
    "> **Ex. 2.3.3:** Convert the date formated as string to datetime. Call this column `datetime_dt`. Make a new column named `month` with the month for each observation. Set the datetime variable as temporal index. \r\n",
    ">\r\n",
    "> *Hint:* Look up `.set_index()` setting the index."
   ],
   "metadata": {}
  },
  {
   "cell_type": "code",
   "execution_count": null,
   "source": [
    "from datetime import datetime\r\n",
    "\r\n",
    "weather_df['datetime_dt'] = weather_df['datetime'].apply(lambda x: pd.to_datetime(int(x), format='%Y%m%d'))\r\n",
    "weather_df['months'] = weather_df['datetime_dt'].dt.month\r\n",
    "\r\n",
    "weather_df = weather_df.set_index('datetime_dt')\r\n",
    "\r\n",
    "weather_df\r\n"
   ],
   "outputs": [
    {
     "output_type": "execute_result",
     "data": {
      "text/plain": [
       "                 station  datetime obs_type  obs_value areacode obs_value_cat  \\\n",
       "datetime_dt                                                                     \n",
       "1863-01-02   AGE00135039  18630102     TMAX       11.5      AGE   (5.6, 27.0]   \n",
       "1863-01-03   AGE00135039  18630103     TMAX       11.0      AGE   (5.6, 27.0]   \n",
       "1863-01-05   AGE00135039  18630105     TMAX       15.5      AGE   (5.6, 27.0]   \n",
       "1863-01-06   AGE00135039  18630106     TMAX       16.5      AGE   (5.6, 27.0]   \n",
       "1863-01-07   AGE00135039  18630107     TMAX       15.0      AGE   (5.6, 27.0]   \n",
       "...                  ...       ...      ...        ...      ...           ...   \n",
       "1863-07-27   USW00014838  18630727     TMAX       20.6      USW   (5.6, 27.0]   \n",
       "1863-07-28   USW00014838  18630728     TMAX       19.9      USW   (5.6, 27.0]   \n",
       "1863-07-29   USW00014838  18630729     TMAX       25.1      USW   (5.6, 27.0]   \n",
       "1863-07-30   USW00014838  18630730     TMAX       29.4      USW  (27.0, 49.4]   \n",
       "1863-07-31   USW00014838  18630731     TMAX       25.6      USW   (5.6, 27.0]   \n",
       "\n",
       "            obs_value_labeled  months  \n",
       "datetime_dt                            \n",
       "1863-01-02             medium       1  \n",
       "1863-01-03             medium       1  \n",
       "1863-01-05             medium       1  \n",
       "1863-01-06             medium       1  \n",
       "1863-01-07             medium       1  \n",
       "...                       ...     ...  \n",
       "1863-07-27             medium       7  \n",
       "1863-07-28             medium       7  \n",
       "1863-07-29             medium       7  \n",
       "1863-07-30                hot       7  \n",
       "1863-07-31             medium       7  \n",
       "\n",
       "[5880 rows x 8 columns]"
      ],
      "text/html": [
       "<div>\n",
       "<style scoped>\n",
       "    .dataframe tbody tr th:only-of-type {\n",
       "        vertical-align: middle;\n",
       "    }\n",
       "\n",
       "    .dataframe tbody tr th {\n",
       "        vertical-align: top;\n",
       "    }\n",
       "\n",
       "    .dataframe thead th {\n",
       "        text-align: right;\n",
       "    }\n",
       "</style>\n",
       "<table border=\"1\" class=\"dataframe\">\n",
       "  <thead>\n",
       "    <tr style=\"text-align: right;\">\n",
       "      <th></th>\n",
       "      <th>station</th>\n",
       "      <th>datetime</th>\n",
       "      <th>obs_type</th>\n",
       "      <th>obs_value</th>\n",
       "      <th>areacode</th>\n",
       "      <th>obs_value_cat</th>\n",
       "      <th>obs_value_labeled</th>\n",
       "      <th>months</th>\n",
       "    </tr>\n",
       "    <tr>\n",
       "      <th>datetime_dt</th>\n",
       "      <th></th>\n",
       "      <th></th>\n",
       "      <th></th>\n",
       "      <th></th>\n",
       "      <th></th>\n",
       "      <th></th>\n",
       "      <th></th>\n",
       "      <th></th>\n",
       "    </tr>\n",
       "  </thead>\n",
       "  <tbody>\n",
       "    <tr>\n",
       "      <th>1863-01-02</th>\n",
       "      <td>AGE00135039</td>\n",
       "      <td>18630102</td>\n",
       "      <td>TMAX</td>\n",
       "      <td>11.5</td>\n",
       "      <td>AGE</td>\n",
       "      <td>(5.6, 27.0]</td>\n",
       "      <td>medium</td>\n",
       "      <td>1</td>\n",
       "    </tr>\n",
       "    <tr>\n",
       "      <th>1863-01-03</th>\n",
       "      <td>AGE00135039</td>\n",
       "      <td>18630103</td>\n",
       "      <td>TMAX</td>\n",
       "      <td>11.0</td>\n",
       "      <td>AGE</td>\n",
       "      <td>(5.6, 27.0]</td>\n",
       "      <td>medium</td>\n",
       "      <td>1</td>\n",
       "    </tr>\n",
       "    <tr>\n",
       "      <th>1863-01-05</th>\n",
       "      <td>AGE00135039</td>\n",
       "      <td>18630105</td>\n",
       "      <td>TMAX</td>\n",
       "      <td>15.5</td>\n",
       "      <td>AGE</td>\n",
       "      <td>(5.6, 27.0]</td>\n",
       "      <td>medium</td>\n",
       "      <td>1</td>\n",
       "    </tr>\n",
       "    <tr>\n",
       "      <th>1863-01-06</th>\n",
       "      <td>AGE00135039</td>\n",
       "      <td>18630106</td>\n",
       "      <td>TMAX</td>\n",
       "      <td>16.5</td>\n",
       "      <td>AGE</td>\n",
       "      <td>(5.6, 27.0]</td>\n",
       "      <td>medium</td>\n",
       "      <td>1</td>\n",
       "    </tr>\n",
       "    <tr>\n",
       "      <th>1863-01-07</th>\n",
       "      <td>AGE00135039</td>\n",
       "      <td>18630107</td>\n",
       "      <td>TMAX</td>\n",
       "      <td>15.0</td>\n",
       "      <td>AGE</td>\n",
       "      <td>(5.6, 27.0]</td>\n",
       "      <td>medium</td>\n",
       "      <td>1</td>\n",
       "    </tr>\n",
       "    <tr>\n",
       "      <th>...</th>\n",
       "      <td>...</td>\n",
       "      <td>...</td>\n",
       "      <td>...</td>\n",
       "      <td>...</td>\n",
       "      <td>...</td>\n",
       "      <td>...</td>\n",
       "      <td>...</td>\n",
       "      <td>...</td>\n",
       "    </tr>\n",
       "    <tr>\n",
       "      <th>1863-07-27</th>\n",
       "      <td>USW00014838</td>\n",
       "      <td>18630727</td>\n",
       "      <td>TMAX</td>\n",
       "      <td>20.6</td>\n",
       "      <td>USW</td>\n",
       "      <td>(5.6, 27.0]</td>\n",
       "      <td>medium</td>\n",
       "      <td>7</td>\n",
       "    </tr>\n",
       "    <tr>\n",
       "      <th>1863-07-28</th>\n",
       "      <td>USW00014838</td>\n",
       "      <td>18630728</td>\n",
       "      <td>TMAX</td>\n",
       "      <td>19.9</td>\n",
       "      <td>USW</td>\n",
       "      <td>(5.6, 27.0]</td>\n",
       "      <td>medium</td>\n",
       "      <td>7</td>\n",
       "    </tr>\n",
       "    <tr>\n",
       "      <th>1863-07-29</th>\n",
       "      <td>USW00014838</td>\n",
       "      <td>18630729</td>\n",
       "      <td>TMAX</td>\n",
       "      <td>25.1</td>\n",
       "      <td>USW</td>\n",
       "      <td>(5.6, 27.0]</td>\n",
       "      <td>medium</td>\n",
       "      <td>7</td>\n",
       "    </tr>\n",
       "    <tr>\n",
       "      <th>1863-07-30</th>\n",
       "      <td>USW00014838</td>\n",
       "      <td>18630730</td>\n",
       "      <td>TMAX</td>\n",
       "      <td>29.4</td>\n",
       "      <td>USW</td>\n",
       "      <td>(27.0, 49.4]</td>\n",
       "      <td>hot</td>\n",
       "      <td>7</td>\n",
       "    </tr>\n",
       "    <tr>\n",
       "      <th>1863-07-31</th>\n",
       "      <td>USW00014838</td>\n",
       "      <td>18630731</td>\n",
       "      <td>TMAX</td>\n",
       "      <td>25.6</td>\n",
       "      <td>USW</td>\n",
       "      <td>(5.6, 27.0]</td>\n",
       "      <td>medium</td>\n",
       "      <td>7</td>\n",
       "    </tr>\n",
       "  </tbody>\n",
       "</table>\n",
       "<p>5880 rows × 8 columns</p>\n",
       "</div>"
      ]
     },
     "metadata": {},
     "execution_count": 319
    }
   ],
   "metadata": {
    "deletable": false,
    "nbgrader": {
     "cell_type": "code",
     "checksum": "3711d48d26ae9023456a798ed11e5ffa",
     "grade": false,
     "grade_id": "cell-fbac9fd2ad284d24",
     "locked": false,
     "schema_version": 3,
     "solution": true,
     "task": false
    }
   }
  },
  {
   "cell_type": "markdown",
   "source": [
    "> **Ex. 2.3.4:** Update your annotated function above with processing of area and temporal data.          "
   ],
   "metadata": {}
  },
  {
   "cell_type": "code",
   "execution_count": null,
   "source": [
    "# INCLUDED IN ASSIGNMENT 1"
   ],
   "outputs": [],
   "metadata": {
    "nbgrader": {
     "grade": false,
     "grade_id": "cell-4471027effe9de1e",
     "locked": false,
     "schema_version": 3,
     "solution": true,
     "task": false
    }
   }
  },
  {
   "cell_type": "code",
   "execution_count": 336,
   "source": [
    "def load_weather(year):\r\n",
    "    \r\n",
    "    url = f\"ftp://ftp.ncdc.noaa.gov/pub/data/ghcn/daily/by_year/{year}.csv.gz\"\r\n",
    "\r\n",
    "    df_weather = pd.read_csv(url, \r\n",
    "                             header=None)        \r\n",
    "\r\n",
    "    df_weather = df_weather.iloc[:,:4] \r\n",
    "\r\n",
    "    # state everything below in one method chain\r\n",
    "\r\n",
    "    df_weather = df_weather\\\r\n",
    "        .rename(columns = {0:'station', 1:'datetime', 2:'obs_type', 3:'obs_value'})\\\r\n",
    "        .loc[df_weather[2] == 'TMAX']\\\r\n",
    "        .assign(obs_value = lambda df_weather: df_weather['obs_value'] / 10, \\\r\n",
    "            area = df_weather[0].str.extract('(^[A-Z]+)', expand = True),\r\n",
    "            datetime_dt = pd.to_datetime(df_weather[1], format='%Y%m%d'))\\\r\n",
    "        .sort_values(by=['station','datetime'])\\\r\n",
    "        .reset_index(drop=True)\\\r\n",
    "        .copy()\r\n",
    "\r\n",
    "    df_out = df_weather\\\r\n",
    "        .assign(\r\n",
    "            obs_value_cat = pd.qcut(df_weather['obs_value'], q= [0,0.1,0.9,1]), \\\r\n",
    "            obs_value_cat_labelled = pd.qcut(df_weather['obs_value'], q= [0,0.1,0.9,1],labels=['cold', 'medium', 'hot']),\r\n",
    "            month = df_weather['datetime_dt'].dt.month) \\\r\n",
    "        .set_index('datetime_dt') \r\n",
    "\r\n",
    "    df_out['area'] = df_out['area'].astype('category')\r\n",
    "\r\n",
    "    return df_out\r\n",
    "\r\n",
    "weather_data = load_weather(1863)\r\n",
    "weather_data\r\n",
    "print(weather_data)"
   ],
   "outputs": [
    {
     "output_type": "stream",
     "name": "stdout",
     "text": [
      "                 station  datetime obs_type  obs_value area obs_value_cat  \\\n",
      "datetime_dt                                                                 \n",
      "1863-01-02   AGE00135039  18630102     TMAX       11.5  AGE   (5.6, 27.0]   \n",
      "1863-01-03   AGE00135039  18630103     TMAX       11.0  AGE   (5.6, 27.0]   \n",
      "1863-01-05   AGE00135039  18630105     TMAX       15.5  AGE   (5.6, 27.0]   \n",
      "1863-01-06   AGE00135039  18630106     TMAX       16.5  AGE   (5.6, 27.0]   \n",
      "1863-01-07   AGE00135039  18630107     TMAX       15.0  AGE   (5.6, 27.0]   \n",
      "...                  ...       ...      ...        ...  ...           ...   \n",
      "1863-07-27   USW00014838  18630727     TMAX       20.6  USW   (5.6, 27.0]   \n",
      "1863-07-28   USW00014838  18630728     TMAX       19.9  USW   (5.6, 27.0]   \n",
      "1863-07-29   USW00014838  18630729     TMAX       25.1  USW   (5.6, 27.0]   \n",
      "1863-07-30   USW00014838  18630730     TMAX       29.4  USW  (27.0, 49.4]   \n",
      "1863-07-31   USW00014838  18630731     TMAX       25.6  USW   (5.6, 27.0]   \n",
      "\n",
      "            obs_value_cat_labelled  month  \n",
      "datetime_dt                                \n",
      "1863-01-02                  medium      1  \n",
      "1863-01-03                  medium      1  \n",
      "1863-01-05                  medium      1  \n",
      "1863-01-06                  medium      1  \n",
      "1863-01-07                  medium      1  \n",
      "...                            ...    ...  \n",
      "1863-07-27                  medium      7  \n",
      "1863-07-28                  medium      7  \n",
      "1863-07-29                  medium      7  \n",
      "1863-07-30                     hot      7  \n",
      "1863-07-31                  medium      7  \n",
      "\n",
      "[5880 rows x 8 columns]\n"
     ]
    }
   ],
   "metadata": {
    "deletable": false,
    "nbgrader": {
     "cell_type": "code",
     "checksum": "198a9946d9652436432a5eed2d7cd443",
     "grade": false,
     "grade_id": "cell-1ee57534437b4ebb",
     "locked": false,
     "schema_version": 3,
     "solution": true,
     "task": false
    }
   }
  },
  {
   "cell_type": "markdown",
   "source": [
    "> **Ex. 2.3.5:** Make a timeseries plot for the station called `AGE00135039`.\r\n",
    ">\r\n",
    "> _Hint:_ for this you need to know a few methods of the pandas Series objects, for instance `.plot()`. "
   ],
   "metadata": {}
  },
  {
   "cell_type": "code",
   "execution_count": null,
   "source": [
    "import matplotlib.pyplot as plt\r\n",
    "\r\n",
    "\r\n",
    "#Make numeric to be able to use the groupby function\r\n",
    "weather_df[['obs_value']] = weather_df[['obs_value']].apply(pd.to_numeric, errors='coerce')\r\n",
    "weather_df[['months']] = weather_df[['months']].apply(pd.to_numeric, errors='coerce')\r\n",
    "\r\n",
    "\r\n",
    "AGE_station = weather_df[weather_df['station'] == 'AGE00135039\t'] \r\n",
    "\r\n",
    "AGE_station['obs_value'].plot(x='months',y='value').plot()\r\n"
   ],
   "outputs": [
    {
     "output_type": "execute_result",
     "data": {
      "text/plain": [
       "[]"
      ]
     },
     "metadata": {},
     "execution_count": 320
    },
    {
     "output_type": "display_data",
     "data": {
      "text/plain": [
       "<Figure size 432x288 with 1 Axes>"
      ],
      "image/png": "[encoded data removed]"
     },
     "metadata": {
      "needs_background": "light"
     }
    }
   ],
   "metadata": {}
  },
  {
   "cell_type": "code",
   "execution_count": null,
   "source": [
    "# YOUR CODE HERE\r\n",
    "raise NotImplementedError()"
   ],
   "outputs": [],
   "metadata": {
    "deletable": false,
    "nbgrader": {
     "cell_type": "code",
     "checksum": "e18712eff9f69bfeb4cb4ed31f343f77",
     "grade": false,
     "grade_id": "cell-46e6efb8f7619f0e",
     "locked": false,
     "schema_version": 3,
     "solution": true,
     "task": false
    }
   }
  }
 ],
 "metadata": {
  "kernelspec": {
   "name": "python3",
   "display_name": "Python 3.8.5 64-bit ('base': conda)"
  },
  "language_info": {
   "codemirror_mode": {
    "name": "ipython",
    "version": 3
   },
   "file_extension": ".py",
   "mimetype": "text/x-python",
   "name": "python",
   "nbconvert_exporter": "python",
   "pygments_lexer": "ipython3",
   "version": "3.8.5"
  },
  "nav_menu": {},
  "toc": {
   "navigate_menu": true,
   "number_sections": false,
   "sideBar": true,
   "threshold": 6,
   "toc_cell": false,
   "toc_section_display": "block",
   "toc_window_display": true
  },
  "varInspector": {
   "cols": {
    "lenName": 16,
    "lenType": 16,
    "lenVar": 40
   },
   "kernels_config": {
    "python": {
     "delete_cmd_postfix": "",
     "delete_cmd_prefix": "del ",
     "library": "var_list.py",
     "varRefreshCmd": "print(var_dic_list())"
    },
    "r": {
     "delete_cmd_postfix": ") ",
     "delete_cmd_prefix": "rm(",
     "library": "var_list.r",
     "varRefreshCmd": "cat(var_dic_list()) "
    }
   },
   "types_to_exclude": [
    "module",
    "function",
    "builtin_function_or_method",
    "instance",
    "_Feature"
   ],
   "window_display": false
  },
  "interpreter": {
   "hash": "c5b380a9d56af0a8cc6df1f6b95aad6af5918c5f1674ec4152e7cb0451ca8ae7"
  }
 },
 "nbformat": 4,
 "nbformat_minor": 4
}