{
 "cells": [
  {
   "cell_type": "markdown",
   "source": [
    "# Analysis of Twitter data"
   ],
   "metadata": {
    "ExecuteTime": {
     "end_time": "2017-08-23T15:30:03.634114Z",
     "start_time": "2017-08-23T15:30:03.629294Z"
    }
   }
  },
  {
   "cell_type": "markdown",
   "source": [
    "## Packages\n",
    "Load in the required modules and set up the plotting library:"
   ],
   "metadata": {
    "ExecuteTime": {
     "end_time": "2017-08-23T15:30:03.634114Z",
     "start_time": "2017-08-23T15:30:03.629294Z"
    }
   }
  },
  {
   "cell_type": "code",
   "execution_count": 21,
   "source": [
    "%matplotlib inline\r\n",
    "import numpy as np\r\n",
    "import pandas as pd\r\n",
    "import matplotlib.pyplot as plt\r\n",
    "from IPython.display import YouTubeVideo"
   ],
   "outputs": [],
   "metadata": {}
  },
  {
   "cell_type": "code",
   "execution_count": 31,
   "source": [
    "#pip3 install tweepy\r\n",
    "import tweepy\r\n",
    "import configparser\r\n",
    "config = configparser.ConfigParser()"
   ],
   "outputs": [],
   "metadata": {}
  },
  {
   "cell_type": "code",
   "execution_count": 2,
   "source": [
    "pip install oauth2"
   ],
   "outputs": [
    {
     "output_type": "stream",
     "name": "stdout",
     "text": [
      "Collecting oauth2\n",
      "  Downloading oauth2-1.9.0.post1-py2.py3-none-any.whl (25 kB)\n",
      "Collecting httplib2\n",
      "  Downloading httplib2-0.19.1-py3-none-any.whl (95 kB)\n",
      "Requirement already satisfied: pyparsing<3,>=2.4.2 in c:\\users\\lzeeberg\\anaconda3\\lib\\site-packages (from httplib2->oauth2) (2.4.7)\n",
      "Installing collected packages: httplib2, oauth2\n",
      "Successfully installed httplib2-0.19.1 oauth2-1.9.0.post1\n",
      "Note: you may need to restart the kernel to use updated packages.\n"
     ]
    }
   ],
   "metadata": {}
  },
  {
   "cell_type": "code",
   "execution_count": 38,
   "source": [
    "consumer_key = \"RgzLP92rQInrLJ3eOt4402dvfp4KcTO06g0ej66OkiMUaCslLI\"\r\n",
    "consumer_secret = \"RgzLP92rQInrLJ3eOt4402dvfp4KcTO06g0ej66OkiMUaCslLI\"\r\n",
    "access_token = \"1426101221484638210-qo4USrtZpTQzrJ9KNJjZDi5pmz6urS\"\r\n",
    "access_secret = \"zCrP7ElI52JoAdcLjsIDgvC81dOhMn9nPZVsQtZKJmtyO\"\r\n",
    "auth = tweepy.OAuthHandler(consumer_key, consumer_secret)\r\n",
    "auth.set_access_token(access_token, acces_secret)\r\n",
    "api = tweepy.API(auth,wait_on_rate_limit=True)"
   ],
   "outputs": [],
   "metadata": {}
  },
  {
   "cell_type": "code",
   "execution_count": 17,
   "source": [
    "def auth():\r\n",
    "    try:\r\n",
    "        auth = tweepy.OAuthHandler(config.consumer_key, config.consumer_secret)\r\n",
    "        auth.set_access_token(config.access_token, config.access_secret)\r\n",
    "        api = tweepy.API(auth)\r\n",
    "        print(\"Authentication OK\")\r\n",
    "    except:\r\n",
    "        print(\"An error occurred during the authentication\")\r\n",
    "    \r\n",
    "    return api\r\n"
   ],
   "outputs": [],
   "metadata": {}
  },
  {
   "cell_type": "code",
   "execution_count": 39,
   "source": [
    "try:\r\n",
    "    api.verify_credentials()\r\n",
    "\r\n",
    "    print(\"Authentication OK\")\r\n",
    "\r\n",
    "except:\r\n",
    "\r\n",
    "  print(\"Error during authentication\")"
   ],
   "outputs": [
    {
     "output_type": "stream",
     "name": "stdout",
     "text": [
      "Authentication OK\n"
     ]
    }
   ],
   "metadata": {}
  },
  {
   "cell_type": "code",
   "execution_count": 40,
   "source": [
    "def search_by(api, date_since, date_until, words):\r\n",
    "    df = pd.DataFrame(columns=['id', 'created_at', 'username', 'location', 'following', \r\n",
    "                               'followers', 'retweetcount', 'text']) \r\n",
    "    tweets = tweepy.Cursor(api.search, q=words, lang=\"en\", wait_on_rate_limit=True,\r\n",
    "                           since=date_since, until=date_until, tweet_mode='extended').items() \r\n",
    "    list_tweets = [tweet for tweet in tweets] \r\n",
    "         \r\n",
    "    for tweet in list_tweets: \r\n",
    "        id = tweet.id\r\n",
    "        created_at = tweet.created_at\r\n",
    "        username = tweet.user.screen_name \r\n",
    "        location = tweet.user.location \r\n",
    "        following = tweet.user.friends_count \r\n",
    "        followers = tweet.user.followers_count \r\n",
    "        totaltweets = tweet.user.statuses_count \r\n",
    "        retweetcount = tweet.retweet_count \r\n",
    "\r\n",
    "        try: \r\n",
    "            text = tweet.retweeted_status.full_text \r\n",
    "        except AttributeError: \r\n",
    "            text = tweet.full_text \r\n",
    "  \r\n",
    "        tweets = [id, created_at, username, location, following, \r\n",
    "                     followers, retweetcount, text] \r\n",
    "\r\n",
    "        df.loc[len(df)] = tweets \r\n",
    "          \r\n",
    "    filename = 'tweets.csv'\r\n",
    "    df.to_csv(filename) "
   ],
   "outputs": [],
   "metadata": {}
  },
  {
   "cell_type": "code",
   "execution_count": 45,
   "source": [
    "api = auth\r\n",
    "words = \"@JeppeKofod\"\r\n",
    "date_since = \"2021-03-01\"\r\n",
    "date_until = \"2021-08-13\"\r\n",
    "search_by(api, date_since, date_until, words)\r\n"
   ],
   "outputs": [
    {
     "output_type": "error",
     "ename": "NameError",
     "evalue": "name 'search_by' is not defined",
     "traceback": [
      "\u001b[1;31m---------------------------------------------------------------------------\u001b[0m",
      "\u001b[1;31mNameError\u001b[0m                                 Traceback (most recent call last)",
      "\u001b[1;32m<ipython-input-45-571b534a59ae>\u001b[0m in \u001b[0;36m<module>\u001b[1;34m\u001b[0m\n\u001b[0;32m      3\u001b[0m \u001b[0mdate_since\u001b[0m \u001b[1;33m=\u001b[0m \u001b[1;34m\"2021-03-01\"\u001b[0m\u001b[1;33m\u001b[0m\u001b[1;33m\u001b[0m\u001b[0m\n\u001b[0;32m      4\u001b[0m \u001b[0mdate_until\u001b[0m \u001b[1;33m=\u001b[0m \u001b[1;34m\"2021-08-13\"\u001b[0m\u001b[1;33m\u001b[0m\u001b[1;33m\u001b[0m\u001b[0m\n\u001b[1;32m----> 5\u001b[1;33m \u001b[0msearch_by\u001b[0m\u001b[1;33m(\u001b[0m\u001b[0mapi\u001b[0m\u001b[1;33m,\u001b[0m \u001b[0mdate_since\u001b[0m\u001b[1;33m,\u001b[0m \u001b[0mdate_until\u001b[0m\u001b[1;33m,\u001b[0m \u001b[0mwords\u001b[0m\u001b[1;33m)\u001b[0m\u001b[1;33m\u001b[0m\u001b[1;33m\u001b[0m\u001b[0m\n\u001b[0m",
      "\u001b[1;31mNameError\u001b[0m: name 'search_by' is not defined"
     ]
    }
   ],
   "metadata": {}
  },
  {
   "cell_type": "code",
   "execution_count": null,
   "source": [],
   "outputs": [],
   "metadata": {}
  }
 ],
 "metadata": {
  "kernelspec": {
   "name": "python3",
   "display_name": "Python 3.8.5 64-bit ('base': conda)"
  },
  "language_info": {
   "codemirror_mode": {
    "name": "ipython",
    "version": 3
   },
   "file_extension": ".py",
   "mimetype": "text/x-python",
   "name": "python",
   "nbconvert_exporter": "python",
   "pygments_lexer": "ipython3",
   "version": "3.8.5"
  },
  "nav_menu": {},
  "toc": {
   "navigate_menu": true,
   "number_sections": false,
   "sideBar": true,
   "threshold": 6,
   "toc_cell": false,
   "toc_section_display": "block",
   "toc_window_display": true
  },
  "varInspector": {
   "cols": {
    "lenName": 16,
    "lenType": 16,
    "lenVar": 40
   },
   "kernels_config": {
    "python": {
     "delete_cmd_postfix": "",
     "delete_cmd_prefix": "del ",
     "library": "var_list.py",
     "varRefreshCmd": "print(var_dic_list())"
    },
    "r": {
     "delete_cmd_postfix": ") ",
     "delete_cmd_prefix": "rm(",
     "library": "var_list.r",
     "varRefreshCmd": "cat(var_dic_list()) "
    }
   },
   "types_to_exclude": [
    "module",
    "function",
    "builtin_function_or_method",
    "instance",
    "_Feature"
   ],
   "window_display": false
  },
  "interpreter": {
   "hash": "c5b380a9d56af0a8cc6df1f6b95aad6af5918c5f1674ec4152e7cb0451ca8ae7"
  }
 },
 "nbformat": 4,
 "nbformat_minor": 4
}