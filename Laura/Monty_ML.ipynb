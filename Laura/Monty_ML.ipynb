{
 "cells": [
  {
   "cell_type": "markdown",
   "source": [
    "# Analysis of Twitter data"
   ],
   "metadata": {
    "ExecuteTime": {
     "end_time": "2017-08-23T15:30:03.634114Z",
     "start_time": "2017-08-23T15:30:03.629294Z"
    }
   }
  },
  {
   "cell_type": "markdown",
   "source": [
    "## Packages\n",
    "Load in the required modules and set up the plotting library:"
   ],
   "metadata": {
    "ExecuteTime": {
     "end_time": "2017-08-23T15:30:03.634114Z",
     "start_time": "2017-08-23T15:30:03.629294Z"
    }
   }
  },
  {
   "cell_type": "code",
   "execution_count": 1,
   "source": [
    "%matplotlib inline\r\n",
    "import numpy as np\r\n",
    "import pandas as pd\r\n",
    "import matplotlib.pyplot as plt\r\n",
    "from IPython.display import YouTubeVideo"
   ],
   "outputs": [],
   "metadata": {}
  },
  {
   "cell_type": "code",
   "execution_count": 2,
   "source": [
    "#pip3 install tweepy\r\n",
    "import tweepy\r\n",
    "import configparser\r\n",
    "config = configparser.ConfigParser()"
   ],
   "outputs": [],
   "metadata": {}
  },
  {
   "cell_type": "code",
   "execution_count": 2,
   "source": [
    "pip install oauth2"
   ],
   "outputs": [
    {
     "output_type": "stream",
     "name": "stdout",
     "text": [
      "Collecting oauth2\n",
      "  Downloading oauth2-1.9.0.post1-py2.py3-none-any.whl (25 kB)\n",
      "Collecting httplib2\n",
      "  Downloading httplib2-0.19.1-py3-none-any.whl (95 kB)\n",
      "Requirement already satisfied: pyparsing<3,>=2.4.2 in c:\\users\\lzeeberg\\anaconda3\\lib\\site-packages (from httplib2->oauth2) (2.4.7)\n",
      "Installing collected packages: httplib2, oauth2\n",
      "Successfully installed httplib2-0.19.1 oauth2-1.9.0.post1\n",
      "Note: you may need to restart the kernel to use updated packages.\n"
     ]
    }
   ],
   "metadata": {}
  },
  {
   "cell_type": "code",
   "execution_count": 30,
   "source": [
    "consumer_key = \"RgzLP92rQInrLJ3eOt4402dvfp4KcTO06g0ej66OkiMUaCslLI\"\r\n",
    "consumer_secret = \"RgzLP92rQInrLJ3eOt4402dvfp4KcTO06g0ej66OkiMUaCslLI\"\r\n",
    "access_token = \"1426101221484638210-qo4USrtZpTQzrJ9KNJjZDi5pmz6urS\"\r\n",
    "access_secret = \"zCrP7ElI52JoAdcLjsIDgvC81dOhMn9nPZVsQtZKJmtyO\"\r\n",
    "auth = tweepy.OAuthHandler(consumer_key, consumer_secret)\r\n",
    "auth.set_access_token(access_token, access_secret)\r\n",
    "api = tweepy.API(auth,wait_on_rate_limit=True)"
   ],
   "outputs": [],
   "metadata": {}
  },
  {
   "cell_type": "code",
   "execution_count": 7,
   "source": [
    "def auth():\r\n",
    "    try:\r\n",
    "        auth = tweepy.OAuthHandler(config.consumer_key, config.consumer_secret)\r\n",
    "        auth.set_access_token(config.access_token, config.access_secret)\r\n",
    "        api = tweepy.API(auth)\r\n",
    "        print(\"Authentication OK\")\r\n",
    "    except:\r\n",
    "        print(\"An error occurred during the authentication\")\r\n",
    "    \r\n",
    "    return api\r\n"
   ],
   "outputs": [],
   "metadata": {}
  },
  {
   "cell_type": "code",
   "execution_count": 8,
   "source": [
    "try:\r\n",
    "    api.verify_credentials()\r\n",
    "\r\n",
    "    print(\"Authentication OK\")\r\n",
    "\r\n",
    "except:\r\n",
    "\r\n",
    "  print(\"Error during authentication\")"
   ],
   "outputs": [
    {
     "output_type": "stream",
     "name": "stdout",
     "text": [
      "Authentication OK\n"
     ]
    }
   ],
   "metadata": {}
  },
  {
   "cell_type": "code",
   "execution_count": 12,
   "source": [
    "import sys\r\n",
    "import csv"
   ],
   "outputs": [],
   "metadata": {}
  },
  {
   "cell_type": "code",
   "execution_count": 34,
   "source": [
    "#Get your Twitter API credentials and enter them here\r\n",
    "consumer_key = \"wVj7t29E8C5QLB2uB1JcygtXC\"\r\n",
    "consumer_secret = \"tp6r7cVQBc2hX3qCO9J25xvcHIIYDOQ4zzaIx0398REhQlJVpY\"\r\n",
    "access_token = \"902544912-aeFMPvRnBgXZQzCfUUDuriiCZWKq8kI2ZjxEM4kV\"\r\n",
    "access_secret = \"H14lnpLXCZaGBghUQsy9F0LNE55vBlKZAuFpHcYxdNwLG\"\r\n",
    "\r\n",
    "\r\n",
    "#method to get a user's last tweets\r\n",
    "def get_tweets(username):\r\n",
    "\r\n",
    "\t#http://tweepy.readthedocs.org/en/v3.1.0/getting_started.html#api\r\n",
    "\tauth = tweepy.OAuthHandler(consumer_key, consumer_secret)\r\n",
    "\tauth.set_access_token(access_token, access_secret)\r\n",
    "\tapi = tweepy.API(auth)\r\n",
    "\r\n",
    "\t#set count to however many tweets you want\r\n",
    "\tnumber_of_tweets = 100\r\n",
    "\r\n",
    "\t#get tweets\r\n",
    "\ttweets_for_csv = []\r\n",
    "\tfor tweet in tweepy.Cursor(api.user_timeline, screen_name = username).items(number_of_tweets):\r\n",
    "        #create array of tweet information: username, tweet id, date/time, text\r\n",
    "\t\ttweets_for_csv.append([username, tweet.id_str, tweet.created_at, tweet.text.encode(\"utf-8\")])\r\n",
    "\r\n",
    "\t#write to a new csv file from the array of tweets\r\n",
    "\toutfile = username + \"_tweets.csv\"\r\n",
    "\tprint (\"writing to \" + outfile)\r\n",
    "\twith open(outfile, 'w+') as file:\r\n",
    "\t\twriter = csv.writer(file, delimiter=',')\r\n",
    "\t\twriter.writerows(tweets_for_csv)"
   ],
   "outputs": [],
   "metadata": {}
  },
  {
   "cell_type": "code",
   "execution_count": 35,
   "source": [
    "if __name__ == 'jeppekofod':\r\n",
    "\r\n",
    "    #get tweets for username passed at command line\r\n",
    "    if len(sys.argv) == 2:\r\n",
    "        get_tweets(sys.argv[1])\r\n",
    "    else:\r\n",
    "        print (\"Error: enter one username\")\r\n"
   ],
   "outputs": [],
   "metadata": {}
  },
  {
   "cell_type": "code",
   "execution_count": 39,
   "source": [
    "get_tweets('jeppekofod')"
   ],
   "outputs": [
    {
     "output_type": "stream",
     "name": "stdout",
     "text": [
      "writing to jeppekofod_tweets.csv\n"
     ]
    }
   ],
   "metadata": {}
  },
  {
   "cell_type": "code",
   "execution_count": 40,
   "source": [
    "data = pd.read_csv(\"jeppekofod_tweets.csv\", header=None) \r\n",
    "# Preview the first 5 lines of the loaded data \r\n",
    "data.head(10)"
   ],
   "outputs": [
    {
     "output_type": "execute_result",
     "data": {
      "text/plain": [
       "            0                    1                    2  \\\n",
       "0  jeppekofod  1426950162287677440  2021-08-15 16:53:24   \n",
       "1  jeppekofod  1426196109895127052  2021-08-13 14:57:04   \n",
       "2  jeppekofod  1424748837525204997  2021-08-09 15:06:08   \n",
       "3  jeppekofod  1424381051955294208  2021-08-08 14:44:41   \n",
       "4  jeppekofod  1422500335105581056  2021-08-03 10:11:23   \n",
       "5  jeppekofod  1420820076974985224  2021-07-29 18:54:38   \n",
       "6  jeppekofod  1420749714924789765  2021-07-29 14:15:02   \n",
       "7  jeppekofod  1420654160702226433  2021-07-29 07:55:21   \n",
       "8  jeppekofod  1418543123131666436  2021-07-23 12:06:50   \n",
       "9  jeppekofod  1418141913857802244  2021-07-22 09:32:34   \n",
       "\n",
       "                                                   3  \n",
       "0  b'RT @jensstoltenberg: Spoke with #UK PM @Bori...  \n",
       "1  b'Danskere i Afghanistan b\\xc3\\xb8r forlade la...  \n",
       "2  b'\\xf0\\x9f\\xa4\\x8d\\xe2\\x9d\\xa4\\xef\\xb8\\x8f\\xf0...  \n",
       "3  b'Denmark fully backs and joins the internatio...  \n",
       "4  b'Deeply shocked by the horrific death of Bela...  \n",
       "5  b'RT @berlingske: \\xc2\\xbbDanmark lader ikke n...  \n",
       "6  b'RT @EUACI_Ukraine: \\xf0\\x9f\\x99\\x8c EUACI is...  \n",
       "7  b'\\xf0\\x9f\\x87\\xab\\xf0\\x9f\\x87\\xb4G\\xc3\\xb3\\xc...  \n",
       "8  b'Severe rainfall in #Henan province in Centra...  \n",
       "9  b'I dag g\\xc3\\xa5r alle tanker til vores norsk...  "
      ],
      "text/html": [
       "<div>\n",
       "<style scoped>\n",
       "    .dataframe tbody tr th:only-of-type {\n",
       "        vertical-align: middle;\n",
       "    }\n",
       "\n",
       "    .dataframe tbody tr th {\n",
       "        vertical-align: top;\n",
       "    }\n",
       "\n",
       "    .dataframe thead th {\n",
       "        text-align: right;\n",
       "    }\n",
       "</style>\n",
       "<table border=\"1\" class=\"dataframe\">\n",
       "  <thead>\n",
       "    <tr style=\"text-align: right;\">\n",
       "      <th></th>\n",
       "      <th>0</th>\n",
       "      <th>1</th>\n",
       "      <th>2</th>\n",
       "      <th>3</th>\n",
       "    </tr>\n",
       "  </thead>\n",
       "  <tbody>\n",
       "    <tr>\n",
       "      <th>0</th>\n",
       "      <td>jeppekofod</td>\n",
       "      <td>1426950162287677440</td>\n",
       "      <td>2021-08-15 16:53:24</td>\n",
       "      <td>b'RT @jensstoltenberg: Spoke with #UK PM @Bori...</td>\n",
       "    </tr>\n",
       "    <tr>\n",
       "      <th>1</th>\n",
       "      <td>jeppekofod</td>\n",
       "      <td>1426196109895127052</td>\n",
       "      <td>2021-08-13 14:57:04</td>\n",
       "      <td>b'Danskere i Afghanistan b\\xc3\\xb8r forlade la...</td>\n",
       "    </tr>\n",
       "    <tr>\n",
       "      <th>2</th>\n",
       "      <td>jeppekofod</td>\n",
       "      <td>1424748837525204997</td>\n",
       "      <td>2021-08-09 15:06:08</td>\n",
       "      <td>b'\\xf0\\x9f\\xa4\\x8d\\xe2\\x9d\\xa4\\xef\\xb8\\x8f\\xf0...</td>\n",
       "    </tr>\n",
       "    <tr>\n",
       "      <th>3</th>\n",
       "      <td>jeppekofod</td>\n",
       "      <td>1424381051955294208</td>\n",
       "      <td>2021-08-08 14:44:41</td>\n",
       "      <td>b'Denmark fully backs and joins the internatio...</td>\n",
       "    </tr>\n",
       "    <tr>\n",
       "      <th>4</th>\n",
       "      <td>jeppekofod</td>\n",
       "      <td>1422500335105581056</td>\n",
       "      <td>2021-08-03 10:11:23</td>\n",
       "      <td>b'Deeply shocked by the horrific death of Bela...</td>\n",
       "    </tr>\n",
       "    <tr>\n",
       "      <th>5</th>\n",
       "      <td>jeppekofod</td>\n",
       "      <td>1420820076974985224</td>\n",
       "      <td>2021-07-29 18:54:38</td>\n",
       "      <td>b'RT @berlingske: \\xc2\\xbbDanmark lader ikke n...</td>\n",
       "    </tr>\n",
       "    <tr>\n",
       "      <th>6</th>\n",
       "      <td>jeppekofod</td>\n",
       "      <td>1420749714924789765</td>\n",
       "      <td>2021-07-29 14:15:02</td>\n",
       "      <td>b'RT @EUACI_Ukraine: \\xf0\\x9f\\x99\\x8c EUACI is...</td>\n",
       "    </tr>\n",
       "    <tr>\n",
       "      <th>7</th>\n",
       "      <td>jeppekofod</td>\n",
       "      <td>1420654160702226433</td>\n",
       "      <td>2021-07-29 07:55:21</td>\n",
       "      <td>b'\\xf0\\x9f\\x87\\xab\\xf0\\x9f\\x87\\xb4G\\xc3\\xb3\\xc...</td>\n",
       "    </tr>\n",
       "    <tr>\n",
       "      <th>8</th>\n",
       "      <td>jeppekofod</td>\n",
       "      <td>1418543123131666436</td>\n",
       "      <td>2021-07-23 12:06:50</td>\n",
       "      <td>b'Severe rainfall in #Henan province in Centra...</td>\n",
       "    </tr>\n",
       "    <tr>\n",
       "      <th>9</th>\n",
       "      <td>jeppekofod</td>\n",
       "      <td>1418141913857802244</td>\n",
       "      <td>2021-07-22 09:32:34</td>\n",
       "      <td>b'I dag g\\xc3\\xa5r alle tanker til vores norsk...</td>\n",
       "    </tr>\n",
       "  </tbody>\n",
       "</table>\n",
       "</div>"
      ]
     },
     "metadata": {},
     "execution_count": 40
    }
   ],
   "metadata": {}
  }
 ],
 "metadata": {
  "kernelspec": {
   "name": "python3",
   "display_name": "Python 3.8.5 64-bit ('base': conda)"
  },
  "language_info": {
   "codemirror_mode": {
    "name": "ipython",
    "version": 3
   },
   "file_extension": ".py",
   "mimetype": "text/x-python",
   "name": "python",
   "nbconvert_exporter": "python",
   "pygments_lexer": "ipython3",
   "version": "3.8.5"
  },
  "nav_menu": {},
  "toc": {
   "navigate_menu": true,
   "number_sections": false,
   "sideBar": true,
   "threshold": 6,
   "toc_cell": false,
   "toc_section_display": "block",
   "toc_window_display": true
  },
  "varInspector": {
   "cols": {
    "lenName": 16,
    "lenType": 16,
    "lenVar": 40
   },
   "kernels_config": {
    "python": {
     "delete_cmd_postfix": "",
     "delete_cmd_prefix": "del ",
     "library": "var_list.py",
     "varRefreshCmd": "print(var_dic_list())"
    },
    "r": {
     "delete_cmd_postfix": ") ",
     "delete_cmd_prefix": "rm(",
     "library": "var_list.r",
     "varRefreshCmd": "cat(var_dic_list()) "
    }
   },
   "types_to_exclude": [
    "module",
    "function",
    "builtin_function_or_method",
    "instance",
    "_Feature"
   ],
   "window_display": false
  },
  "interpreter": {
   "hash": "c5b380a9d56af0a8cc6df1f6b95aad6af5918c5f1674ec4152e7cb0451ca8ae7"
  }
 },
 "nbformat": 4,
 "nbformat_minor": 4
}