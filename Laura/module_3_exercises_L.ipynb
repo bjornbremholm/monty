{
 "cells": [
  {
   "cell_type": "markdown",
   "source": [
    "# Videos and Exercises for Session 3: Data Structuring in Pandas II\n",
    "\n",
    "In this combined teaching module and exercise set, you will continue working with structuring data. \n",
    "\n",
    "In the last session, you were working with making operations on relatively clean data. However, before it is meaningful to make such operations, you will (as a data scientist) often have to do some very preliminary cleaning, involving for instance dealing with missings and duplicates as well as combining and restructuring larger sets of data. These are among the topics that we will be focusing on today.\n",
    "\n",
    "The notebook is structured as follows:\n",
    "1. Missings and Duplicated Data:\n",
    "    - Handling Missings: Delete or Interpolate?\n",
    "    - Spotting and Interpreting Duplicates\n",
    "2. Combining Data Sets:\n",
    "    - Intro to `merge`, `concat` and `join`\n",
    "    - Horizontal and Vertical Merging\n",
    "3. Split-Apply-Combine\n",
    "    - Finding Means and Other Characteristics from Data Subsets (aggregation)\n",
    "4. Reshaping Data\n",
    "    - Wide and Long Data\n",
    "    - Intro to `stack`"
   ],
   "metadata": {
    "ExecuteTime": {
     "end_time": "2017-08-23T15:30:03.634114Z",
     "start_time": "2017-08-23T15:30:03.629294Z"
    }
   }
  },
  {
   "cell_type": "markdown",
   "source": [
    "## Loading\n",
    "Before we get started.... load in the required modules and set up the plotting library!"
   ],
   "metadata": {
    "ExecuteTime": {
     "end_time": "2017-08-23T15:30:03.634114Z",
     "start_time": "2017-08-23T15:30:03.629294Z"
    }
   }
  },
  {
   "cell_type": "code",
   "execution_count": 22,
   "source": [
    "%matplotlib inline\r\n",
    "import numpy as np\r\n",
    "import pandas as pd\r\n",
    "import matplotlib.pyplot as plt\r\n",
    "from IPython.display import YouTubeVideo"
   ],
   "outputs": [],
   "metadata": {}
  },
  {
   "cell_type": "markdown",
   "source": [
    "#  Part 1: Duplicates and Missings\n",
    "\n",
    "In this section we will use [this dataset](https://archive.ics.uci.edu/ml/datasets/Adult) from the [UCI Machine Learning Repository](https://archive.ics.uci.edu/ml/datasets.html) to practice some basic operations on pandas dataframes. This is an extract from the US Census containing almost 50,000 rows of individual-level micro data from 1994.\n"
   ],
   "metadata": {}
  },
  {
   "cell_type": "markdown",
   "source": [
    "> **Ex. 3.1.1:** This link `'https://archive.ics.uci.edu/ml/machine-learning-databases/adult/adult.data'` leads to a comma-separated file with income data from a US census. Load the data into a pandas dataframe and show the 25th to 35th row.\n",
    ">\n",
    "> _Hint 1:_ There are no column names in the dataset. Use the list `['age','workclass', 'fnlwgt', 'educ', 'educ_num', 'marital_status', 'occupation','relationship', 'race', 'sex','capital_gain', 'capital_loss', 'hours_per_week', 'native_country', 'wage']` as names. \n",
    ">\n",
    "> _Hint 2:_ When you read in the csv, you might find that pandas includes whitespace in all of the cells. To get around this include the argument `skipinitialspace = True` to `read_csv()`. "
   ],
   "metadata": {}
  },
  {
   "cell_type": "code",
   "execution_count": null,
   "source": [
    "# YOUR CODE HERE\r\n",
    "raise NotImplementedError()"
   ],
   "outputs": [],
   "metadata": {
    "deletable": false,
    "nbgrader": {
     "cell_type": "code",
     "checksum": "85a3e6585253444281c7c88d89254794",
     "grade": false,
     "grade_id": "cell-5162c9a337cb8792",
     "locked": false,
     "schema_version": 3,
     "solution": true,
     "task": false
    }
   }
  },
  {
   "cell_type": "markdown",
   "source": [
    "##  Missing data\n",
    "\n",
    "Often our data having information missing, e.g. one row lacks data on education for a specific person. Watch the video below about missing data type and get some simple tools to deal with the problem."
   ],
   "metadata": {}
  },
  {
   "cell_type": "code",
   "execution_count": null,
   "source": [
    "YouTubeVideo('SGvtwBsAuqw', width=640, height=360)"
   ],
   "outputs": [],
   "metadata": {}
  },
  {
   "cell_type": "markdown",
   "source": [
    "> **Ex. 3.1.2:** What is the missing value sign in this dataset? Replace all missing values with NA's understood by pandas. Then proceed to drop all rows containing any missing values with the `dropna` method. Store this new dataframe as `df_census_new`. How many rows are removed in this operation?\n",
    "> \n",
    "> _Hint:_ NaN from NumPy might be useful. What you should discover here is that pandas indeed has native methods for dealing with missings."
   ],
   "metadata": {}
  },
  {
   "cell_type": "code",
   "execution_count": null,
   "source": [
    "from numpy import NaN\r\n",
    "\r\n",
    "# YOUR CODE HERE\r\n",
    "raise NotImplementedError()"
   ],
   "outputs": [],
   "metadata": {
    "deletable": false,
    "nbgrader": {
     "cell_type": "code",
     "checksum": "c7938d5025bfb5bed9ec0e0077258cec",
     "grade": false,
     "grade_id": "cell-9fc9645db3d798e9",
     "locked": false,
     "schema_version": 3,
     "solution": true,
     "task": false
    }
   }
  },
  {
   "cell_type": "markdown",
   "source": [
    "##  Duplicated Data\n",
    "\n",
    "Watch the video below about duplicated data and how to handle such observations."
   ],
   "metadata": {}
  },
  {
   "cell_type": "code",
   "execution_count": null,
   "source": [
    "YouTubeVideo('FljpLkFU3KA', width=640, height=360)"
   ],
   "outputs": [],
   "metadata": {}
  },
  {
   "cell_type": "markdown",
   "source": [
    "> **Ex. 3.1.3:** Determine whether or not duplicated rows is a problem in the NOAA weather data and the US census data. You should come up with arguments from the structure of the rows.\n",
    ">\n",
    "> *Hint:* Just use the `load_weather()` function from the last module (provided below) to load weather data from 1863 only."
   ],
   "metadata": {}
  },
  {
   "cell_type": "code",
   "execution_count": 3,
   "source": [
    "def load_weather(year):\r\n",
    "    \r\n",
    "    url = f\"ftp://ftp.ncdc.noaa.gov/pub/data/ghcn/daily/by_year/{year}.csv.gz\"\r\n",
    "\r\n",
    "    df_weather = pd.read_csv(url, \r\n",
    "                             header=None)        \r\n",
    "\r\n",
    "    df_weather = df_weather.iloc[:,:4] \r\n",
    "    \r\n",
    "    column_names = ['station', 'datetime', 'obs_type', 'obs_value']\r\n",
    "    df_weather.columns = column_names \r\n",
    "    \r\n",
    "    df_weather['obs_value'] = df_weather['obs_value'] / 10 \r\n",
    "    \r\n",
    "    selection_tmax = df_weather.obs_type == 'TMAX'\r\n",
    "    df_select = df_weather.loc[selection_tmax]\r\n",
    "    \r\n",
    "    df_sorted = df_select.sort_values(by=['station', 'datetime'])\r\n",
    "    df_reset = df_sorted.reset_index(drop=True)\r\n",
    "    df_out = df_reset.copy()\r\n",
    "            \r\n",
    "    return df_out"
   ],
   "outputs": [],
   "metadata": {}
  },
  {
   "cell_type": "code",
   "execution_count": 23,
   "source": [
    "def load_weather(year):\r\n",
    "    \r\n",
    "    url = f\"ftp://ftp.ncdc.noaa.gov/pub/data/ghcn/daily/by_year/{year}.csv.gz\"\r\n",
    "\r\n",
    "    df_weather = pd.read_csv(url, \r\n",
    "                             header=None)        \r\n",
    "\r\n",
    "    df_weather = df_weather.iloc[:,:4] \r\n",
    "\r\n",
    "    # state everything below in one method chain\r\n",
    "\r\n",
    "    df_weather = df_weather\\\r\n",
    "        .rename(columns = {0:'station', 1:'datetime', 2:'obs_type', 3:'obs_value'})\\\r\n",
    "        .loc[df_weather[2] == 'TMAX']\\\r\n",
    "        .assign(obs_value = lambda df_weather: df_weather['obs_value'] / 10, \\\r\n",
    "            area = df_weather[0].str.extract('(^[A-Z]+)', expand = True),\r\n",
    "            datetime_dt = pd.to_datetime(df_weather[1], format='%Y%m%d'))\\\r\n",
    "        .sort_values(by=['station','datetime'])\\\r\n",
    "        .reset_index(drop=True)\\\r\n",
    "        .copy()\r\n",
    "\r\n",
    "    df_out = df_weather\\\r\n",
    "        .assign(\r\n",
    "            obs_value_cat = pd.qcut(df_weather['obs_value'], q= [0,0.1,0.9,1]), \\\r\n",
    "            obs_value_cat_labelled = pd.qcut(df_weather['obs_value'], q= [0,0.1,0.9,1],labels=['cold', 'medium', 'hot']),\r\n",
    "            month = df_weather['datetime_dt'].dt.month) \\\r\n",
    "        .set_index('datetime_dt') \r\n",
    "\r\n",
    "    df_out['area'] = df_out['area'].astype('category')\r\n",
    "\r\n",
    "    return df_out\r\n",
    "\r\n",
    "weather_data = load_weather(1863)\r\n",
    "weather_data\r\n",
    "print(weather_data)"
   ],
   "outputs": [
    {
     "output_type": "stream",
     "name": "stdout",
     "text": [
      "                 station  datetime obs_type  obs_value area obs_value_cat  \\\n",
      "datetime_dt                                                                 \n",
      "1863-01-02   AGE00135039  18630102     TMAX       11.5  AGE   (5.6, 27.0]   \n",
      "1863-01-03   AGE00135039  18630103     TMAX       11.0  AGE   (5.6, 27.0]   \n",
      "1863-01-05   AGE00135039  18630105     TMAX       15.5  AGE   (5.6, 27.0]   \n",
      "1863-01-06   AGE00135039  18630106     TMAX       16.5  AGE   (5.6, 27.0]   \n",
      "1863-01-07   AGE00135039  18630107     TMAX       15.0  AGE   (5.6, 27.0]   \n",
      "...                  ...       ...      ...        ...  ...           ...   \n",
      "1863-07-27   USW00014838  18630727     TMAX       20.6  USW   (5.6, 27.0]   \n",
      "1863-07-28   USW00014838  18630728     TMAX       19.9  USW   (5.6, 27.0]   \n",
      "1863-07-29   USW00014838  18630729     TMAX       25.1  USW   (5.6, 27.0]   \n",
      "1863-07-30   USW00014838  18630730     TMAX       29.4  USW  (27.0, 49.4]   \n",
      "1863-07-31   USW00014838  18630731     TMAX       25.6  USW   (5.6, 27.0]   \n",
      "\n",
      "            obs_value_cat_labelled  month  \n",
      "datetime_dt                                \n",
      "1863-01-02                  medium      1  \n",
      "1863-01-03                  medium      1  \n",
      "1863-01-05                  medium      1  \n",
      "1863-01-06                  medium      1  \n",
      "1863-01-07                  medium      1  \n",
      "...                            ...    ...  \n",
      "1863-07-27                  medium      7  \n",
      "1863-07-28                  medium      7  \n",
      "1863-07-29                  medium      7  \n",
      "1863-07-30                     hot      7  \n",
      "1863-07-31                  medium      7  \n",
      "\n",
      "[5880 rows x 8 columns]\n"
     ]
    }
   ],
   "metadata": {}
  },
  {
   "cell_type": "code",
   "execution_count": null,
   "source": [
    "# YOUR CODE HERE\r\n",
    "raise NotImplementedError()"
   ],
   "outputs": [],
   "metadata": {
    "deletable": false,
    "nbgrader": {
     "cell_type": "code",
     "checksum": "6185914cc7355abcbfec0ebbd415ec7b",
     "grade": false,
     "grade_id": "cell-2ad5ad96bbccbae8",
     "locked": false,
     "schema_version": 3,
     "solution": true,
     "task": false
    }
   }
  },
  {
   "cell_type": "markdown",
   "source": [
    "# Part 2: Combining Data Sets\n",
    "\n",
    "Below we hear about how different datasets can be combined into one, by merging on overlapping information that exists in both datasets. If you want to know more then you can look up Chapter 8, section 8.2 in Python for Data Analysis, 2ed.\n",
    "\n",
    "**Note:** In the video, we are only dealing with one-to-one joins. This is a type of merge where there is only one row with a given merge key in each data frame. However, you may encounter situations where there are multiple rows that share the value of a merge key. In this situation, you may perform a one-to-many join or a many-to-many join that forms a Cartesian product of your rows. You can read more about these types of merges by visiting the Jake van der Plass [link](https://jakevdp.github.io/PythonDataScienceHandbook/03.07-merge-and-join.html) or looking into PDA, section 8.2."
   ],
   "metadata": {}
  },
  {
   "cell_type": "code",
   "execution_count": null,
   "source": [
    "YouTubeVideo('bGpYXW2D0Mk', width=640, height=360)"
   ],
   "outputs": [],
   "metadata": {}
  },
  {
   "cell_type": "markdown",
   "source": [
    "We now continue with structuring weather data. Use the function `load_weather()` for fetching and structuring weather data that you also used above."
   ],
   "metadata": {}
  },
  {
   "cell_type": "markdown",
   "source": [
    "> **Ex. 3.2.1:** Get the processed data from years 1870-1875 as a list of DataFrames. Generate a variable that denotes the year that the observations belong to. Convert the list into a single DataFrame by concatenating vertically. "
   ],
   "metadata": {}
  },
  {
   "cell_type": "code",
   "execution_count": 38,
   "source": [
    "start = 1870\r\n",
    "end = 1876\r\n",
    "weather_list=[]\r\n",
    "\r\n",
    "for i in range(start,end):\r\n",
    "    wd = load_weather(i).assign(year=i)\r\n",
    "    weather_list.append(wd)\r\n",
    "\r\n",
    "weather_list[0]"
   ],
   "outputs": [
    {
     "output_type": "execute_result",
     "data": {
      "text/plain": [
       "                 station  datetime obs_type  obs_value area   obs_value_cat  \\\n",
       "datetime_dt                                                                   \n",
       "1870-08-09   ASN00063004  18700809     TMAX       10.0  ASN     (0.0, 28.9]   \n",
       "1870-08-10   ASN00063004  18700810     TMAX        8.9  ASN     (0.0, 28.9]   \n",
       "1870-08-11   ASN00063004  18700811     TMAX       15.6  ASN     (0.0, 28.9]   \n",
       "1870-08-12   ASN00063004  18700812     TMAX       16.7  ASN     (0.0, 28.9]   \n",
       "1870-08-13   ASN00063004  18700813     TMAX       16.7  ASN     (0.0, 28.9]   \n",
       "...                  ...       ...      ...        ...  ...             ...   \n",
       "1870-12-27   USW00094728  18701227     TMAX       -1.1  USW  (-21.701, 0.0]   \n",
       "1870-12-28   USW00094728  18701228     TMAX        0.0  USW  (-21.701, 0.0]   \n",
       "1870-12-29   USW00094728  18701229     TMAX       -5.0  USW  (-21.701, 0.0]   \n",
       "1870-12-30   USW00094728  18701230     TMAX       -1.1  USW  (-21.701, 0.0]   \n",
       "1870-12-31   USW00094728  18701231     TMAX        5.6  USW     (0.0, 28.9]   \n",
       "\n",
       "            obs_value_cat_labelled  month  year  \n",
       "datetime_dt                                      \n",
       "1870-08-09                  medium      8  1870  \n",
       "1870-08-10                  medium      8  1870  \n",
       "1870-08-11                  medium      8  1870  \n",
       "1870-08-12                  medium      8  1870  \n",
       "1870-08-13                  medium      8  1870  \n",
       "...                            ...    ...   ...  \n",
       "1870-12-27                    cold     12  1870  \n",
       "1870-12-28                    cold     12  1870  \n",
       "1870-12-29                    cold     12  1870  \n",
       "1870-12-30                    cold     12  1870  \n",
       "1870-12-31                  medium     12  1870  \n",
       "\n",
       "[12733 rows x 9 columns]"
      ],
      "text/html": [
       "<div>\n",
       "<style scoped>\n",
       "    .dataframe tbody tr th:only-of-type {\n",
       "        vertical-align: middle;\n",
       "    }\n",
       "\n",
       "    .dataframe tbody tr th {\n",
       "        vertical-align: top;\n",
       "    }\n",
       "\n",
       "    .dataframe thead th {\n",
       "        text-align: right;\n",
       "    }\n",
       "</style>\n",
       "<table border=\"1\" class=\"dataframe\">\n",
       "  <thead>\n",
       "    <tr style=\"text-align: right;\">\n",
       "      <th></th>\n",
       "      <th>station</th>\n",
       "      <th>datetime</th>\n",
       "      <th>obs_type</th>\n",
       "      <th>obs_value</th>\n",
       "      <th>area</th>\n",
       "      <th>obs_value_cat</th>\n",
       "      <th>obs_value_cat_labelled</th>\n",
       "      <th>month</th>\n",
       "      <th>year</th>\n",
       "    </tr>\n",
       "    <tr>\n",
       "      <th>datetime_dt</th>\n",
       "      <th></th>\n",
       "      <th></th>\n",
       "      <th></th>\n",
       "      <th></th>\n",
       "      <th></th>\n",
       "      <th></th>\n",
       "      <th></th>\n",
       "      <th></th>\n",
       "      <th></th>\n",
       "    </tr>\n",
       "  </thead>\n",
       "  <tbody>\n",
       "    <tr>\n",
       "      <th>1870-08-09</th>\n",
       "      <td>ASN00063004</td>\n",
       "      <td>18700809</td>\n",
       "      <td>TMAX</td>\n",
       "      <td>10.0</td>\n",
       "      <td>ASN</td>\n",
       "      <td>(0.0, 28.9]</td>\n",
       "      <td>medium</td>\n",
       "      <td>8</td>\n",
       "      <td>1870</td>\n",
       "    </tr>\n",
       "    <tr>\n",
       "      <th>1870-08-10</th>\n",
       "      <td>ASN00063004</td>\n",
       "      <td>18700810</td>\n",
       "      <td>TMAX</td>\n",
       "      <td>8.9</td>\n",
       "      <td>ASN</td>\n",
       "      <td>(0.0, 28.9]</td>\n",
       "      <td>medium</td>\n",
       "      <td>8</td>\n",
       "      <td>1870</td>\n",
       "    </tr>\n",
       "    <tr>\n",
       "      <th>1870-08-11</th>\n",
       "      <td>ASN00063004</td>\n",
       "      <td>18700811</td>\n",
       "      <td>TMAX</td>\n",
       "      <td>15.6</td>\n",
       "      <td>ASN</td>\n",
       "      <td>(0.0, 28.9]</td>\n",
       "      <td>medium</td>\n",
       "      <td>8</td>\n",
       "      <td>1870</td>\n",
       "    </tr>\n",
       "    <tr>\n",
       "      <th>1870-08-12</th>\n",
       "      <td>ASN00063004</td>\n",
       "      <td>18700812</td>\n",
       "      <td>TMAX</td>\n",
       "      <td>16.7</td>\n",
       "      <td>ASN</td>\n",
       "      <td>(0.0, 28.9]</td>\n",
       "      <td>medium</td>\n",
       "      <td>8</td>\n",
       "      <td>1870</td>\n",
       "    </tr>\n",
       "    <tr>\n",
       "      <th>1870-08-13</th>\n",
       "      <td>ASN00063004</td>\n",
       "      <td>18700813</td>\n",
       "      <td>TMAX</td>\n",
       "      <td>16.7</td>\n",
       "      <td>ASN</td>\n",
       "      <td>(0.0, 28.9]</td>\n",
       "      <td>medium</td>\n",
       "      <td>8</td>\n",
       "      <td>1870</td>\n",
       "    </tr>\n",
       "    <tr>\n",
       "      <th>...</th>\n",
       "      <td>...</td>\n",
       "      <td>...</td>\n",
       "      <td>...</td>\n",
       "      <td>...</td>\n",
       "      <td>...</td>\n",
       "      <td>...</td>\n",
       "      <td>...</td>\n",
       "      <td>...</td>\n",
       "      <td>...</td>\n",
       "    </tr>\n",
       "    <tr>\n",
       "      <th>1870-12-27</th>\n",
       "      <td>USW00094728</td>\n",
       "      <td>18701227</td>\n",
       "      <td>TMAX</td>\n",
       "      <td>-1.1</td>\n",
       "      <td>USW</td>\n",
       "      <td>(-21.701, 0.0]</td>\n",
       "      <td>cold</td>\n",
       "      <td>12</td>\n",
       "      <td>1870</td>\n",
       "    </tr>\n",
       "    <tr>\n",
       "      <th>1870-12-28</th>\n",
       "      <td>USW00094728</td>\n",
       "      <td>18701228</td>\n",
       "      <td>TMAX</td>\n",
       "      <td>0.0</td>\n",
       "      <td>USW</td>\n",
       "      <td>(-21.701, 0.0]</td>\n",
       "      <td>cold</td>\n",
       "      <td>12</td>\n",
       "      <td>1870</td>\n",
       "    </tr>\n",
       "    <tr>\n",
       "      <th>1870-12-29</th>\n",
       "      <td>USW00094728</td>\n",
       "      <td>18701229</td>\n",
       "      <td>TMAX</td>\n",
       "      <td>-5.0</td>\n",
       "      <td>USW</td>\n",
       "      <td>(-21.701, 0.0]</td>\n",
       "      <td>cold</td>\n",
       "      <td>12</td>\n",
       "      <td>1870</td>\n",
       "    </tr>\n",
       "    <tr>\n",
       "      <th>1870-12-30</th>\n",
       "      <td>USW00094728</td>\n",
       "      <td>18701230</td>\n",
       "      <td>TMAX</td>\n",
       "      <td>-1.1</td>\n",
       "      <td>USW</td>\n",
       "      <td>(-21.701, 0.0]</td>\n",
       "      <td>cold</td>\n",
       "      <td>12</td>\n",
       "      <td>1870</td>\n",
       "    </tr>\n",
       "    <tr>\n",
       "      <th>1870-12-31</th>\n",
       "      <td>USW00094728</td>\n",
       "      <td>18701231</td>\n",
       "      <td>TMAX</td>\n",
       "      <td>5.6</td>\n",
       "      <td>USW</td>\n",
       "      <td>(0.0, 28.9]</td>\n",
       "      <td>medium</td>\n",
       "      <td>12</td>\n",
       "      <td>1870</td>\n",
       "    </tr>\n",
       "  </tbody>\n",
       "</table>\n",
       "<p>12733 rows × 9 columns</p>\n",
       "</div>"
      ]
     },
     "metadata": {},
     "execution_count": 38
    }
   ],
   "metadata": {
    "deletable": false,
    "nbgrader": {
     "cell_type": "code",
     "checksum": "09f387f440027d3137c359e5872f963a",
     "grade": false,
     "grade_id": "cell-cff6fafb47a33d1c",
     "locked": false,
     "schema_version": 3,
     "solution": true,
     "task": false
    }
   }
  },
  {
   "cell_type": "code",
   "execution_count": 39,
   "source": [
    "df_weather_period = pd.concat(weather_list)\r\n",
    "df_weather_period"
   ],
   "outputs": [
    {
     "output_type": "execute_result",
     "data": {
      "text/plain": [
       "                 station  datetime obs_type  obs_value area obs_value_cat  \\\n",
       "datetime_dt                                                                 \n",
       "1870-08-09   ASN00063004  18700809     TMAX       10.0  ASN   (0.0, 28.9]   \n",
       "1870-08-10   ASN00063004  18700810     TMAX        8.9  ASN   (0.0, 28.9]   \n",
       "1870-08-11   ASN00063004  18700811     TMAX       15.6  ASN   (0.0, 28.9]   \n",
       "1870-08-12   ASN00063004  18700812     TMAX       16.7  ASN   (0.0, 28.9]   \n",
       "1870-08-13   ASN00063004  18700813     TMAX       16.7  ASN   (0.0, 28.9]   \n",
       "...                  ...       ...      ...        ...  ...           ...   \n",
       "1875-12-27   USW00094728  18751227     TMAX       10.6  USW  (-2.8, 27.8]   \n",
       "1875-12-28   USW00094728  18751228     TMAX        1.1  USW  (-2.8, 27.8]   \n",
       "1875-12-29   USW00094728  18751229     TMAX        2.8  USW  (-2.8, 27.8]   \n",
       "1875-12-30   USW00094728  18751230     TMAX        6.7  USW  (-2.8, 27.8]   \n",
       "1875-12-31   USW00094728  18751231     TMAX        7.2  USW  (-2.8, 27.8]   \n",
       "\n",
       "            obs_value_cat_labelled  month  year  \n",
       "datetime_dt                                      \n",
       "1870-08-09                  medium      8  1870  \n",
       "1870-08-10                  medium      8  1870  \n",
       "1870-08-11                  medium      8  1870  \n",
       "1870-08-12                  medium      8  1870  \n",
       "1870-08-13                  medium      8  1870  \n",
       "...                            ...    ...   ...  \n",
       "1875-12-27                  medium     12  1875  \n",
       "1875-12-28                  medium     12  1875  \n",
       "1875-12-29                  medium     12  1875  \n",
       "1875-12-30                  medium     12  1875  \n",
       "1875-12-31                  medium     12  1875  \n",
       "\n",
       "[138159 rows x 9 columns]"
      ],
      "text/html": [
       "<div>\n",
       "<style scoped>\n",
       "    .dataframe tbody tr th:only-of-type {\n",
       "        vertical-align: middle;\n",
       "    }\n",
       "\n",
       "    .dataframe tbody tr th {\n",
       "        vertical-align: top;\n",
       "    }\n",
       "\n",
       "    .dataframe thead th {\n",
       "        text-align: right;\n",
       "    }\n",
       "</style>\n",
       "<table border=\"1\" class=\"dataframe\">\n",
       "  <thead>\n",
       "    <tr style=\"text-align: right;\">\n",
       "      <th></th>\n",
       "      <th>station</th>\n",
       "      <th>datetime</th>\n",
       "      <th>obs_type</th>\n",
       "      <th>obs_value</th>\n",
       "      <th>area</th>\n",
       "      <th>obs_value_cat</th>\n",
       "      <th>obs_value_cat_labelled</th>\n",
       "      <th>month</th>\n",
       "      <th>year</th>\n",
       "    </tr>\n",
       "    <tr>\n",
       "      <th>datetime_dt</th>\n",
       "      <th></th>\n",
       "      <th></th>\n",
       "      <th></th>\n",
       "      <th></th>\n",
       "      <th></th>\n",
       "      <th></th>\n",
       "      <th></th>\n",
       "      <th></th>\n",
       "      <th></th>\n",
       "    </tr>\n",
       "  </thead>\n",
       "  <tbody>\n",
       "    <tr>\n",
       "      <th>1870-08-09</th>\n",
       "      <td>ASN00063004</td>\n",
       "      <td>18700809</td>\n",
       "      <td>TMAX</td>\n",
       "      <td>10.0</td>\n",
       "      <td>ASN</td>\n",
       "      <td>(0.0, 28.9]</td>\n",
       "      <td>medium</td>\n",
       "      <td>8</td>\n",
       "      <td>1870</td>\n",
       "    </tr>\n",
       "    <tr>\n",
       "      <th>1870-08-10</th>\n",
       "      <td>ASN00063004</td>\n",
       "      <td>18700810</td>\n",
       "      <td>TMAX</td>\n",
       "      <td>8.9</td>\n",
       "      <td>ASN</td>\n",
       "      <td>(0.0, 28.9]</td>\n",
       "      <td>medium</td>\n",
       "      <td>8</td>\n",
       "      <td>1870</td>\n",
       "    </tr>\n",
       "    <tr>\n",
       "      <th>1870-08-11</th>\n",
       "      <td>ASN00063004</td>\n",
       "      <td>18700811</td>\n",
       "      <td>TMAX</td>\n",
       "      <td>15.6</td>\n",
       "      <td>ASN</td>\n",
       "      <td>(0.0, 28.9]</td>\n",
       "      <td>medium</td>\n",
       "      <td>8</td>\n",
       "      <td>1870</td>\n",
       "    </tr>\n",
       "    <tr>\n",
       "      <th>1870-08-12</th>\n",
       "      <td>ASN00063004</td>\n",
       "      <td>18700812</td>\n",
       "      <td>TMAX</td>\n",
       "      <td>16.7</td>\n",
       "      <td>ASN</td>\n",
       "      <td>(0.0, 28.9]</td>\n",
       "      <td>medium</td>\n",
       "      <td>8</td>\n",
       "      <td>1870</td>\n",
       "    </tr>\n",
       "    <tr>\n",
       "      <th>1870-08-13</th>\n",
       "      <td>ASN00063004</td>\n",
       "      <td>18700813</td>\n",
       "      <td>TMAX</td>\n",
       "      <td>16.7</td>\n",
       "      <td>ASN</td>\n",
       "      <td>(0.0, 28.9]</td>\n",
       "      <td>medium</td>\n",
       "      <td>8</td>\n",
       "      <td>1870</td>\n",
       "    </tr>\n",
       "    <tr>\n",
       "      <th>...</th>\n",
       "      <td>...</td>\n",
       "      <td>...</td>\n",
       "      <td>...</td>\n",
       "      <td>...</td>\n",
       "      <td>...</td>\n",
       "      <td>...</td>\n",
       "      <td>...</td>\n",
       "      <td>...</td>\n",
       "      <td>...</td>\n",
       "    </tr>\n",
       "    <tr>\n",
       "      <th>1875-12-27</th>\n",
       "      <td>USW00094728</td>\n",
       "      <td>18751227</td>\n",
       "      <td>TMAX</td>\n",
       "      <td>10.6</td>\n",
       "      <td>USW</td>\n",
       "      <td>(-2.8, 27.8]</td>\n",
       "      <td>medium</td>\n",
       "      <td>12</td>\n",
       "      <td>1875</td>\n",
       "    </tr>\n",
       "    <tr>\n",
       "      <th>1875-12-28</th>\n",
       "      <td>USW00094728</td>\n",
       "      <td>18751228</td>\n",
       "      <td>TMAX</td>\n",
       "      <td>1.1</td>\n",
       "      <td>USW</td>\n",
       "      <td>(-2.8, 27.8]</td>\n",
       "      <td>medium</td>\n",
       "      <td>12</td>\n",
       "      <td>1875</td>\n",
       "    </tr>\n",
       "    <tr>\n",
       "      <th>1875-12-29</th>\n",
       "      <td>USW00094728</td>\n",
       "      <td>18751229</td>\n",
       "      <td>TMAX</td>\n",
       "      <td>2.8</td>\n",
       "      <td>USW</td>\n",
       "      <td>(-2.8, 27.8]</td>\n",
       "      <td>medium</td>\n",
       "      <td>12</td>\n",
       "      <td>1875</td>\n",
       "    </tr>\n",
       "    <tr>\n",
       "      <th>1875-12-30</th>\n",
       "      <td>USW00094728</td>\n",
       "      <td>18751230</td>\n",
       "      <td>TMAX</td>\n",
       "      <td>6.7</td>\n",
       "      <td>USW</td>\n",
       "      <td>(-2.8, 27.8]</td>\n",
       "      <td>medium</td>\n",
       "      <td>12</td>\n",
       "      <td>1875</td>\n",
       "    </tr>\n",
       "    <tr>\n",
       "      <th>1875-12-31</th>\n",
       "      <td>USW00094728</td>\n",
       "      <td>18751231</td>\n",
       "      <td>TMAX</td>\n",
       "      <td>7.2</td>\n",
       "      <td>USW</td>\n",
       "      <td>(-2.8, 27.8]</td>\n",
       "      <td>medium</td>\n",
       "      <td>12</td>\n",
       "      <td>1875</td>\n",
       "    </tr>\n",
       "  </tbody>\n",
       "</table>\n",
       "<p>138159 rows × 9 columns</p>\n",
       "</div>"
      ]
     },
     "metadata": {},
     "execution_count": 39
    }
   ],
   "metadata": {}
  },
  {
   "cell_type": "markdown",
   "source": [
    "# Part 3: Split-Apply-Combine\n",
    "\n",
    "Often we need to process information for a given individual, point in time etc. Instead of writing a loop over all the subsets of the data, we can use a more clever approach. Below we introduce the split-apply-combine framework and show how we can leverage it in pandas. If you want to know more then you can look up Chapter 10 in Python for Data Analysis, 2ed."
   ],
   "metadata": {}
  },
  {
   "cell_type": "code",
   "execution_count": null,
   "source": [
    "YouTubeVideo('ZDgbVD5Y2us', width=640, height=360)"
   ],
   "outputs": [],
   "metadata": {}
  },
  {
   "cell_type": "markdown",
   "source": [
    "*Note:* The Split-Apply-Combine method uses `.groupby()`. As indicated in the video, `.groupby()` is a method of pandas dataframes, meaning we can call it like so: `data.groupby('colname')`. The method groups your dataset by a specified column, and applies any following changes within each of these groups. For a more detailed explanation see [this link](https://www.tutorialspoint.com/python_pandas/python_pandas_groupby.htm). The [documentation](https://pandas.pydata.org/pandas-docs/stable/generated/pandas.DataFrame.groupby.html) might also be useful.\n",
    "\n",
    "> **Ex. 3.3.1:** Compute the mean and median maximum daily temperature for each month-year-station pair on the dataframe `df_weather_period` from last exercise by using the _split-apply-combine_ procedure. Store the results in new columns `tmax_mean` and `tmax_median`. "
   ],
   "metadata": {}
  },
  {
   "cell_type": "code",
   "execution_count": 45,
   "source": [
    "df_weather_period['tmax_mean'] = df_weather_period.groupby(by=['month','year','station'])['obs_value'].transform('mean')\r\n",
    "df_weather_period['tmax_median'] = df_weather_period.groupby(by=['month','year','station'])['obs_value'].transform('median')\r\n",
    "df_weather_period"
   ],
   "outputs": [
    {
     "output_type": "execute_result",
     "data": {
      "text/plain": [
       "                 station  datetime obs_type  obs_value area obs_value_cat  \\\n",
       "datetime_dt                                                                 \n",
       "1870-08-09   ASN00063004  18700809     TMAX       10.0  ASN   (0.0, 28.9]   \n",
       "1870-08-10   ASN00063004  18700810     TMAX        8.9  ASN   (0.0, 28.9]   \n",
       "1870-08-11   ASN00063004  18700811     TMAX       15.6  ASN   (0.0, 28.9]   \n",
       "1870-08-12   ASN00063004  18700812     TMAX       16.7  ASN   (0.0, 28.9]   \n",
       "1870-08-13   ASN00063004  18700813     TMAX       16.7  ASN   (0.0, 28.9]   \n",
       "...                  ...       ...      ...        ...  ...           ...   \n",
       "1875-12-27   USW00094728  18751227     TMAX       10.6  USW  (-2.8, 27.8]   \n",
       "1875-12-28   USW00094728  18751228     TMAX        1.1  USW  (-2.8, 27.8]   \n",
       "1875-12-29   USW00094728  18751229     TMAX        2.8  USW  (-2.8, 27.8]   \n",
       "1875-12-30   USW00094728  18751230     TMAX        6.7  USW  (-2.8, 27.8]   \n",
       "1875-12-31   USW00094728  18751231     TMAX        7.2  USW  (-2.8, 27.8]   \n",
       "\n",
       "            obs_value_cat_labelled  month  year  tmax_mean  tmax_median  \n",
       "datetime_dt                                                              \n",
       "1870-08-09                  medium      8  1870  15.047826         15.6  \n",
       "1870-08-10                  medium      8  1870  15.047826         15.6  \n",
       "1870-08-11                  medium      8  1870  15.047826         15.6  \n",
       "1870-08-12                  medium      8  1870  15.047826         15.6  \n",
       "1870-08-13                  medium      8  1870  15.047826         15.6  \n",
       "...                            ...    ...   ...        ...          ...  \n",
       "1875-12-27                  medium     12  1875   3.890323          3.9  \n",
       "1875-12-28                  medium     12  1875   3.890323          3.9  \n",
       "1875-12-29                  medium     12  1875   3.890323          3.9  \n",
       "1875-12-30                  medium     12  1875   3.890323          3.9  \n",
       "1875-12-31                  medium     12  1875   3.890323          3.9  \n",
       "\n",
       "[138159 rows x 11 columns]"
      ],
      "text/html": [
       "<div>\n",
       "<style scoped>\n",
       "    .dataframe tbody tr th:only-of-type {\n",
       "        vertical-align: middle;\n",
       "    }\n",
       "\n",
       "    .dataframe tbody tr th {\n",
       "        vertical-align: top;\n",
       "    }\n",
       "\n",
       "    .dataframe thead th {\n",
       "        text-align: right;\n",
       "    }\n",
       "</style>\n",
       "<table border=\"1\" class=\"dataframe\">\n",
       "  <thead>\n",
       "    <tr style=\"text-align: right;\">\n",
       "      <th></th>\n",
       "      <th>station</th>\n",
       "      <th>datetime</th>\n",
       "      <th>obs_type</th>\n",
       "      <th>obs_value</th>\n",
       "      <th>area</th>\n",
       "      <th>obs_value_cat</th>\n",
       "      <th>obs_value_cat_labelled</th>\n",
       "      <th>month</th>\n",
       "      <th>year</th>\n",
       "      <th>tmax_mean</th>\n",
       "      <th>tmax_median</th>\n",
       "    </tr>\n",
       "    <tr>\n",
       "      <th>datetime_dt</th>\n",
       "      <th></th>\n",
       "      <th></th>\n",
       "      <th></th>\n",
       "      <th></th>\n",
       "      <th></th>\n",
       "      <th></th>\n",
       "      <th></th>\n",
       "      <th></th>\n",
       "      <th></th>\n",
       "      <th></th>\n",
       "      <th></th>\n",
       "    </tr>\n",
       "  </thead>\n",
       "  <tbody>\n",
       "    <tr>\n",
       "      <th>1870-08-09</th>\n",
       "      <td>ASN00063004</td>\n",
       "      <td>18700809</td>\n",
       "      <td>TMAX</td>\n",
       "      <td>10.0</td>\n",
       "      <td>ASN</td>\n",
       "      <td>(0.0, 28.9]</td>\n",
       "      <td>medium</td>\n",
       "      <td>8</td>\n",
       "      <td>1870</td>\n",
       "      <td>15.047826</td>\n",
       "      <td>15.6</td>\n",
       "    </tr>\n",
       "    <tr>\n",
       "      <th>1870-08-10</th>\n",
       "      <td>ASN00063004</td>\n",
       "      <td>18700810</td>\n",
       "      <td>TMAX</td>\n",
       "      <td>8.9</td>\n",
       "      <td>ASN</td>\n",
       "      <td>(0.0, 28.9]</td>\n",
       "      <td>medium</td>\n",
       "      <td>8</td>\n",
       "      <td>1870</td>\n",
       "      <td>15.047826</td>\n",
       "      <td>15.6</td>\n",
       "    </tr>\n",
       "    <tr>\n",
       "      <th>1870-08-11</th>\n",
       "      <td>ASN00063004</td>\n",
       "      <td>18700811</td>\n",
       "      <td>TMAX</td>\n",
       "      <td>15.6</td>\n",
       "      <td>ASN</td>\n",
       "      <td>(0.0, 28.9]</td>\n",
       "      <td>medium</td>\n",
       "      <td>8</td>\n",
       "      <td>1870</td>\n",
       "      <td>15.047826</td>\n",
       "      <td>15.6</td>\n",
       "    </tr>\n",
       "    <tr>\n",
       "      <th>1870-08-12</th>\n",
       "      <td>ASN00063004</td>\n",
       "      <td>18700812</td>\n",
       "      <td>TMAX</td>\n",
       "      <td>16.7</td>\n",
       "      <td>ASN</td>\n",
       "      <td>(0.0, 28.9]</td>\n",
       "      <td>medium</td>\n",
       "      <td>8</td>\n",
       "      <td>1870</td>\n",
       "      <td>15.047826</td>\n",
       "      <td>15.6</td>\n",
       "    </tr>\n",
       "    <tr>\n",
       "      <th>1870-08-13</th>\n",
       "      <td>ASN00063004</td>\n",
       "      <td>18700813</td>\n",
       "      <td>TMAX</td>\n",
       "      <td>16.7</td>\n",
       "      <td>ASN</td>\n",
       "      <td>(0.0, 28.9]</td>\n",
       "      <td>medium</td>\n",
       "      <td>8</td>\n",
       "      <td>1870</td>\n",
       "      <td>15.047826</td>\n",
       "      <td>15.6</td>\n",
       "    </tr>\n",
       "    <tr>\n",
       "      <th>...</th>\n",
       "      <td>...</td>\n",
       "      <td>...</td>\n",
       "      <td>...</td>\n",
       "      <td>...</td>\n",
       "      <td>...</td>\n",
       "      <td>...</td>\n",
       "      <td>...</td>\n",
       "      <td>...</td>\n",
       "      <td>...</td>\n",
       "      <td>...</td>\n",
       "      <td>...</td>\n",
       "    </tr>\n",
       "    <tr>\n",
       "      <th>1875-12-27</th>\n",
       "      <td>USW00094728</td>\n",
       "      <td>18751227</td>\n",
       "      <td>TMAX</td>\n",
       "      <td>10.6</td>\n",
       "      <td>USW</td>\n",
       "      <td>(-2.8, 27.8]</td>\n",
       "      <td>medium</td>\n",
       "      <td>12</td>\n",
       "      <td>1875</td>\n",
       "      <td>3.890323</td>\n",
       "      <td>3.9</td>\n",
       "    </tr>\n",
       "    <tr>\n",
       "      <th>1875-12-28</th>\n",
       "      <td>USW00094728</td>\n",
       "      <td>18751228</td>\n",
       "      <td>TMAX</td>\n",
       "      <td>1.1</td>\n",
       "      <td>USW</td>\n",
       "      <td>(-2.8, 27.8]</td>\n",
       "      <td>medium</td>\n",
       "      <td>12</td>\n",
       "      <td>1875</td>\n",
       "      <td>3.890323</td>\n",
       "      <td>3.9</td>\n",
       "    </tr>\n",
       "    <tr>\n",
       "      <th>1875-12-29</th>\n",
       "      <td>USW00094728</td>\n",
       "      <td>18751229</td>\n",
       "      <td>TMAX</td>\n",
       "      <td>2.8</td>\n",
       "      <td>USW</td>\n",
       "      <td>(-2.8, 27.8]</td>\n",
       "      <td>medium</td>\n",
       "      <td>12</td>\n",
       "      <td>1875</td>\n",
       "      <td>3.890323</td>\n",
       "      <td>3.9</td>\n",
       "    </tr>\n",
       "    <tr>\n",
       "      <th>1875-12-30</th>\n",
       "      <td>USW00094728</td>\n",
       "      <td>18751230</td>\n",
       "      <td>TMAX</td>\n",
       "      <td>6.7</td>\n",
       "      <td>USW</td>\n",
       "      <td>(-2.8, 27.8]</td>\n",
       "      <td>medium</td>\n",
       "      <td>12</td>\n",
       "      <td>1875</td>\n",
       "      <td>3.890323</td>\n",
       "      <td>3.9</td>\n",
       "    </tr>\n",
       "    <tr>\n",
       "      <th>1875-12-31</th>\n",
       "      <td>USW00094728</td>\n",
       "      <td>18751231</td>\n",
       "      <td>TMAX</td>\n",
       "      <td>7.2</td>\n",
       "      <td>USW</td>\n",
       "      <td>(-2.8, 27.8]</td>\n",
       "      <td>medium</td>\n",
       "      <td>12</td>\n",
       "      <td>1875</td>\n",
       "      <td>3.890323</td>\n",
       "      <td>3.9</td>\n",
       "    </tr>\n",
       "  </tbody>\n",
       "</table>\n",
       "<p>138159 rows × 11 columns</p>\n",
       "</div>"
      ]
     },
     "metadata": {},
     "execution_count": 45
    }
   ],
   "metadata": {
    "deletable": false,
    "nbgrader": {
     "cell_type": "code",
     "checksum": "f21e38a07bebf830e4c3c85ed1127d85",
     "grade": false,
     "grade_id": "cell-90339eeae9752f90",
     "locked": false,
     "schema_version": 3,
     "solution": true,
     "task": false
    }
   }
  },
  {
   "cell_type": "markdown",
   "source": [
    "> **Ex. 3.3.2:** Plot the monthly max, min, mean, first and third quartiles for maximum temperature for our station with the ID _'CA006110549'_ for the years 1870-1875. \r\n",
    "\r\n",
    "> *Hint*: the method `describe` computes all these measures."
   ],
   "metadata": {}
  },
  {
   "cell_type": "code",
   "execution_count": 56,
   "source": [
    "import matplotlib.pyplot as plt\r\n",
    "\r\n",
    "\r\n",
    "#Make numeric to be able to use the groupby function\r\n",
    "CA_station = df_weather_period[df_weather_period['station'] == 'CA006110549']\r\n",
    "CA_station.groupby(by=['year','month',])['obs_value'].describe()[['max','min','mean','25%','75%']].plot()\r\n"
   ],
   "outputs": [
    {
     "output_type": "execute_result",
     "data": {
      "text/plain": [
       "<AxesSubplot:xlabel='year,month'>"
      ]
     },
     "metadata": {},
     "execution_count": 56
    },
    {
     "output_type": "display_data",
     "data": {
      "text/plain": [
       "<Figure size 432x288 with 1 Axes>"
      ],
      "image/png": "[encoded data removed]"
     },
     "metadata": {
      "needs_background": "light"
     }
    }
   ],
   "metadata": {
    "deletable": false,
    "nbgrader": {
     "cell_type": "code",
     "checksum": "6eb1be7117139270d256f62188cf0399",
     "grade": false,
     "grade_id": "cell-8e0b67c4d87ae877",
     "locked": false,
     "schema_version": 3,
     "solution": true,
     "task": false
    }
   }
  },
  {
   "cell_type": "markdown",
   "source": [
    "> **Ex. 3.3.3:** Parse the station location data which you can find at https://www1.ncdc.noaa.gov/pub/data/ghcn/daily/ghcnd-stations.txt. Merge station locations onto the weather data spanning 1870-1875.  \n",
    "\n",
    "> _Hint:_ The location data have the folllowing format, \n",
    "\n",
    "```\n",
    "------------------------------\n",
    "Variable   Columns   Type\n",
    "------------------------------\n",
    "ID            1-11   Character\n",
    "LATITUDE     13-20   Real\n",
    "LONGITUDE    22-30   Real\n",
    "ELEVATION    32-37   Real\n",
    "STATE        39-40   Character\n",
    "NAME         42-71   Character\n",
    "GSN FLAG     73-75   Character\n",
    "HCN/CRN FLAG 77-79   Character\n",
    "WMO ID       81-85   Character\n",
    "------------------------------\n",
    "```\n",
    "\n",
    "> *Hint*: The station information has *fixed width format* - does there exist a pandas reader for that? Here Google might be helpful!"
   ],
   "metadata": {}
  },
  {
   "cell_type": "code",
   "execution_count": null,
   "source": [
    "# INCLUDED IN ASSIGNMENT 1"
   ],
   "outputs": [],
   "metadata": {
    "deletable": false,
    "nbgrader": {
     "cell_type": "code",
     "checksum": "9f9034d4e659e597d47b5e4cbad4b98c",
     "grade": false,
     "grade_id": "cell-10b2b71e38e06588",
     "locked": false,
     "schema_version": 3,
     "solution": true,
     "task": false
    }
   }
  },
  {
   "cell_type": "markdown",
   "source": [
    "##  Bonus Exercises"
   ],
   "metadata": {}
  },
  {
   "cell_type": "markdown",
   "source": [
    "If you want to practice *split-apply-combine* a bit more before proceeding, we have generated two additional exercises that use the US census data from Part 1. In order to solve this exercise, you should use `df_census_new` which you generated in a previous exercise.\n",
    "> **Ex. 3.3.4:** (_Bonus_) Is there any evidence of a gender-wage-gap in the data? Create a table showing the percentage of men and women earning more than 50K a year."
   ],
   "metadata": {}
  },
  {
   "cell_type": "code",
   "execution_count": null,
   "source": [
    "# YOUR CODE HERE\r\n",
    "raise NotImplementedError()"
   ],
   "outputs": [],
   "metadata": {
    "deletable": false,
    "nbgrader": {
     "cell_type": "code",
     "checksum": "7890fcb19c0fe6ee81a94be4014a79f3",
     "grade": false,
     "grade_id": "cell-67b5c30978741779",
     "locked": false,
     "schema_version": 3,
     "solution": true,
     "task": false
    }
   }
  },
  {
   "cell_type": "markdown",
   "source": [
    "> **Ex. 3.3.5:** (_Bonus_) Group the data by years of education (`educ_num`) and marital status. Now plot the share of individuals who earn more than 50K for the two groups 'Divorced' and 'Married-civ-spouse' (normal marriage). Your final result should look like this: \n",
    "\n",
    "![](examplefig.png)\n",
    "\n",
    "> _Hint:_ remember the `.query()` method is extremely useful for filtering data."
   ],
   "metadata": {}
  },
  {
   "cell_type": "code",
   "execution_count": null,
   "source": [
    "# YOUR CODE HERE\r\n",
    "raise NotImplementedError()"
   ],
   "outputs": [],
   "metadata": {
    "deletable": false,
    "nbgrader": {
     "cell_type": "code",
     "checksum": "1232340258600774bd10822553abacd5",
     "grade": false,
     "grade_id": "cell-2f83377644343c11",
     "locked": false,
     "schema_version": 3,
     "solution": true,
     "task": false
    }
   }
  },
  {
   "cell_type": "markdown",
   "source": [
    "# Part 4: Reshaping  Dataframes\n",
    "\n",
    "Often we have data that comes in a format that does not fit our purpose. If you want to know more, then you can look up Chapter 8, section 8.3 in Python for Data Analysis, 2ed."
   ],
   "metadata": {}
  },
  {
   "cell_type": "code",
   "execution_count": null,
   "source": [
    "YouTubeVideo('pOYQVpFCEu0', width=640, height=360)"
   ],
   "outputs": [],
   "metadata": {}
  },
  {
   "cell_type": "markdown",
   "source": [
    "In this exercise, we continue working with the NOAA data that you worked with in the main section of part 3.\n",
    "\n",
    "> **Ex. 3.4.1:** For which months was the temperature in general (i.e. use the mean) lower in 1870 vs. 1875?\n",
    ">\n",
    "> *Hint:* you may use `unstack`."
   ],
   "metadata": {}
  },
  {
   "cell_type": "code",
   "execution_count": null,
   "source": [
    "# YOUR CODE HERE\r\n",
    "raise NotImplementedError()"
   ],
   "outputs": [],
   "metadata": {
    "deletable": false,
    "nbgrader": {
     "cell_type": "code",
     "checksum": "4925e38e10f2593052255355147dae7d",
     "grade": false,
     "grade_id": "cell-93d420b54bc3cff9",
     "locked": false,
     "schema_version": 3,
     "solution": true,
     "task": false
    }
   }
  }
 ],
 "metadata": {
  "kernelspec": {
   "name": "python3",
   "display_name": "Python 3.8.5 64-bit ('base': conda)"
  },
  "language_info": {
   "codemirror_mode": {
    "name": "ipython",
    "version": 3
   },
   "file_extension": ".py",
   "mimetype": "text/x-python",
   "name": "python",
   "nbconvert_exporter": "python",
   "pygments_lexer": "ipython3",
   "version": "3.8.5"
  },
  "nav_menu": {},
  "toc": {
   "navigate_menu": true,
   "number_sections": false,
   "sideBar": true,
   "threshold": 6,
   "toc_cell": false,
   "toc_section_display": "block",
   "toc_window_display": true
  },
  "varInspector": {
   "cols": {
    "lenName": 16,
    "lenType": 16,
    "lenVar": 40
   },
   "kernels_config": {
    "python": {
     "delete_cmd_postfix": "",
     "delete_cmd_prefix": "del ",
     "library": "var_list.py",
     "varRefreshCmd": "print(var_dic_list())"
    },
    "r": {
     "delete_cmd_postfix": ") ",
     "delete_cmd_prefix": "rm(",
     "library": "var_list.r",
     "varRefreshCmd": "cat(var_dic_list()) "
    }
   },
   "types_to_exclude": [
    "module",
    "function",
    "builtin_function_or_method",
    "instance",
    "_Feature"
   ],
   "window_display": false
  },
  "interpreter": {
   "hash": "c5b380a9d56af0a8cc6df1f6b95aad6af5918c5f1674ec4152e7cb0451ca8ae7"
  }
 },
 "nbformat": 4,
 "nbformat_minor": 4
}