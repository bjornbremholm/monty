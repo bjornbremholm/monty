{
 "cells": [
  {
   "cell_type": "code",
   "execution_count": 1,
   "source": [
    "import matplotlib.pyplot as plt\n",
    "import numpy as np \n",
    "import pandas as pd\n",
    "import seaborn as sns\n",
    "import requests\n",
    "import re\n",
    "from bs4 import BeautifulSoup"
   ],
   "outputs": [
    {
     "output_type": "stream",
     "name": "stderr",
     "text": [
      "/opt/anaconda3/lib/python3.7/site-packages/statsmodels/tools/_testing.py:19: FutureWarning: pandas.util.testing is deprecated. Use the functions in the public API at pandas.testing instead.\n",
      "  import pandas.util.testing as tm\n"
     ]
    }
   ],
   "metadata": {}
  },
  {
   "cell_type": "code",
   "execution_count": null,
   "source": [],
   "outputs": [],
   "metadata": {}
  },
  {
   "cell_type": "code",
   "execution_count": null,
   "source": [],
   "outputs": [],
   "metadata": {}
  },
  {
   "cell_type": "code",
   "execution_count": 113,
   "source": [
    "# scraping danish politicians from ft.dk\n",
    "url = 'https://www.ft.dk/da/medlemmer/mandatfordelingen'\n",
    "\n",
    "response = requests.get(url, verify=False) # tror denne metode er lidt beskidt, ft har også noget åben data man kan tilgå\n",
    "# response\n",
    "\n",
    "soup = BeautifulSoup(response.text)\n",
    "table_of_members = soup.find('table')\n",
    "\n",
    "refs = table_of_members.find_all('a')\n",
    "\n",
    "links = []\n",
    "\n",
    "for x in refs:\n",
    "    link = 'https://ft.dk' + str(x['href']) + '&pageSize=200'\n",
    "    links.append(link)\n",
    "print(links)\n",
    "\n",
    "navne = []\n",
    "partier = []\n",
    "\n",
    "# til testing\n",
    "# links = ['https://ft.dk/searchResults.aspx?sortedDescending=false&party=28f24ef3-5fb1-42d4-8797-6e306bf56888&pageSize=200', \n",
    "# 'https://ft.dk/searchResults.aspx?sortedDescending=false&party=a302a5dd-15dc-4f87-990c-370f00bbe6b3&pageSize=200']\n",
    "\n",
    "for link in links:\n",
    "    url = link\n",
    "    response = requests.get(url, verify=False)\n",
    "    soup = BeautifulSoup(response.text)\n",
    "\n",
    "    inner_links = []\n",
    "    for x in soup.find_all('a', {'class':'highlighted arrow-link--before'}):\n",
    "        inner_links.append(str(x['href']))\n",
    "        # print(str(x['href']))\n",
    "        \n",
    "        for inner_link in inner_links:\n",
    "            response = requests.get(inner_link, verify=False) # tror denne metode er lidt beskidt, ft har også noget åben data man kan tilgå\n",
    "            soup = BeautifulSoup(response.text)\n",
    "            navne.append(soup.find_all('meta', {'name' : 'Navn'}))\n",
    "            partier.append(soup.find_all('meta', {'name' : 'Parti'}))\n",
    "            # print(soup.find_all('meta', {'name' : 'Navn'}))\n",
    "            # print(soup.find_all('meta', {'name' : 'Parti'}))\n",
    "\n",
    "\n",
    "\n",
    "\n",
    "\n",
    "\n"
   ],
   "outputs": [
    {
     "output_type": "stream",
     "name": "stderr",
     "text": [
      "/opt/anaconda3/lib/python3.7/site-packages/urllib3/connectionpool.py:847: InsecureRequestWarning: Unverified HTTPS request is being made. Adding certificate verification is strongly advised. See: https://urllib3.readthedocs.io/en/latest/advanced-usage.html#ssl-warnings\n",
      "  InsecureRequestWarning)\n",
      "/opt/anaconda3/lib/python3.7/site-packages/urllib3/connectionpool.py:847: InsecureRequestWarning: Unverified HTTPS request is being made. Adding certificate verification is strongly advised. See: https://urllib3.readthedocs.io/en/latest/advanced-usage.html#ssl-warnings\n",
      "  InsecureRequestWarning)\n",
      "/opt/anaconda3/lib/python3.7/site-packages/urllib3/connectionpool.py:847: InsecureRequestWarning: Unverified HTTPS request is being made. Adding certificate verification is strongly advised. See: https://urllib3.readthedocs.io/en/latest/advanced-usage.html#ssl-warnings\n",
      "  InsecureRequestWarning)\n",
      "/opt/anaconda3/lib/python3.7/site-packages/urllib3/connectionpool.py:847: InsecureRequestWarning: Unverified HTTPS request is being made. Adding certificate verification is strongly advised. See: https://urllib3.readthedocs.io/en/latest/advanced-usage.html#ssl-warnings\n",
      "  InsecureRequestWarning)\n",
      "/opt/anaconda3/lib/python3.7/site-packages/urllib3/connectionpool.py:847: InsecureRequestWarning: Unverified HTTPS request is being made. Adding certificate verification is strongly advised. See: https://urllib3.readthedocs.io/en/latest/advanced-usage.html#ssl-warnings\n",
      "  InsecureRequestWarning)\n",
      "/opt/anaconda3/lib/python3.7/site-packages/urllib3/connectionpool.py:847: InsecureRequestWarning: Unverified HTTPS request is being made. Adding certificate verification is strongly advised. See: https://urllib3.readthedocs.io/en/latest/advanced-usage.html#ssl-warnings\n",
      "  InsecureRequestWarning)\n",
      "/opt/anaconda3/lib/python3.7/site-packages/urllib3/connectionpool.py:847: InsecureRequestWarning: Unverified HTTPS request is being made. Adding certificate verification is strongly advised. See: https://urllib3.readthedocs.io/en/latest/advanced-usage.html#ssl-warnings\n",
      "  InsecureRequestWarning)\n",
      "/opt/anaconda3/lib/python3.7/site-packages/urllib3/connectionpool.py:847: InsecureRequestWarning: Unverified HTTPS request is being made. Adding certificate verification is strongly advised. See: https://urllib3.readthedocs.io/en/latest/advanced-usage.html#ssl-warnings\n",
      "  InsecureRequestWarning)\n",
      "/opt/anaconda3/lib/python3.7/site-packages/urllib3/connectionpool.py:847: InsecureRequestWarning: Unverified HTTPS request is being made. Adding certificate verification is strongly advised. See: https://urllib3.readthedocs.io/en/latest/advanced-usage.html#ssl-warnings\n",
      "  InsecureRequestWarning)\n",
      "/opt/anaconda3/lib/python3.7/site-packages/urllib3/connectionpool.py:847: InsecureRequestWarning: Unverified HTTPS request is being made. Adding certificate verification is strongly advised. See: https://urllib3.readthedocs.io/en/latest/advanced-usage.html#ssl-warnings\n",
      "  InsecureRequestWarning)\n",
      "/opt/anaconda3/lib/python3.7/site-packages/urllib3/connectionpool.py:847: InsecureRequestWarning: Unverified HTTPS request is being made. Adding certificate verification is strongly advised. See: https://urllib3.readthedocs.io/en/latest/advanced-usage.html#ssl-warnings\n",
      "  InsecureRequestWarning)\n"
     ]
    }
   ],
   "metadata": {}
  },
  {
   "cell_type": "code",
   "execution_count": 114,
   "source": [
    "print(navne)"
   ],
   "outputs": [
    {
     "output_type": "stream",
     "name": "stdout",
     "text": [
      "[[<meta content=\"Henrik Dahl\" name=\"Navn\"/>], [<meta content=\"Henrik Dahl\" name=\"Navn\"/>], [<meta content=\"Ole Birk Olesen\" name=\"Navn\"/>], [<meta content=\"Henrik Dahl\" name=\"Navn\"/>], [<meta content=\"Ole Birk Olesen\" name=\"Navn\"/>], [<meta content=\"Alex Vanopslagh\" name=\"Navn\"/>], [<meta content=\"Torsten Gejl\" name=\"Navn\"/>]]\n"
     ]
    }
   ],
   "metadata": {}
  },
  {
   "cell_type": "code",
   "execution_count": null,
   "source": [
    "# url1 = links[0]\n",
    "# # print(url1)\n",
    "\n",
    "# response1 = requests.get(url1, verify=False) # tror denne metode er lidt beskidt, ft har også noget åben data man kan tilgå\n",
    "# # response\n",
    "\n",
    "# soup1 = BeautifulSoup(response1.text)\n",
    "# soup1.find_all('a', {'class':'highlighted arrow-link--before'})\n",
    "\n",
    "# for x in soup1.find_all('a', {'class':'highlighted arrow-link--before'}):\n",
    "#     print(str(x['href']))\n",
    "\n",
    "\n",
    "# url2 = 'https://www.ft.dk/medlemmer/mf/i/ida-auken'\n",
    "# response2 = requests.get(url2, verify=False) # tror denne metode er lidt beskidt, ft har også noget åben data man kan tilgå\n",
    "# soup2 = BeautifulSoup(response2.text)\n",
    "# soups = []\n",
    "# for link in links:\n",
    "#     url = link\n",
    "#     response = requests.get(url, verify=False)\n",
    "#     soups.append(BeautifulSoup(response.text))"
   ],
   "outputs": [],
   "metadata": {}
  },
  {
   "cell_type": "code",
   "execution_count": 91,
   "source": [
    "soup2.find_all('meta', {'name' : 'Navn'})\n",
    "# soup2.find_all('meta', {'name' : 'Parti'})\n"
   ],
   "outputs": [
    {
     "output_type": "execute_result",
     "data": {
      "text/plain": [
       "[<meta content=\"Ida Auken\" name=\"Navn\"/>]"
      ]
     },
     "metadata": {},
     "execution_count": 91
    }
   ],
   "metadata": {}
  },
  {
   "cell_type": "code",
   "execution_count": null,
   "source": [],
   "outputs": [],
   "metadata": {}
  },
  {
   "cell_type": "code",
   "execution_count": null,
   "source": [],
   "outputs": [],
   "metadata": {}
  },
  {
   "cell_type": "code",
   "execution_count": 115,
   "source": [
    "url = 'https://www.facebook.com/mettefrederiksen.dk'\n",
    "\n",
    "response = requests.get(url)\n",
    "response\n",
    "\n",
    "# soup = BeautifulSoup(response.text, 'html.parser')\n",
    "# soup\n",
    "\n"
   ],
   "outputs": [
    {
     "output_type": "execute_result",
     "data": {
      "text/plain": [
       "<Response [200]>"
      ]
     },
     "metadata": {},
     "execution_count": 115
    }
   ],
   "metadata": {}
  },
  {
   "cell_type": "code",
   "execution_count": 43,
   "source": [
    "url = 'https://twitter.com/TorstenGejl'\n",
    "\n",
    "response = requests.get(url)\n",
    "response\n",
    "\n",
    "# soup = BeautifulSoup(response.text, 'html.parser')\n",
    "# soup"
   ],
   "outputs": [
    {
     "output_type": "execute_result",
     "data": {
      "text/plain": [
       "<Response [200]>"
      ]
     },
     "metadata": {},
     "execution_count": 43
    }
   ],
   "metadata": {}
  },
  {
   "cell_type": "code",
   "execution_count": null,
   "source": [],
   "outputs": [],
   "metadata": {}
  },
  {
   "cell_type": "code",
   "execution_count": 18,
   "source": [
    "# url = 'https://www.boligsiden.dk/salgspris/solgt/alle/1/getdata?periode.from=2014-01-01&periode.to=2021-12-31&kommune=101'\n",
    "url = 'https://www.boligsiden.dk/salespriceresult/getdata?salgspristype=solgt&periode.from=2014-01-01&periode.to=2021-12-31&kommune=101&boligtype=alle&side=1'\n",
    "\n",
    "page = requests.get(url) \n",
    "# soup = BeautifulSoup(page.text, 'html.parser')\n",
    "# page.text"
   ],
   "outputs": [
    {
     "output_type": "execute_result",
     "data": {
      "text/plain": [
       "'{\"searchResult\":{\"result\":{\"totalCount\":46086,\"displayState\":\"HgAAAAEAAAAAAgE=\",\"displayOptions\":{\"sortKey\":2,\"itemsPerPage\":30,\"pageNumber\":1,\"sortDescending\":true,\"displayTab\":1},\"mapResult\":null,\"propertySales\":[{\"residentialArea\":\"101\",\"postal\":\"2300\",\"city\":\"København S\",\"address\":\"Islands Brygge 38B, 6. tv\",\"itemTypeName\":\"Ejerlejlighed\",\"addressId\":\"islands-brygge-38b-6-tv-2300-koebenhavn-s-01013300_38b__6__tv\",\"addressLink\":\"~/adresse/islands-brygge-38b-6-tv-2300-koebenhavn-s-01013300_38b__6__tv\",\"bbrLink\":\"~/adresse/islands-brygge-38b-6-tv-2300-koebenhavn-s-01013300_38b__6__tv\",\"soldLink\":\"~/adresse/islands-brygge-38b-6-tv-2300-koebenhavn-s-01013300_38b__6__tv\",\"sales\":[{\"saleDate\":\"22-12-2021\",\"salePrice\":\"6.750.000\",\"saleTypeId\":1,\"saleType\":\"Fri handel\",\"salesYear\":0},{\"saleDate\":\"01-08-2016\",\"salePrice\":\"5.045.000\",\"saleTypeId\":1,\"saleType\":\"Fri handel\",\"salesYear\":0}],\"mapPosition\":{\"hasCoordinates\":true,\"latLng\":{\"lat\":55.658334,\"lng\":12.566683}},\"wishPropertyLocationLink\":\"https://minside.boligsiden.dk/oenskeboliger?postal=2300&city=K%c3%b8benhavn+S&street=Islands+Brygge&housenumber=38B&floorandside=6%7ctv\"},{\"residentialArea\":\"210\",\"postal\":\"1253\",\"city\":\"København K\",\"address\":\"Toldbodgade 36B, 1. th\",\"itemTypeName\":\"Ejerlejlighed\",\"addressId\":\"toldbodgade-36b-1-th-1253-koebenhavn-k-01017540_36b__1__th\",\"addressLink\":\"~/adresse/toldbodgade-36b-1-th-1253-koebenhavn-k-01017540_36b__1__th\",\"bbrLink\":\"~/adresse/toldbodgade-36b-1-th-1253-koebenhavn-k-01017540_36b__1__th\",\"soldLink\":\"~/adresse/toldbodgade-36b-1-th-1253-koebenhavn-k-01017540_36b__1__th\",\"sales\":[{\"saleDate\":\"13-12-2021\",\"salePrice\":\"14.650.000\",\"saleTypeId\":1,\"saleType\":\"Fri handel\",\"salesYear\":0},{\"saleDate\":\"29-12-2015\",\"salePrice\":\"6.700.000\",\"saleTypeId\":4,\"saleType\":\"I øvrigt\",\"salesYear\":0},{\"saleDate\":\"14-02-1997\",\"salePrice\":\"1.530.000\",\"saleTypeId\":1,\"saleType\":\"Fri handel\",\"salesYear\":0},{\"saleDate\":\"28-05-1992\",\"salePrice\":\"2.500.000\",\"saleTypeId\":1,\"saleType\":\"Fri handel\",\"salesYear\":0}],\"mapPosition\":{\"hasCoordinates\":true,\"latLng\":{\"lat\":55.685161,\"lng\":12.596408}},\"wishPropertyLocationLink\":\"https://minside.boligsiden.dk/oenskeboliger?postal=1253&city=K%c3%b8benhavn+K&street=Toldbodgade&housenumber=36B&floorandside=1%7cth\"},{\"residentialArea\":\"155\",\"postal\":\"2300\",\"city\":\"København S\",\"address\":\"Carlsgade 5B\",\"itemTypeName\":\"Ejerlejlighed\",\"addressId\":\"carlsgade-5b-2300-koebenhavn-s-01011080__5b_______\",\"addressLink\":\"~/adresse/carlsgade-5b-2300-koebenhavn-s-01011080__5b_______\",\"bbrLink\":\"~/adresse/carlsgade-5b-2300-koebenhavn-s-01011080__5b_______\",\"soldLink\":\"~/adresse/carlsgade-5b-2300-koebenhavn-s-01011080__5b_______\",\"sales\":[{\"saleDate\":\"20-10-2021\",\"salePrice\":\"7.495.000\",\"saleTypeId\":1,\"saleType\":\"Fri handel\",\"salesYear\":0},{\"saleDate\":\"25-07-2014\",\"salePrice\":\"4.250.000\",\"saleTypeId\":1,\"saleType\":\"Fri handel\",\"salesYear\":0}],\"mapPosition\":{\"hasCoordinates\":true,\"latLng\":{\"lat\":55.667212,\"lng\":12.614184}},\"wishPropertyLocationLink\":\"https://minside.boligsiden.dk/oenskeboliger?postal=2300&city=K%c3%b8benhavn+S&street=Carlsgade&housenumber=5B\"},{\"residentialArea\":\"57\",\"postal\":\"2200\",\"city\":\"København N\",\"address\":\"Hamletsgade 17, 4. th\",\"itemTypeName\":\"Ejerlejlighed\",\"addressId\":\"hamletsgade-17-4-th-2200-koebenhavn-n-01012552__17__4__th\",\"addressLink\":\"~/adresse/hamletsgade-17-4-th-2200-koebenhavn-n-01012552__17__4__th\",\"bbrLink\":\"~/adresse/hamletsgade-17-4-th-2200-koebenhavn-n-01012552__17__4__th\",\"soldLink\":\"~/adresse/hamletsgade-17-4-th-2200-koebenhavn-n-01012552__17__4__th\",\"sales\":[{\"saleDate\":\"15-07-2021\",\"salePrice\":\"1.150.000\",\"saleTypeId\":2,\"saleType\":\"Familiehandel\",\"salesYear\":0},{\"saleDate\":\"02-03-2014\",\"salePrice\":\"1.495.000\",\"saleTypeId\":1,\"saleType\":\"Fri handel\",\"salesYear\":0},{\"saleDate\":\"05-01-2006\",\"salePrice\":\"1.670.000\",\"saleTypeId\":1,\"saleType\":\"Fri handel\",\"salesYear\":0}],\"mapPosition\":{\"hasCoordinates\":true,\"latLng\":{\"lat\":55.701095,\"lng\":12.544786}},\"wishPropertyLocationLink\":\"https://minside.boligsiden.dk/oenskeboliger?postal=2200&city=K%c3%b8benhavn+N&street=Hamletsgade&housenumber=17&floorandside=4%7cth\"},{\"residentialArea\":\"95\",\"postal\":\"2700\",\"city\":\"Brønshøj\",\"address\":\"Enigheds Allé 4\",\"itemTypeName\":\"Rækkehus\",\"addressId\":\"enigheds-alle-4-2700-broenshoej-01011624___4_______\",\"addressLink\":\"~/adresse/enigheds-alle-4-2700-broenshoej-01011624___4_______\",\"bbrLink\":\"~/adresse/enigheds-alle-4-2700-broenshoej-01011624___4_______\",\"soldLink\":\"~/adresse/enigheds-alle-4-2700-broenshoej-01011624___4_______\",\"sales\":[{\"saleDate\":\"15-07-2021\",\"salePrice\":\"2.250.000\",\"saleTypeId\":1,\"saleType\":\"Fri handel\",\"salesYear\":0},{\"saleDate\":\"17-04-2014\",\"salePrice\":\"2.995.000\",\"saleTypeId\":1,\"saleType\":\"Fri handel\",\"salesYear\":0},{\"saleDate\":\"06-09-2005\",\"salePrice\":\"2.345.000\",\"saleTypeId\":1,\"saleType\":\"Fri handel\",\"salesYear\":0}],\"mapPosition\":{\"hasCoordinates\":true,\"latLng\":{\"lat\":55.705487,\"lng\":12.503957}},\"wishPropertyLocationLink\":\"https://minside.boligsiden.dk/oenskeboliger?postal=2700&city=Br%c3%b8nsh%c3%b8j&street=Enigheds+All%c3%a9&housenumber=4\"},{\"residentialArea\":\"43\",\"postal\":\"2100\",\"city\":\"København Ø\",\"address\":\"Lille Farimagsgade 1, 2. tv\",\"itemTypeName\":\"Ejerlejlighed\",\"addressId\":\"lille-farimagsgade-1-2-tv-2100-koebenhavn-oe-01014260___1__2__tv\",\"addressLink\":\"~/adresse/lille-farimagsgade-1-2-tv-2100-koebenhavn-oe-01014260___1__2__tv\",\"bbrLink\":\"~/adresse/lille-farimagsgade-1-2-tv-2100-koebenhavn-oe-01014260___1__2__tv\",\"soldLink\":\"~/adresse/lille-farimagsgade-1-2-tv-2100-koebenhavn-oe-01014260___1__2__tv\",\"sales\":[{\"saleDate\":\"14-07-2021\",\"salePrice\":\"2.198.000\",\"saleTypeId\":2,\"saleType\":\"Familiehandel\",\"salesYear\":0},{\"saleDate\":\"29-03-2017\",\"salePrice\":\"2.198.000\",\"saleTypeId\":1,\"saleType\":\"Fri handel\",\"salesYear\":0},{\"saleDate\":\"25-01-2004\",\"salePrice\":\"1.050.000\",\"saleTypeId\":1,\"saleType\":\"Fri handel\",\"salesYear\":0},{\"saleDate\":\"10-05-2001\",\"salePrice\":\"700.000\",\"saleTypeId\":1,\"saleType\":\"Fri handel\",\"salesYear\":0},{\"saleDate\":\"21-02-2000\",\"salePrice\":\"588.810\",\"saleTypeId\":1,\"saleType\":\"Fri handel\",\"salesYear\":0}],\"mapPosition\":{\"hasCoordinates\":true,\"latLng\":{\"lat\":55.690939,\"lng\":12.576229}},\"wishPropertyLocationLink\":\"https://minside.boligsiden.dk/oenskeboliger?postal=2100&city=K%c3%b8benhavn+%c3%98&street=Lille+Farimagsgade&housenumber=1&floorandside=2%7ctv\"},{\"residentialArea\":\"114\",\"postal\":\"2100\",\"city\":\"København Ø\",\"address\":\"Holsteinsgade 21, 2. th\",\"itemTypeName\":\"Ejerlejlighed\",\"addressId\":\"holsteinsgade-21-2-th-2100-koebenhavn-oe-01013008__21__2__th\",\"addressLink\":\"~/adresse/holsteinsgade-21-2-th-2100-koebenhavn-oe-01013008__21__2__th\",\"bbrLink\":\"~/adresse/holsteinsgade-21-2-th-2100-koebenhavn-oe-01013008__21__2__th\",\"soldLink\":\"~/adresse/holsteinsgade-21-2-th-2100-koebenhavn-oe-01013008__21__2__th\",\"sales\":[{\"saleDate\":\"14-07-2021\",\"salePrice\":\"8.500.000\",\"saleTypeId\":1,\"saleType\":\"Fri handel\",\"salesYear\":0}],\"mapPosition\":{\"hasCoordinates\":true,\"latLng\":{\"lat\":55.699069,\"lng\":12.584503}},\"wishPropertyLocationLink\":\"https://minside.boligsiden.dk/oenskeboliger?postal=2100&city=K%c3%b8benhavn+%c3%98&street=Holsteinsgade&housenumber=21&floorandside=2%7cth\"},{\"residentialArea\":\"80\",\"postal\":\"2300\",\"city\":\"København S\",\"address\":\"Bremensgade 25, 1. th\",\"itemTypeName\":\"Ejerlejlighed\",\"addressId\":\"bremensgade-25-1-th-2300-koebenhavn-s-01010828__25__1__th\",\"addressLink\":\"~/adresse/bremensgade-25-1-th-2300-koebenhavn-s-01010828__25__1__th\",\"bbrLink\":\"~/adresse/bremensgade-25-1-th-2300-koebenhavn-s-01010828__25__1__th\",\"soldLink\":\"~/adresse/bremensgade-25-1-th-2300-koebenhavn-s-01010828__25__1__th\",\"sales\":[{\"saleDate\":\"14-07-2021\",\"salePrice\":\"3.835.000\",\"saleTypeId\":1,\"saleType\":\"Fri handel\",\"salesYear\":0},{\"saleDate\":\"05-08-2020\",\"salePrice\":\"3.270.000\",\"saleTypeId\":1,\"saleType\":\"Fri handel\",\"salesYear\":0},{\"saleDate\":\"20-05-2017\",\"salePrice\":\"1.450.000\",\"saleTypeId\":2,\"saleType\":\"Familiehandel\",\"salesYear\":0},{\"saleDate\":\"28-07-2008\",\"salePrice\":\"1.450.000\",\"saleTypeId\":1,\"saleType\":\"Fri handel\",\"salesYear\":0}],\"mapPosition\":{\"hasCoordinates\":true,\"latLng\":{\"lat\":55.666056,\"lng\":12.617705}},\"wishPropertyLocationLink\":\"https://minside.boligsiden.dk/oenskeboliger?postal=2300&city=K%c3%b8benhavn+S&street=Bremensgade&housenumber=25&floorandside=1%7cth\"},{\"residentialArea\":\"75\",\"postal\":\"2100\",\"city\":\"København Ø\",\"address\":\"Strandboulevarden 97, 5. th\",\"itemTypeName\":\"Ejerlejlighed\",\"addressId\":\"strandboulevarden-97-5-th-2100-koebenhavn-oe-01016988__97__5__th\",\"addressLink\":\"~/adresse/strandboulevarden-97-5-th-2100-koebenhavn-oe-01016988__97__5__th\",\"bbrLink\":\"~/adresse/strandboulevarden-97-5-th-2100-koebenhavn-oe-01016988__97__5__th\",\"soldLink\":\"~/adresse/strandboulevarden-97-5-th-2100-koebenhavn-oe-01016988__97__5__th\",\"sales\":[{\"saleDate\":\"13-07-2021\",\"salePrice\":\"1.487.500\",\"saleTypeId\":2,\"saleType\":\"Familiehandel\",\"salesYear\":0},{\"saleDate\":\"15-03-2018\",\"salePrice\":\"4.200.000\",\"saleTypeId\":1,\"saleType\":\"Fri handel\",\"salesYear\":0}],\"mapPosition\":{\"hasCoordinates\":true,\"latLng\":{\"lat\":55.707377,\"lng\":12.585439}},\"wishPropertyLocationLink\":\"https://minside.boligsiden.dk/oenskeboliger?postal=2100&city=K%c3%b8benhavn+%c3%98&street=Strandboulevarden&housenumber=97&floorandside=5%7cth\"},{\"residentialArea\":\"54\",\"postal\":\"2200\",\"city\":\"København N\",\"address\":\"Møllegade 24, st.\",\"itemTypeName\":\"Ejerlejlighed\",\"addressId\":\"moellegade-24-st-2200-koebenhavn-n-01014892__24_st____\",\"addressLink\":\"~/adresse/moellegade-24-st-2200-koebenhavn-n-01014892__24_st____\",\"bbrLink\":\"~/adresse/moellegade-24-st-2200-koebenhavn-n-01014892__24_st____\",\"soldLink\":\"~/adresse/moellegade-24-st-2200-koebenhavn-n-01014892__24_st____\",\"sales\":[{\"saleDate\":\"13-07-2021\",\"salePrice\":\"2.400.000\",\"saleTypeId\":1,\"saleType\":\"Fri handel\",\"salesYear\":0},{\"saleDate\":\"06-11-2009\",\"salePrice\":\"900.000\",\"saleTypeId\":1,\"saleType\":\"Fri handel\",\"salesYear\":0},{\"saleDate\":\"19-01-2006\",\"salePrice\":\"850.000\",\"saleTypeId\":2,\"saleType\":\"Familiehandel\",\"salesYear\":0},{\"saleDate\":\"15-05-2000\",\"salePrice\":\"558.926\",\"saleTypeId\":1,\"saleType\":\"Fri handel\",\"salesYear\":0},{\"saleDate\":\"17-06-1996\",\"salePrice\":\"254.000\",\"saleTypeId\":1,\"saleType\":\"Fri handel\",\"salesYear\":0},{\"saleDate\":\"26-09-1995\",\"salePrice\":\"136.671\",\"saleTypeId\":3,\"saleType\":\"Auktion\",\"salesYear\":0}],\"mapPosition\":{\"hasCoordinates\":true,\"latLng\":{\"lat\":55.692458,\"lng\":12.558633}},\"wishPropertyLocationLink\":\"https://minside.boligsiden.dk/oenskeboliger?postal=2200&city=K%c3%b8benhavn+N&street=M%c3%b8llegade&housenumber=24&floorandside=st%7c\"},{\"residentialArea\":\"96\",\"postal\":\"2100\",\"city\":\"København Ø\",\"address\":\"Holsteinsgade 52, 4.\",\"itemTypeName\":\"Ejerlejlighed\",\"addressId\":\"holsteinsgade-52-4-2100-koebenhavn-oe-01013008__52__4____\",\"addressLink\":\"~/adresse/holsteinsgade-52-4-2100-koebenhavn-oe-01013008__52__4____\",\"bbrLink\":\"~/adresse/holsteinsgade-52-4-2100-koebenhavn-oe-01013008__52__4____\",\"soldLink\":\"~/adresse/holsteinsgade-52-4-2100-koebenhavn-oe-01013008__52__4____\",\"sales\":[{\"saleDate\":\"13-07-2021\",\"salePrice\":\"5.450.000\",\"saleTypeId\":1,\"saleType\":\"Fri handel\",\"salesYear\":0},{\"saleDate\":\"28-10-2019\",\"salePrice\":\"4.800.000\",\"saleTypeId\":1,\"saleType\":\"Fri handel\",\"salesYear\":0},{\"saleDate\":\"01-06-2016\",\"salePrice\":\"3.525.000\",\"saleTypeId\":1,\"saleType\":\"Fri handel\",\"salesYear\":0},{\"saleDate\":\"31-01-2007\",\"salePrice\":\"3.000.000\",\"saleTypeId\":1,\"saleType\":\"Fri handel\",\"salesYear\":0},{\"saleDate\":\"19-06-2003\",\"salePrice\":\"1.815.000\",\"saleTypeId\":1,\"saleType\":\"Fri handel\",\"salesYear\":0},{\"saleDate\":\"01-08-2000\",\"salePrice\":\"1.404.814\",\"saleTypeId\":1,\"saleType\":\"Fri handel\",\"salesYear\":0}],\"mapPosition\":{\"hasCoordinates\":true,\"latLng\":{\"lat\":55.699522,\"lng\":12.587442}},\"wishPropertyLocationLink\":\"https://minside.boligsiden.dk/oenskeboliger?postal=2100&city=K%c3%b8benhavn+%c3%98&street=Holsteinsgade&housenumber=52&floorandside=4%7c\"},{\"residentialArea\":\"43\",\"postal\":\"2720\",\"city\":\"Vanløse\",\"address\":\"Grøndals Parkvej 4B, 4. th\",\"itemTypeName\":\"Ejerlejlighed\",\"addressId\":\"groendals-parkvej-4b-4-th-2720-vanloese-01012328__4b__4__th\",\"addressLink\":\"~/adresse/groendals-parkvej-4b-4-th-2720-vanloese-01012328__4b__4__th\",\"bbrLink\":\"~/adresse/groendals-parkvej-4b-4-th-2720-vanloese-01012328__4b__4__th\",\"soldLink\":\"~/adresse/groendals-parkvej-4b-4-th-2720-vanloese-01012328__4b__4__th\",\"sales\":[{\"saleDate\":\"13-07-2021\",\"salePrice\":\"1.965.000\",\"saleTypeId\":1,\"saleType\":\"Fri handel\",\"salesYear\":0},{\"saleDate\":\"29-03-2016\",\"salePrice\":\"1.460.000\",\"saleTypeId\":1,\"saleType\":\"Fri handel\",\"salesYear\":0},{\"saleDate\":\"04-06-2002\",\"salePrice\":\"788.703\",\"saleTypeId\":1,\"saleType\":\"Fri handel\",\"salesYear\":0},{\"saleDate\":\"25-10-1999\",\"salePrice\":\"549.000\",\"saleTypeId\":1,\"saleType\":\"Fri handel\",\"salesYear\":0}],\"mapPosition\":{\"hasCoordinates\":true,\"latLng\":{\"lat\":55.690976,\"lng\":12.514294}},\"wishPropertyLocationLink\":\"https://minside.boligsiden.dk/oenskeboliger?postal=2720&city=Vanl%c3%b8se&street=Gr%c3%b8ndals+Parkvej&housenumber=4B&floorandside=4%7cth\"},{\"residentialArea\":\"96\",\"postal\":\"2200\",\"city\":\"København N\",\"address\":\"Florsgade 7, 4. th\",\"itemTypeName\":\"Ejerlejlighed\",\"addressId\":\"florsgade-7-4-th-2200-koebenhavn-n-01011840___7__4__th\",\"addressLink\":\"~/adresse/florsgade-7-4-th-2200-koebenhavn-n-01011840___7__4__th\",\"bbrLink\":\"~/adresse/florsgade-7-4-th-2200-koebenhavn-n-01011840___7__4__th\",\"soldLink\":\"~/adresse/florsgade-7-4-th-2200-koebenhavn-n-01011840___7__4__th\",\"sales\":[{\"saleDate\":\"13-07-2021\",\"salePrice\":\"5.750.000\",\"saleTypeId\":1,\"saleType\":\"Fri handel\",\"salesYear\":0},{\"saleDate\":\"30-04-1992\",\"salePrice\":\"570.300\",\"saleTypeId\":1,\"saleType\":\"Fri handel\",\"salesYear\":0}],\"mapPosition\":{\"hasCoordinates\":true,\"latLng\":{\"lat\":55.687802,\"lng\":12.543662}},\"wishPropertyLocationLink\":\"https://minside.boligsiden.dk/oenskeboliger?postal=2200&city=K%c3%b8benhavn+N&street=Florsgade&housenumber=7&floorandside=4%7cth\"},{\"residentialArea\":\"42\",\"postal\":\"1366\",\"city\":\"København K\",\"address\":\"Nansensgade 62, 4. tv\",\"itemTypeName\":\"Ejerlejlighed\",\"addressId\":\"nansensgade-62-4-tv-1366-koebenhavn-k-01014940__62__4__tv\",\"addressLink\":\"~/adresse/nansensgade-62-4-tv-1366-koebenhavn-k-01014940__62__4__tv\",\"bbrLink\":\"~/adresse/nansensgade-62-4-tv-1366-koebenhavn-k-01014940__62__4__tv\",\"soldLink\":\"~/adresse/nansensgade-62-4-tv-1366-koebenhavn-k-01014940__62__4__tv\",\"sales\":[{\"saleDate\":\"12-07-2021\",\"salePrice\":\"2.800.000\",\"saleTypeId\":1,\"saleType\":\"Fri handel\",\"salesYear\":0},{\"saleDate\":\"30-06-2017\",\"salePrice\":\"892.500\",\"saleTypeId\":2,\"saleType\":\"Familiehandel\",\"salesYear\":0}],\"mapPosition\":{\"hasCoordinates\":true,\"latLng\":{\"lat\":55.683323,\"lng\":12.565108}},\"wishPropertyLocationLink\":\"https://minside.boligsiden.dk/oenskeboliger?postal=1366&city=K%c3%b8benhavn+K&street=Nansensgade&housenumber=62&floorandside=4%7ctv\"},{\"residentialArea\":\"118\",\"postal\":\"2450\",\"city\":\"København SV\",\"address\":\"Martin Luther Kings Vej 7, 6. tv\",\"itemTypeName\":\"Ejerlejlighed\",\"addressId\":\"martin-luther-kings-vej-7-6-tv-2450-koebenhavn-sv-01018843___7__6__tv\",\"addressLink\":\"~/adresse/martin-luther-kings-vej-7-6-tv-2450-koebenhavn-sv-01018843___7__6__tv\",\"bbrLink\":\"~/adresse/martin-luther-kings-vej-7-6-tv-2450-koebenhavn-sv-01018843___7__6__tv\",\"soldLink\":\"~/adresse/martin-luther-kings-vej-7-6-tv-2450-koebenhavn-sv-01018843___7__6__tv\",\"sales\":[{\"saleDate\":\"12-07-2021\",\"salePrice\":\"6.000.000\",\"saleTypeId\":1,\"saleType\":\"Fri handel\",\"salesYear\":0},{\"saleDate\":\"23-01-2017\",\"salePrice\":\"5.545.000\",\"saleTypeId\":1,\"saleType\":\"Fri handel\",\"salesYear\":0}],\"mapPosition\":{\"hasCoordinates\":true,\"latLng\":{\"lat\":55.658344,\"lng\":12.562628}},\"wishPropertyLocationLink\":\"https://minside.boligsiden.dk/oenskeboliger?postal=2450&city=K%c3%b8benhavn+SV&street=Martin+Luther+Kings+Vej&housenumber=7&floorandside=6%7ctv\"},{\"residentialArea\":\"78\",\"postal\":\"2300\",\"city\":\"København S\",\"address\":\"Sorrentovej 12, st. tv\",\"itemTypeName\":\"Ejerlejlighed\",\"addressId\":\"sorrentovej-12-st-tv-2300-koebenhavn-s-01016736__12_st__tv\",\"addressLink\":\"~/adresse/sorrentovej-12-st-tv-2300-koebenhavn-s-01016736__12_st__tv\",\"bbrLink\":\"~/adresse/sorrentovej-12-st-tv-2300-koebenhavn-s-01016736__12_st__tv\",\"soldLink\":\"~/adresse/sorrentovej-12-st-tv-2300-koebenhavn-s-01016736__12_st__tv\",\"sales\":[{\"saleDate\":\"09-07-2021\",\"salePrice\":\"3.615.000\",\"saleTypeId\":1,\"saleType\":\"Fri handel\",\"salesYear\":0},{\"saleDate\":\"07-01-2018\",\"salePrice\":\"2.798.000\",\"saleTypeId\":1,\"saleType\":\"Fri handel\",\"salesYear\":0},{\"saleDate\":\"23-09-2016\",\"salePrice\":\"2.695.000\",\"saleTypeId\":1,\"saleType\":\"Fri handel\",\"salesYear\":0},{\"saleDate\":\"12-05-2005\",\"salePrice\":\"1.731.000\",\"saleTypeId\":1,\"saleType\":\"Fri handel\",\"salesYear\":0},{\"saleDate\":\"28-08-1998\",\"salePrice\":\"622.160\",\"saleTypeId\":1,\"saleType\":\"Fri handel\",\"salesYear\":0}],\"mapPosition\":{\"hasCoordinates\":true,\"latLng\":{\"lat\":55.658321,\"lng\":12.62173}},\"wishPropertyLocationLink\":\"https://minside.boligsiden.dk/oenskeboliger?postal=2300&city=K%c3%b8benhavn+S&street=Sorrentovej&housenumber=12&floorandside=st%7ctv\"},{\"residentialArea\":\"126\",\"postal\":\"2300\",\"city\":\"København S\",\"address\":\"Hannemanns Allé 12K\",\"itemTypeName\":\"Ejerlejlighed\",\"addressId\":\"hannemanns-alle-12k-2300-koebenhavn-s-01012578_12k_______\",\"addressLink\":\"~/adresse/hannemanns-alle-12k-2300-koebenhavn-s-01012578_12k_______\",\"bbrLink\":\"~/adresse/hannemanns-alle-12k-2300-koebenhavn-s-01012578_12k_______\",\"soldLink\":\"~/adresse/hannemanns-alle-12k-2300-koebenhavn-s-01012578_12k_______\",\"sales\":[{\"saleDate\":\"09-07-2021\",\"salePrice\":\"4.795.000\",\"saleTypeId\":1,\"saleType\":\"Fri handel\",\"salesYear\":0},{\"saleDate\":\"05-05-2015\",\"salePrice\":\"4.544.356\",\"saleTypeId\":1,\"saleType\":\"Fri handel\",\"salesYear\":0}],\"mapPosition\":{\"hasCoordinates\":true,\"latLng\":{\"lat\":55.625588,\"lng\":12.569712}},\"wishPropertyLocationLink\":\"https://minside.boligsiden.dk/oenskeboliger?postal=2300&city=K%c3%b8benhavn+S&street=Hannemanns+All%c3%a9&housenumber=12K\"},{\"residentialArea\":\"57\",\"postal\":\"2300\",\"city\":\"København S\",\"address\":\"Strandlodsvej 14, st. th\",\"itemTypeName\":\"Ejerlejlighed\",\"addressId\":\"strandlodsvej-14-st-th-2300-koebenhavn-s-01016996__14_st__th\",\"addressLink\":\"~/adresse/strandlodsvej-14-st-th-2300-koebenhavn-s-01016996__14_st__th\",\"bbrLink\":\"~/adresse/strandlodsvej-14-st-th-2300-koebenhavn-s-01016996__14_st__th\",\"soldLink\":\"~/adresse/strandlodsvej-14-st-th-2300-koebenhavn-s-01016996__14_st__th\",\"sales\":[{\"saleDate\":\"08-07-2021\",\"salePrice\":\"756.500\",\"saleTypeId\":2,\"saleType\":\"Familiehandel\",\"salesYear\":0},{\"saleDate\":\"12-09-2012\",\"salePrice\":\"1.075.000\",\"saleTypeId\":1,\"saleType\":\"Fri handel\",\"salesYear\":0},{\"saleDate\":\"16-12-2010\",\"salePrice\":\"1.075.000\",\"saleTypeId\":1,\"saleType\":\"Fri handel\",\"salesYear\":0},{\"saleDate\":\"23-04-1993\",\"salePrice\":\"209.910\",\"saleTypeId\":1,\"saleType\":\"Fri handel\",\"salesYear\":0}],\"mapPosition\":{\"hasCoordinates\":true,\"latLng\":{\"lat\":55.666633,\"lng\":12.620399}},\"wishPropertyLocationLink\":\"https://minside.boligsiden.dk/oenskeboliger?postal=2300&city=K%c3%b8benhavn+S&street=Strandlodsvej&housenumber=14&floorandside=st%7cth\"},{\"residentialArea\":\"83\",\"postal\":\"1401\",\"city\":\"København K\",\"address\":\"Strandgade 81, 1. 1\",\"itemTypeName\":\"Ejerlejlighed\",\"addressId\":\"strandgade-81-1-1-1401-koebenhavn-k-01016992__81__1___1\",\"addressLink\":\"~/adresse/strandgade-81-1-1-1401-koebenhavn-k-01016992__81__1___1\",\"bbrLink\":\"~/adresse/strandgade-81-1-1-1401-koebenhavn-k-01016992__81__1___1\",\"soldLink\":\"~/adresse/strandgade-81-1-1-1401-koebenhavn-k-01016992__81__1___1\",\"sales\":[{\"saleDate\":\"08-07-2021\",\"salePrice\":\"5.395.000\",\"saleTypeId\":4,\"saleType\":\"I øvrigt\",\"salesYear\":0},{\"saleDate\":\"27-06-2013\",\"salePrice\":\"2.420.616\",\"saleTypeId\":1,\"saleType\":\"Fri handel\",\"salesYear\":0}],\"mapPosition\":{\"hasCoordinates\":true,\"latLng\":{\"lat\":55.67712,\"lng\":12.594937}},\"wishPropertyLocationLink\":\"https://minside.boligsiden.dk/oenskeboliger?postal=1401&city=K%c3%b8benhavn+K&street=Strandgade&housenumber=81&floorandside=1%7c1\"},{\"residentialArea\":\"98\",\"postal\":\"2300\",\"city\":\"København S\",\"address\":\"Rundholtsvej 7, 1. tv\",\"itemTypeName\":\"Ejerlejlighed\",\"addressId\":\"rundholtsvej-7-1-tv-2300-koebenhavn-s-01016022___7__1__tv\",\"addressLink\":\"~/adresse/rundholtsvej-7-1-tv-2300-koebenhavn-s-01016022___7__1__tv\",\"bbrLink\":\"~/adresse/rundholtsvej-7-1-tv-2300-koebenhavn-s-01016022___7__1__tv\",\"soldLink\":\"~/adresse/rundholtsvej-7-1-tv-2300-koebenhavn-s-01016022___7__1__tv\",\"sales\":[{\"saleDate\":\"08-07-2021\",\"salePrice\":\"4.395.000\",\"saleTypeId\":4,\"saleType\":\"I øvrigt\",\"salesYear\":0},{\"saleDate\":\"14-12-2017\",\"salePrice\":\"4.171.399\",\"saleTypeId\":1,\"saleType\":\"Fri handel\",\"salesYear\":0}],\"mapPosition\":{\"hasCoordinates\":true,\"latLng\":{\"lat\":55.65329,\"lng\":12.565747}},\"wishPropertyLocationLink\":\"https://minside.boligsiden.dk/oenskeboliger?postal=2300&city=K%c3%b8benhavn+S&street=Rundholtsvej&housenumber=7&floorandside=1%7ctv\"},{\"residentialArea\":\"54\",\"postal\":\"2400\",\"city\":\"København NV\",\"address\":\"Nattergalevej 44, 2. th\",\"itemTypeName\":\"Ejerlejlighed\",\"addressId\":\"nattergalevej-44-2-th-2400-koebenhavn-nv-01014948__44__2__th\",\"addressLink\":\"~/adresse/nattergalevej-44-2-th-2400-koebenhavn-nv-01014948__44__2__th\",\"bbrLink\":\"~/adresse/nattergalevej-44-2-th-2400-koebenhavn-nv-01014948__44__2__th\",\"soldLink\":\"~/adresse/nattergalevej-44-2-th-2400-koebenhavn-nv-01014948__44__2__th\",\"sales\":[{\"saleDate\":\"08-07-2021\",\"salePrice\":\"1.850.000\",\"saleTypeId\":1,\"saleType\":\"Fri handel\",\"salesYear\":0},{\"saleDate\":\"03-08-2017\",\"salePrice\":\"1.700.000\",\"saleTypeId\":1,\"saleType\":\"Fri handel\",\"salesYear\":0},{\"saleDate\":\"04-05-2007\",\"salePrice\":\"1.448.000\",\"saleTypeId\":1,\"saleType\":\"Fri handel\",\"salesYear\":0},{\"saleDate\":\"15-12-2002\",\"salePrice\":\"845.000\",\"saleTypeId\":1,\"saleType\":\"Fri handel\",\"salesYear\":0},{\"saleDate\":\"14-02-2001\",\"salePrice\":\"262.238\",\"saleTypeId\":1,\"saleType\":\"Fri handel\",\"salesYear\":0},{\"saleDate\":\"08-07-1996\",\"salePrice\":\"268.000\",\"saleTypeId\":1,\"saleType\":\"Fri handel\",\"salesYear\":0}],\"mapPosition\":{\"hasCoordinates\":true,\"latLng\":{\"lat\":55.699394,\"lng\":12.529586}},\"wishPropertyLocationLink\":\"https://minside.boligsiden.dk/oenskeboliger?postal=2400&city=K%c3%b8benhavn+NV&street=Nattergalevej&housenumber=44&floorandside=2%7cth\"},{\"residentialArea\":\"54\",\"postal\":\"2100\",\"city\":\"København Ø\",\"address\":\"Horsensgade 11, 2. tv\",\"itemTypeName\":\"Ejerlejlighed\",\"addressId\":\"horsensgade-11-2-tv-2100-koebenhavn-oe-01013032__11__2__tv\",\"addressLink\":\"~/adresse/horsensgade-11-2-tv-2100-koebenhavn-oe-01013032__11__2__tv\",\"bbrLink\":\"~/adresse/horsensgade-11-2-tv-2100-koebenhavn-oe-01013032__11__2__tv\",\"soldLink\":\"~/adresse/horsensgade-11-2-tv-2100-koebenhavn-oe-01013032__11__2__tv\",\"sales\":[{\"saleDate\":\"08-07-2021\",\"salePrice\":\"1.062.500\",\"saleTypeId\":2,\"saleType\":\"Familiehandel\",\"salesYear\":0},{\"saleDate\":\"14-11-2016\",\"salePrice\":\"2.495.000\",\"saleTypeId\":1,\"saleType\":\"Fri handel\",\"salesYear\":0},{\"saleDate\":\"09-11-2007\",\"salePrice\":\"1.750.000\",\"saleTypeId\":1,\"saleType\":\"Fri handel\",\"salesYear\":0},{\"saleDate\":\"15-10-2006\",\"salePrice\":\"1.395.000\",\"saleTypeId\":2,\"saleType\":\"Familiehandel\",\"salesYear\":0},{\"saleDate\":\"05-07-2004\",\"salePrice\":\"1.395.000\",\"saleTypeId\":1,\"saleType\":\"Fri handel\",\"salesYear\":0},{\"saleDate\":\"02-02-2004\",\"salePrice\":\"900.000\",\"saleTypeId\":1,\"saleType\":\"Fri handel\",\"salesYear\":0}],\"mapPosition\":{\"hasCoordinates\":true,\"latLng\":{\"lat\":55.704822,\"lng\":12.5864}},\"wishPropertyLocationLink\":\"https://minside.boligsiden.dk/oenskeboliger?postal=2100&city=K%c3%b8benhavn+%c3%98&street=Horsensgade&housenumber=11&floorandside=2%7ctv\"},{\"residentialArea\":\"71\",\"postal\":\"2450\",\"city\":\"København SV\",\"address\":\"Ben Websters Vej 146, st. tv\",\"itemTypeName\":\"Ejerlejlighed\",\"addressId\":\"ben-websters-vej-146-st-tv-2450-koebenhavn-sv-01018823_146_st__tv\",\"addressLink\":\"~/adresse/ben-websters-vej-146-st-tv-2450-koebenhavn-sv-01018823_146_st__tv\",\"bbrLink\":\"~/adresse/ben-websters-vej-146-st-tv-2450-koebenhavn-sv-01018823_146_st__tv\",\"soldLink\":\"~/adresse/ben-websters-vej-146-st-tv-2450-koebenhavn-sv-01018823_146_st__tv\",\"sales\":[{\"saleDate\":\"08-07-2021\",\"salePrice\":\"2.795.000\",\"saleTypeId\":4,\"saleType\":\"I øvrigt\",\"salesYear\":0},{\"saleDate\":\"21-11-2019\",\"salePrice\":\"2.500.000\",\"saleTypeId\":1,\"saleType\":\"Fri handel\",\"salesYear\":0},{\"saleDate\":\"18-07-2005\",\"salePrice\":\"1.680.000\",\"saleTypeId\":1,\"saleType\":\"Fri handel\",\"salesYear\":0}],\"mapPosition\":{\"hasCoordinates\":true,\"latLng\":{\"lat\":55.645775,\"lng\":12.553583}},\"wishPropertyLocationLink\":\"https://minside.boligsiden.dk/oenskeboliger?postal=2450&city=K%c3%b8benhavn+SV&street=Ben+Websters+Vej&housenumber=146&floorandside=st%7ctv\"},{\"residentialArea\":\"71\",\"postal\":\"2450\",\"city\":\"København SV\",\"address\":\"Ben Websters Vej 146, 3. 1\",\"itemTypeName\":\"Ejerlejlighed\",\"addressId\":\"ben-websters-vej-146-3-1-2450-koebenhavn-sv-01018823_146__3___1\",\"addressLink\":\"~/adresse/ben-websters-vej-146-3-1-2450-koebenhavn-sv-01018823_146__3___1\",\"bbrLink\":\"~/adresse/ben-websters-vej-146-3-1-2450-koebenhavn-sv-01018823_146__3___1\",\"soldLink\":\"~/adresse/ben-websters-vej-146-3-1-2450-koebenhavn-sv-01018823_146__3___1\",\"sales\":[{\"saleDate\":\"08-07-2021\",\"salePrice\":\"2.975.000\",\"saleTypeId\":4,\"saleType\":\"I øvrigt\",\"salesYear\":0},{\"saleDate\":\"03-12-2019\",\"salePrice\":\"2.800.000\",\"saleTypeId\":1,\"saleType\":\"Fri handel\",\"salesYear\":0},{\"saleDate\":\"11-08-2005\",\"salePrice\":\"1.830.000\",\"saleTypeId\":1,\"saleType\":\"Fri handel\",\"salesYear\":0}],\"mapPosition\":{\"hasCoordinates\":true,\"latLng\":{\"lat\":55.645775,\"lng\":12.553583}},\"wishPropertyLocationLink\":\"https://minside.boligsiden.dk/oenskeboliger?postal=2450&city=K%c3%b8benhavn+SV&street=Ben+Websters+Vej&housenumber=146&floorandside=3%7c1\"},{\"residentialArea\":\"86\",\"postal\":\"2450\",\"city\":\"København SV\",\"address\":\"Alliancevej 12B, 3. th\",\"itemTypeName\":\"Ejerlejlighed\",\"addressId\":\"alliancevej-12b-3-th-2450-koebenhavn-sv-01010090_12b__3__th\",\"addressLink\":\"~/adresse/alliancevej-12b-3-th-2450-koebenhavn-sv-01010090_12b__3__th\",\"bbrLink\":\"~/adresse/alliancevej-12b-3-th-2450-koebenhavn-sv-01010090_12b__3__th\",\"soldLink\":\"~/adresse/alliancevej-12b-3-th-2450-koebenhavn-sv-01010090_12b__3__th\",\"sales\":[{\"saleDate\":\"08-07-2021\",\"salePrice\":\"3.575.000\",\"saleTypeId\":4,\"saleType\":\"I øvrigt\",\"salesYear\":0},{\"saleDate\":\"02-03-2018\",\"salePrice\":\"3.199.000\",\"saleTypeId\":1,\"saleType\":\"Fri handel\",\"salesYear\":0}],\"mapPosition\":{\"hasCoordinates\":true,\"latLng\":{\"lat\":55.648515,\"lng\":12.551812}},\"wishPropertyLocationLink\":\"https://minside.boligsiden.dk/oenskeboliger?postal=2450&city=K%c3%b8benhavn+SV&street=Alliancevej&housenumber=12B&floorandside=3%7cth\"},{\"residentialArea\":\"131\",\"postal\":\"2300\",\"city\":\"København S\",\"address\":\"Svinget 5, 1. tv\",\"itemTypeName\":\"Ejerlejlighed\",\"addressId\":\"svinget-5-1-tv-2300-koebenhavn-s-01017196___5__1__tv\",\"addressLink\":\"~/adresse/svinget-5-1-tv-2300-koebenhavn-s-01017196___5__1__tv\",\"bbrLink\":\"~/adresse/svinget-5-1-tv-2300-koebenhavn-s-01017196___5__1__tv\",\"soldLink\":\"~/adresse/svinget-5-1-tv-2300-koebenhavn-s-01017196___5__1__tv\",\"sales\":[{\"saleDate\":\"07-07-2021\",\"salePrice\":\"5.630.000\",\"saleTypeId\":1,\"saleType\":\"Fri handel\",\"salesYear\":0},{\"saleDate\":\"22-12-2002\",\"salePrice\":\"1.995.000\",\"saleTypeId\":1,\"saleType\":\"Fri handel\",\"salesYear\":0}],\"mapPosition\":{\"hasCoordinates\":true,\"latLng\":{\"lat\":55.665808,\"lng\":12.596778}},\"wishPropertyLocationLink\":\"https://minside.boligsiden.dk/oenskeboliger?postal=2300&city=K%c3%b8benhavn+S&street=Svinget&housenumber=5&floorandside=1%7ctv\"},{\"residentialArea\":\"59\",\"postal\":\"2300\",\"city\":\"København S\",\"address\":\"Kretavej 15, 4. tv\",\"itemTypeName\":\"Ejerlejlighed\",\"addressId\":\"kretavej-15-4-tv-2300-koebenhavn-s-01013944__15__4__tv\",\"addressLink\":\"~/adresse/kretavej-15-4-tv-2300-koebenhavn-s-01013944__15__4__tv\",\"bbrLink\":\"~/adresse/kretavej-15-4-tv-2300-koebenhavn-s-01013944__15__4__tv\",\"soldLink\":\"~/adresse/kretavej-15-4-tv-2300-koebenhavn-s-01013944__15__4__tv\",\"sales\":[{\"saleDate\":\"07-07-2021\",\"salePrice\":\"2.715.000\",\"saleTypeId\":1,\"saleType\":\"Fri handel\",\"salesYear\":0},{\"saleDate\":\"19-02-2021\",\"salePrice\":\"2.005.000\",\"saleTypeId\":1,\"saleType\":\"Fri handel\",\"salesYear\":0}],\"mapPosition\":{\"hasCoordinates\":true,\"latLng\":{\"lat\":55.652885,\"lng\":12.618826}},\"wishPropertyLocationLink\":\"https://minside.boligsiden.dk/oenskeboliger?postal=2300&city=K%c3%b8benhavn+S&street=Kretavej&housenumber=15&floorandside=4%7ctv\"},{\"residentialArea\":\"43\",\"postal\":\"2300\",\"city\":\"København S\",\"address\":\"Jansvej 3, st. 1\",\"itemTypeName\":\"Ejerlejlighed\",\"addressId\":\"jansvej-3-st-1-2300-koebenhavn-s-01013340___3_st___1\",\"addressLink\":\"~/adresse/jansvej-3-st-1-2300-koebenhavn-s-01013340___3_st___1\",\"bbrLink\":\"~/adresse/jansvej-3-st-1-2300-koebenhavn-s-01013340___3_st___1\",\"soldLink\":\"~/adresse/jansvej-3-st-1-2300-koebenhavn-s-01013340___3_st___1\",\"sales\":[{\"saleDate\":\"07-07-2021\",\"salePrice\":\"1.775.000\",\"saleTypeId\":1,\"saleType\":\"Fri handel\",\"salesYear\":0},{\"saleDate\":\"28-02-2017\",\"salePrice\":\"1.301.000\",\"saleTypeId\":1,\"saleType\":\"Fri handel\",\"salesYear\":0},{\"saleDate\":\"01-02-2011\",\"salePrice\":\"699.000\",\"saleTypeId\":1,\"saleType\":\"Fri handel\",\"salesYear\":0}],\"mapPosition\":{\"hasCoordinates\":true,\"latLng\":{\"lat\":55.646812,\"lng\":12.617121}},\"wishPropertyLocationLink\":\"https://minside.boligsiden.dk/oenskeboliger?postal=2300&city=K%c3%b8benhavn+S&street=Jansvej&housenumber=3&floorandside=st%7c1\"},{\"residentialArea\":\"124\",\"postal\":\"2300\",\"city\":\"København S\",\"address\":\"Ejler Billes Allé 40, 1. tv\",\"itemTypeName\":\"Ejerlejlighed\",\"addressId\":\"ejler-billes-alle-40-1-tv-2300-koebenhavn-s-01011477__40__1__tv\",\"addressLink\":\"~/adresse/ejler-billes-alle-40-1-tv-2300-koebenhavn-s-01011477__40__1__tv\",\"bbrLink\":\"~/adresse/ejler-billes-alle-40-1-tv-2300-koebenhavn-s-01011477__40__1__tv\",\"soldLink\":\"~/adresse/ejler-billes-alle-40-1-tv-2300-koebenhavn-s-01011477__40__1__tv\",\"sales\":[{\"saleDate\":\"07-07-2021\",\"salePrice\":\"4.149.000\",\"saleTypeId\":1,\"saleType\":\"Fri handel\",\"salesYear\":0}],\"mapPosition\":{\"hasCoordinates\":true,\"latLng\":{\"lat\":55.622974,\"lng\":12.569315}},\"wishPropertyLocationLink\":\"https://minside.boligsiden.dk/oenskeboliger?postal=2300&city=K%c3%b8benhavn+S&street=Ejler+Billes+All%c3%a9&housenumber=40&floorandside=1%7ctv\"},{\"residentialArea\":\"116\",\"postal\":\"2700\",\"city\":\"Brønshøj\",\"address\":\"Tølløsevej 82\",\"itemTypeName\":\"Villa\",\"addressId\":\"toelloesevej-82-2700-broenshoej-01017764__82_______\",\"addressLink\":\"~/adresse/toelloesevej-82-2700-broenshoej-01017764__82_______\",\"bbrLink\":\"~/adresse/toelloesevej-82-2700-broenshoej-01017764__82_______\",\"soldLink\":\"~/adresse/toelloesevej-82-2700-broenshoej-01017764__82_______\",\"sales\":[{\"saleDate\":\"06-07-2021\",\"salePrice\":\"1.300.000\",\"saleTypeId\":2,\"saleType\":\"Familiehandel\",\"salesYear\":0}],\"mapPosition\":{\"hasCoordinates\":true,\"latLng\":{\"lat\":55.700142,\"lng\":12.483289}},\"wishPropertyLocationLink\":\"https://minside.boligsiden.dk/oenskeboliger?postal=2700&city=Br%c3%b8nsh%c3%b8j&street=T%c3%b8ll%c3%b8sevej&housenumber=82\"}]},\"search\":{\"intervals\":{\"salePrice\":{\"active\":true,\"min\":null,\"max\":null,\"defaultMin\":0,\"defaultMax\":40,\"defaultStep\":1,\"stepValues\":[0,250000,500000,600000,700000,800000,900000,1000000,1100000,1200000,1300000,1400000,1500000,1600000,1700000,1800000,1900000,2000000,2100000,2200000,2300000,2400000,2500000,2600000,2700000,2800000,2900000,3000000,3250000,3500000,3750000,4000000,4250000,4500000,4750000,5000000,6000000,7000000,8000000,9000000,10000000],\"typeName\":\"SalePrice\",\"name\":\"Salgspris\",\"displayMin\":0,\"displayMax\":10000000,\"suffix\":\"kr.\"},\"areaResidential\":{\"active\":true,\"min\":null,\"max\":null,\"defaultMin\":0,\"defaultMax\":26,\"defaultStep\":1,\"stepValues\":[0,50,60,70,80,90,100,110,120,130,140,150,160,170,180,190,200,210,220,230,240,250,260,270,280,290,300],\"typeName\":\"AreaResidential\",\"name\":\"Areal\",\"displayMin\":0,\"displayMax\":300,\"suffix\":\"m²\"}},\"itemTypes\":[{\"number\":100,\"name\":\"Villa\",\"selected\":true},{\"number\":200,\"name\":\"Rækkehus\",\"selected\":true},{\"number\":300,\"name\":\"Ejerlejlighed\",\"selected\":true},{\"number\":400,\"name\":\"Fritidsbolig\",\"selected\":true},{\"number\":0,\"name\":\"PropertySaleSearchItemType_None\",\"selected\":true},{\"number\":600,\"name\":\"Landejendom\",\"selected\":true},{\"number\":0,\"name\":\"PropertySaleSearchItemType_None\",\"selected\":true},{\"number\":0,\"name\":\"PropertySaleSearchItemType_None\",\"selected\":true},{\"number\":0,\"name\":\"PropertySaleSearchItemType_None\",\"selected\":true}],\"situation\":{\"situationType\":0,\"address\":\"København\",\"clickableMap\":{\"countries\":[],\"municipalities\":[{\"number\":\"101\",\"name\":\"København\"}],\"postals\":[]},\"polygonMapPoints\":null,\"pointRadiuses\":null,\"hasStreetName\":false,\"radius\":0,\"cities\":null,\"postals\":null,\"areaNames\":null},\"searchId\":\"00000000000000000000000000000000\",\"salePeriod\":{\"from\":\"2014-01-01T00:00:00\",\"to\":\"2021-12-31T00:00:00\"},\"saleType\":\"None\"}},\"metaTags\":{\"title\":\"Solgte boliger og grunde i 101 kommune – Se salgspriser på alle boliger\",\"description\":\"Se, hvad ejerboliger, andelsboliger, sommerhuse og byggegrunde bliver solgt til i 101 kommune. Få det helt store overblik over solgte boliger på Boligsiden\",\"heading\":\"Solgte boliger og grunde i 101 kommune\",\"openGraph\":{\"title\":null,\"description\":null,\"urlstring\":null,\"image\":null,\"imageWidth\":null,\"imageHeight\":null}},\"canonicalUrlstring\":\"https://www.boligsiden.dk/salgspris/solgt/alle/1?kommune=101\"}'"
      ]
     },
     "metadata": {},
     "execution_count": 18
    }
   ],
   "metadata": {}
  },
  {
   "cell_type": "code",
   "execution_count": 13,
   "source": [
    "# Get the available information and storing in dataframe\n",
    "df = pd.DataFrame(page.json()['searchResult']['result']['propertySales'])\n",
    "df.head(5)"
   ],
   "outputs": [
    {
     "output_type": "execute_result",
     "data": {
      "text/plain": [
       "  residentialArea postal         city                    address  \\\n",
       "0             101   2300  København S  Islands Brygge 38B, 6. tv   \n",
       "1             210   1253  København K     Toldbodgade 36B, 1. th   \n",
       "2             155   2300  København S               Carlsgade 5B   \n",
       "3              57   2200  København N      Hamletsgade 17, 4. th   \n",
       "4              95   2700     Brønshøj            Enigheds Allé 4   \n",
       "\n",
       "    itemTypeName                                          addressId  \\\n",
       "0  Ejerlejlighed  islands-brygge-38b-6-tv-2300-koebenhavn-s-0101...   \n",
       "1  Ejerlejlighed  toldbodgade-36b-1-th-1253-koebenhavn-k-0101754...   \n",
       "2  Ejerlejlighed  carlsgade-5b-2300-koebenhavn-s-01011080__5b___...   \n",
       "3  Ejerlejlighed  hamletsgade-17-4-th-2200-koebenhavn-n-01012552...   \n",
       "4       Rækkehus  enigheds-alle-4-2700-broenshoej-01011624___4__...   \n",
       "\n",
       "                                         addressLink  \\\n",
       "0  ~/adresse/islands-brygge-38b-6-tv-2300-koebenh...   \n",
       "1  ~/adresse/toldbodgade-36b-1-th-1253-koebenhavn...   \n",
       "2  ~/adresse/carlsgade-5b-2300-koebenhavn-s-01011...   \n",
       "3  ~/adresse/hamletsgade-17-4-th-2200-koebenhavn-...   \n",
       "4  ~/adresse/enigheds-alle-4-2700-broenshoej-0101...   \n",
       "\n",
       "                                             bbrLink  \\\n",
       "0  ~/adresse/islands-brygge-38b-6-tv-2300-koebenh...   \n",
       "1  ~/adresse/toldbodgade-36b-1-th-1253-koebenhavn...   \n",
       "2  ~/adresse/carlsgade-5b-2300-koebenhavn-s-01011...   \n",
       "3  ~/adresse/hamletsgade-17-4-th-2200-koebenhavn-...   \n",
       "4  ~/adresse/enigheds-alle-4-2700-broenshoej-0101...   \n",
       "\n",
       "                                            soldLink  \\\n",
       "0  ~/adresse/islands-brygge-38b-6-tv-2300-koebenh...   \n",
       "1  ~/adresse/toldbodgade-36b-1-th-1253-koebenhavn...   \n",
       "2  ~/adresse/carlsgade-5b-2300-koebenhavn-s-01011...   \n",
       "3  ~/adresse/hamletsgade-17-4-th-2200-koebenhavn-...   \n",
       "4  ~/adresse/enigheds-alle-4-2700-broenshoej-0101...   \n",
       "\n",
       "                                               sales  \\\n",
       "0  [{'saleDate': '22-12-2021', 'salePrice': '6.75...   \n",
       "1  [{'saleDate': '13-12-2021', 'salePrice': '14.6...   \n",
       "2  [{'saleDate': '20-10-2021', 'salePrice': '7.49...   \n",
       "3  [{'saleDate': '15-07-2021', 'salePrice': '1.15...   \n",
       "4  [{'saleDate': '15-07-2021', 'salePrice': '2.25...   \n",
       "\n",
       "                                         mapPosition  \\\n",
       "0  {'hasCoordinates': True, 'latLng': {'lat': 55....   \n",
       "1  {'hasCoordinates': True, 'latLng': {'lat': 55....   \n",
       "2  {'hasCoordinates': True, 'latLng': {'lat': 55....   \n",
       "3  {'hasCoordinates': True, 'latLng': {'lat': 55....   \n",
       "4  {'hasCoordinates': True, 'latLng': {'lat': 55....   \n",
       "\n",
       "                            wishPropertyLocationLink  \n",
       "0  https://minside.boligsiden.dk/oenskeboliger?po...  \n",
       "1  https://minside.boligsiden.dk/oenskeboliger?po...  \n",
       "2  https://minside.boligsiden.dk/oenskeboliger?po...  \n",
       "3  https://minside.boligsiden.dk/oenskeboliger?po...  \n",
       "4  https://minside.boligsiden.dk/oenskeboliger?po...  "
      ],
      "text/html": [
       "<div>\n",
       "<style scoped>\n",
       "    .dataframe tbody tr th:only-of-type {\n",
       "        vertical-align: middle;\n",
       "    }\n",
       "\n",
       "    .dataframe tbody tr th {\n",
       "        vertical-align: top;\n",
       "    }\n",
       "\n",
       "    .dataframe thead th {\n",
       "        text-align: right;\n",
       "    }\n",
       "</style>\n",
       "<table border=\"1\" class=\"dataframe\">\n",
       "  <thead>\n",
       "    <tr style=\"text-align: right;\">\n",
       "      <th></th>\n",
       "      <th>residentialArea</th>\n",
       "      <th>postal</th>\n",
       "      <th>city</th>\n",
       "      <th>address</th>\n",
       "      <th>itemTypeName</th>\n",
       "      <th>addressId</th>\n",
       "      <th>addressLink</th>\n",
       "      <th>bbrLink</th>\n",
       "      <th>soldLink</th>\n",
       "      <th>sales</th>\n",
       "      <th>mapPosition</th>\n",
       "      <th>wishPropertyLocationLink</th>\n",
       "    </tr>\n",
       "  </thead>\n",
       "  <tbody>\n",
       "    <tr>\n",
       "      <th>0</th>\n",
       "      <td>101</td>\n",
       "      <td>2300</td>\n",
       "      <td>København S</td>\n",
       "      <td>Islands Brygge 38B, 6. tv</td>\n",
       "      <td>Ejerlejlighed</td>\n",
       "      <td>islands-brygge-38b-6-tv-2300-koebenhavn-s-0101...</td>\n",
       "      <td>~/adresse/islands-brygge-38b-6-tv-2300-koebenh...</td>\n",
       "      <td>~/adresse/islands-brygge-38b-6-tv-2300-koebenh...</td>\n",
       "      <td>~/adresse/islands-brygge-38b-6-tv-2300-koebenh...</td>\n",
       "      <td>[{'saleDate': '22-12-2021', 'salePrice': '6.75...</td>\n",
       "      <td>{'hasCoordinates': True, 'latLng': {'lat': 55....</td>\n",
       "      <td>https://minside.boligsiden.dk/oenskeboliger?po...</td>\n",
       "    </tr>\n",
       "    <tr>\n",
       "      <th>1</th>\n",
       "      <td>210</td>\n",
       "      <td>1253</td>\n",
       "      <td>København K</td>\n",
       "      <td>Toldbodgade 36B, 1. th</td>\n",
       "      <td>Ejerlejlighed</td>\n",
       "      <td>toldbodgade-36b-1-th-1253-koebenhavn-k-0101754...</td>\n",
       "      <td>~/adresse/toldbodgade-36b-1-th-1253-koebenhavn...</td>\n",
       "      <td>~/adresse/toldbodgade-36b-1-th-1253-koebenhavn...</td>\n",
       "      <td>~/adresse/toldbodgade-36b-1-th-1253-koebenhavn...</td>\n",
       "      <td>[{'saleDate': '13-12-2021', 'salePrice': '14.6...</td>\n",
       "      <td>{'hasCoordinates': True, 'latLng': {'lat': 55....</td>\n",
       "      <td>https://minside.boligsiden.dk/oenskeboliger?po...</td>\n",
       "    </tr>\n",
       "    <tr>\n",
       "      <th>2</th>\n",
       "      <td>155</td>\n",
       "      <td>2300</td>\n",
       "      <td>København S</td>\n",
       "      <td>Carlsgade 5B</td>\n",
       "      <td>Ejerlejlighed</td>\n",
       "      <td>carlsgade-5b-2300-koebenhavn-s-01011080__5b___...</td>\n",
       "      <td>~/adresse/carlsgade-5b-2300-koebenhavn-s-01011...</td>\n",
       "      <td>~/adresse/carlsgade-5b-2300-koebenhavn-s-01011...</td>\n",
       "      <td>~/adresse/carlsgade-5b-2300-koebenhavn-s-01011...</td>\n",
       "      <td>[{'saleDate': '20-10-2021', 'salePrice': '7.49...</td>\n",
       "      <td>{'hasCoordinates': True, 'latLng': {'lat': 55....</td>\n",
       "      <td>https://minside.boligsiden.dk/oenskeboliger?po...</td>\n",
       "    </tr>\n",
       "    <tr>\n",
       "      <th>3</th>\n",
       "      <td>57</td>\n",
       "      <td>2200</td>\n",
       "      <td>København N</td>\n",
       "      <td>Hamletsgade 17, 4. th</td>\n",
       "      <td>Ejerlejlighed</td>\n",
       "      <td>hamletsgade-17-4-th-2200-koebenhavn-n-01012552...</td>\n",
       "      <td>~/adresse/hamletsgade-17-4-th-2200-koebenhavn-...</td>\n",
       "      <td>~/adresse/hamletsgade-17-4-th-2200-koebenhavn-...</td>\n",
       "      <td>~/adresse/hamletsgade-17-4-th-2200-koebenhavn-...</td>\n",
       "      <td>[{'saleDate': '15-07-2021', 'salePrice': '1.15...</td>\n",
       "      <td>{'hasCoordinates': True, 'latLng': {'lat': 55....</td>\n",
       "      <td>https://minside.boligsiden.dk/oenskeboliger?po...</td>\n",
       "    </tr>\n",
       "    <tr>\n",
       "      <th>4</th>\n",
       "      <td>95</td>\n",
       "      <td>2700</td>\n",
       "      <td>Brønshøj</td>\n",
       "      <td>Enigheds Allé 4</td>\n",
       "      <td>Rækkehus</td>\n",
       "      <td>enigheds-alle-4-2700-broenshoej-01011624___4__...</td>\n",
       "      <td>~/adresse/enigheds-alle-4-2700-broenshoej-0101...</td>\n",
       "      <td>~/adresse/enigheds-alle-4-2700-broenshoej-0101...</td>\n",
       "      <td>~/adresse/enigheds-alle-4-2700-broenshoej-0101...</td>\n",
       "      <td>[{'saleDate': '15-07-2021', 'salePrice': '2.25...</td>\n",
       "      <td>{'hasCoordinates': True, 'latLng': {'lat': 55....</td>\n",
       "      <td>https://minside.boligsiden.dk/oenskeboliger?po...</td>\n",
       "    </tr>\n",
       "  </tbody>\n",
       "</table>\n",
       "</div>"
      ]
     },
     "metadata": {},
     "execution_count": 13
    }
   ],
   "metadata": {}
  },
  {
   "cell_type": "code",
   "execution_count": null,
   "source": [
    "# Get a list over addresses\n",
    "address_mislabeled = df['addressLink'].to_list()\n",
    "address = []\n",
    "\n",
    "for i in range(len(address_mislabeled)):\n",
    "    address.append(address_mislabeled[i].replace(\"~\",\"\"))\n",
    "\n",
    "# print(address_mislabeled[0:3])\n",
    "# print(address[0:3])"
   ],
   "outputs": [],
   "metadata": {}
  },
  {
   "cell_type": "code",
   "execution_count": null,
   "source": [
    "print(address[0])"
   ],
   "outputs": [],
   "metadata": {}
  },
  {
   "cell_type": "code",
   "execution_count": null,
   "source": [
    "def get_url(address):\n",
    "    url =  f\"https://www.boligsiden.dk{address}\"\n",
    "    return url\n"
   ],
   "outputs": [],
   "metadata": {}
  },
  {
   "cell_type": "code",
   "execution_count": null,
   "source": [
    "add = address[0]\n",
    "url = get_url(add)\n",
    "\n",
    "response = requests.get(url) \n",
    "soup = BeautifulSoup(response.text, 'html.parser')"
   ],
   "outputs": [],
   "metadata": {}
  },
  {
   "cell_type": "code",
   "execution_count": null,
   "source": [
    "# data = soup.find_all('div', {'id':'dynamicText'})\n",
    "data = soup.find_all('div', {'class':'u-w-full u-w-1/2@sm u-pl-4 u-pr-6'})\n",
    "data[0]"
   ],
   "outputs": [],
   "metadata": {}
  }
 ],
 "metadata": {
  "orig_nbformat": 4,
  "language_info": {
   "name": "python",
   "version": "3.7.4",
   "mimetype": "text/x-python",
   "codemirror_mode": {
    "name": "ipython",
    "version": 3
   },
   "pygments_lexer": "ipython3",
   "nbconvert_exporter": "python",
   "file_extension": ".py"
  },
  "kernelspec": {
   "name": "python3",
   "display_name": "Python 3.7.4 64-bit ('base': conda)"
  },
  "interpreter": {
   "hash": "dca0ade3e726a953b501b15e8e990130d2b7799f14cfd9f4271676035ebe5511"
  }
 },
 "nbformat": 4,
 "nbformat_minor": 2
}