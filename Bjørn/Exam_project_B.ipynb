{
 "cells": [
  {
   "cell_type": "markdown",
   "source": [
    "# Exam project code"
   ],
   "metadata": {}
  },
  {
   "cell_type": "code",
   "execution_count": null,
   "source": [
    "# Scraping ft.dk to obtain a dataset of members of the danish parliament\n"
   ],
   "outputs": [],
   "metadata": {}
  }
 ],
 "metadata": {
  "orig_nbformat": 4,
  "language_info": {
   "name": "python"
  }
 },
 "nbformat": 4,
 "nbformat_minor": 2
}